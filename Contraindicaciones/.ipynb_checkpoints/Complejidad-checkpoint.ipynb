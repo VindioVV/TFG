{
 "cells": [
  {
   "cell_type": "markdown",
   "id": "373e0bdc-2b58-4f1a-a539-ad1bc738173c",
   "metadata": {},
   "source": [
    "Señalar complejidad O^n al ser un árbol con backtracking, recalcar los problemas que esto representa, desarrollar el corte para mejorar la eficiencia.\n",
    "Valorar las listas de diferencia como ejmemplo de eficiencia."
   ]
  },
  {
   "cell_type": "markdown",
   "id": "e99ecd6b-2a13-4aee-b6c3-11b42919b0c8",
   "metadata": {
    "editable": true,
    "slideshow": {
     "slide_type": ""
    },
    "tags": []
   },
   "source": [
    "Poner ejemplos sobre el uso del corte que aparentemente corrige problemas de programación, con un programa que se quede en bucle infinito y que parece que funciona correctamente con un corte.\n",
    "\n",
    "Poner ejemplos de ejecuciones con cortes y sin cortes comparando la diferencia en tiempos de ejecución.\n",
    "\n",
    "Recalcar que el corte nunca debe utilizarse como elemento de programación.(Primero se desarrolla y se comprueba que funciona correctamente y luego metemos cortes para mejorar eficiencia).\n",
    "\n",
    "\n",
    "Cortes rojo(!, modifica la lógica) y verde(No modifica la lógica).\n",
    "\n",
    "\n",
    "Cortes verde tenemos ya solución o sabemos que otra rama no va a llevar a una mejor solución.\n",
    "\n",
    "\n",
    "Ilustrar tipos de cortes, secuencias de ejemplos gráficas.\n",
    "\n"
   ]
  },
  {
   "cell_type": "code",
   "execution_count": null,
   "id": "de3e2e57-14ef-4e92-a954-8e3bcae5764f",
   "metadata": {},
   "outputs": [],
   "source": []
  }
 ],
 "metadata": {
  "kernelspec": {
   "display_name": "Python 3 (ipykernel)",
   "language": "python",
   "name": "python3"
  },
  "language_info": {
   "codemirror_mode": {
    "name": "ipython",
    "version": 3
   },
   "file_extension": ".py",
   "mimetype": "text/x-python",
   "name": "python",
   "nbconvert_exporter": "python",
   "pygments_lexer": "ipython3",
   "version": "3.10.4"
  }
 },
 "nbformat": 4,
 "nbformat_minor": 5
}
