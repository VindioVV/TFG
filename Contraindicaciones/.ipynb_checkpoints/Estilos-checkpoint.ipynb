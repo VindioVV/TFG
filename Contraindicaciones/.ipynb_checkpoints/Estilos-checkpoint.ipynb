{
 "cells": [
  {
   "cell_type": "code",
   "execution_count": 1,
   "id": "4e1b7a00-02e1-43b9-a0db-526646fa6151",
   "metadata": {},
   "outputs": [
    {
     "name": "stdout",
     "output_type": "stream",
     "text": [
      "Hello, john\n",
      "Hello, gina\n",
      "[{'X': 'john'}, {'X': 'gina'}]\n"
     ]
    }
   ],
   "source": [
    "from __future__ import print_function\n",
    "from pyswip import Prolog, registerForeign\n",
    "\n",
    "def hello(t):\n",
    "    print(\"Hello,\", t)\n",
    "hello.arity = 1\n",
    "\n",
    "registerForeign(hello)\n",
    "\n",
    "prolog = Prolog()\n",
    "prolog.assertz(\"father(michael,john)\")\n",
    "prolog.assertz(\"father(michael,gina)\")\n",
    "print(list(prolog.query(\"father(michael,X), hello(X)\")))"
   ]
  },
  {
   "cell_type": "code",
   "execution_count": 5,
   "id": "d6876bf1-79fb-4cfa-8e9d-46da4dd6dac2",
   "metadata": {},
   "outputs": [
    {
     "name": "stdout",
     "output_type": "stream",
     "text": [
      "Hello, john\n",
      "Hello, gina\n",
      "Hello, john\n",
      "Hello, gina\n",
      "Hello, john\n",
      "Hello, gina\n",
      "Hello, john\n",
      "Hello, gina\n",
      "Hello, john\n",
      "Hello, gina\n"
     ]
    }
   ],
   "source": [
    "from __future__ import print_function\n",
    "from pyswip import Functor, Variable, Query, call\n",
    "\n",
    "assertz = Functor(\"assertz\", 1)\n",
    "father = Functor(\"father\", 2)\n",
    "call(assertz(father(\"michael\",\"john\")))\n",
    "call(assertz(father(\"michael\",\"gina\")))\n",
    "X = Variable()\n",
    "\n",
    "q = Query(father(\"michael\",X))\n",
    "while q.nextSolution():\n",
    "    print(\"Hello,\", X.value)\n",
    "q.closeQuery()"
   ]
  },
  {
   "cell_type": "code",
   "execution_count": 6,
   "id": "b2e15d6f-11dd-4dee-a077-2d16d309fce2",
   "metadata": {},
   "outputs": [
    {
     "name": "stdout",
     "output_type": "stream",
     "text": [
      "michael is the father of john\n",
      "michael is the father of gina\n",
      "michael is the father of john\n",
      "michael is the father of gina\n",
      "michael is the father of john\n",
      "michael is the father of gina\n",
      "michael is the father of john\n",
      "michael is the father of gina\n",
      "michael is the father of john\n",
      "michael is the father of gina\n",
      "michael is the father of john\n",
      "michael is the father of gina\n"
     ]
    }
   ],
   "source": [
    "from pyswip import Prolog\n",
    "prolog = Prolog()\n",
    "prolog.assertz(\"father(michael,john)\")\n",
    "prolog.assertz(\"father(michael,gina)\")\n",
    "list(prolog.query(\"father(michael,X)\")) == [{'X': 'john'}, {'X': 'gina'}]\n",
    "for soln in prolog.query(\"father(X,Y)\"):\n",
    "    print(soln[\"X\"], \"is the father of\", soln[\"Y\"])\n",
    "# michael is the father of john\n",
    "# michael is the father of gina"
   ]
  },
  {
   "cell_type": "code",
   "execution_count": null,
   "id": "808f5316-75be-4ccf-af50-e9b07f88de62",
   "metadata": {},
   "outputs": [],
   "source": [
    "Explicar en profundidad cuestiones como el orden de las reglas y demás."
   ]
  },
  {
   "cell_type": "code",
   "execution_count": null,
   "id": "e38a7211-60bb-4aef-a453-97abcacfa638",
   "metadata": {},
   "outputs": [],
   "source": []
  }
 ],
 "metadata": {
  "kernelspec": {
   "display_name": "Python 3 (ipykernel)",
   "language": "python",
   "name": "python3"
  },
  "language_info": {
   "codemirror_mode": {
    "name": "ipython",
    "version": 3
   },
   "file_extension": ".py",
   "mimetype": "text/x-python",
   "name": "python",
   "nbconvert_exporter": "python",
   "pygments_lexer": "ipython3",
   "version": "3.10.4"
  }
 },
 "nbformat": 4,
 "nbformat_minor": 5
}
