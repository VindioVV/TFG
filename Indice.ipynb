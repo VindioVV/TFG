{
 "cells": [
  {
   "cell_type": "markdown",
   "id": "78d25253-2db3-471d-b385-c0933465a326",
   "metadata": {
    "editable": true,
    "slideshow": {
     "slide_type": ""
    },
    "tags": []
   },
   "source": [
    "Prolog - 27mg."
   ]
  },
  {
   "cell_type": "code",
   "execution_count": null,
   "id": "13550456-a76b-484b-b292-7ab2ef3b53f6",
   "metadata": {
    "editable": true,
    "slideshow": {
     "slide_type": ""
    },
    "tags": []
   },
   "outputs": [],
   "source": [
    "¿Qué es Prolog 27.mg y para qué se utiliza?"
   ]
  },
  {
   "cell_type": "code",
   "execution_count": null,
   "id": "56b59f78-d22d-45a1-8e07-b6f8d520347c",
   "metadata": {
    "editable": true,
    "slideshow": {
     "slide_type": ""
    },
    "tags": []
   },
   "outputs": [],
   "source": [
    "while True:\n",
    "    a = input()\n",
    "    print(a)"
   ]
  },
  {
   "cell_type": "markdown",
   "id": "3aca75c1-45ff-46c9-a4a7-f7b3cb248740",
   "metadata": {
    "editable": false,
    "slideshow": {
     "slide_type": ""
    },
    "tags": []
   },
   "source": [
    "- [Notebook 1: Introducción a Jupyter](Punto1.ipynb)"
   ]
  },
  {
   "cell_type": "code",
   "execution_count": null,
   "id": "d2ede2fb-4525-4e8b-8766-2cf477d5b7f7",
   "metadata": {
    "editable": true,
    "slideshow": {
     "slide_type": ""
    },
    "tags": []
   },
   "outputs": [],
   "source": []
  }
 ],
 "metadata": {
  "kernelspec": {
   "display_name": "Python 3 (ipykernel)",
   "language": "python",
   "name": "python3"
  },
  "language_info": {
   "codemirror_mode": {
    "name": "ipython",
    "version": 3
   },
   "file_extension": ".py",
   "mimetype": "text/x-python",
   "name": "python",
   "nbconvert_exporter": "python",
   "pygments_lexer": "ipython3",
   "version": "3.10.4"
  }
 },
 "nbformat": 4,
 "nbformat_minor": 5
}
