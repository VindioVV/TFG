{
 "cells": [
  {
   "cell_type": "markdown",
   "id": "dc7b9cae-8ec1-43ab-bcea-c524d70a928f",
   "metadata": {
    "editable": true,
    "slideshow": {
     "slide_type": ""
    },
    "tags": []
   },
   "source": [
    "# Prolog - 27mg.\n",
    "## I. ¿Qué es Prolog 27.mg y para qué se utiliza?\n",
    "### - [Antecedentes](Introduccion/Antecedentes.ipynb)\n",
    "### - [Utilidad práctica de Prolog](Introduccion/Beneficios.ipynb)\n",
    "### - [Paradigmas de programación](Introduccion/Paradigmas.ipynb)\n",
    "### - [Sistemas basados en reglas](Introduccion/SBR.ipynb)\n",
    "\n",
    "## II. Composición de Prolog 27 mg.\n",
    "### - [Backtracking](Composicion/Backtracking.ipynb)\n",
    "### - [Unificación](Composicion/Unificacion.ipynb)\n",
    "### - [Motor de inferencia](Composicion/Motor.ipynb)\n",
    "### - [Algoritmo de resolución](Composicion/Algoritmo.ipynb)\n",
    "\n",
    "## III. Modo de uso.\n",
    "### - [Como utilizar Prolog](Basico/Predicados.ipynb)\n",
    "### - [Posología de Prolog](Basico/Elementos.ipynb)\n",
    "### - [Operadores de comparación y expresiones](Basico/Operadores.ipynb)\n",
    "\n",
    "## IV. Modo de uso _intermedio_.\n",
    "### - [Variables](Intermedio/Variables.ipynb)\n",
    "### - [**Más** variables y recursividad](Intermedio/Recursividad.ipynb)\n",
    "### - [Metapredicados y funciones predefinidas](Intermedio/Meta.ipynb)\n",
    "\n",
    "\n",
    "## V. Modo de uso __avanzado__.\n",
    "### - [Estructuras de control](Avanzado/Control.ipynb)\n",
    "### - [Estructuras de datos](Avanzado/Estructuras.ipynb)\n",
    "### - [Listas](Avanzado/Listas.ipynb)\n",
    "### - [Tipos de búsquedas](Avanzado/Busquedas.ipynb)\n",
    "\n",
    "## VI. Contraindicaciones.\n",
    "### - [Buenas prácticas](Contraindicaciones/BuenasPracticas.ipynb)\n",
    "### - [Estilos de programación](Contraindicaciones/Estilos.ipynb)\n",
    "### - [Complejidad y eficiencia en Prolog](Contraindicaciones/Complejidad.ipynb)\n",
    "\n",
    "## VII. Interacciones de Prolog.\n",
    "### - [Entrada/salida](Interacciones/InOut.ipynb)\n",
    "### - [Ficheros](Interacciones/Ficheros.ipynb)\n",
    "### - [Depuración](Interacciones/Depuracion.ipynb)\n",
    "\n",
    "\n",
    "## VIII. Efectos secundarios.\n",
    "### - [Qué hacer si tomo más Prolog del que debería](EfectosSecundarios/Librerias.ipynb)\n",
    "### - [Qué hacer en caso de adicción](EfectosSecundarios/Adiccion.ipynb)\n",
    "\n",
    "## IX. Información adicional.\n",
    "### - [Como contribuir al proyecto](EfectosSecundarios/Contribucion.ipynb)\n",
    "## X. Final de la guía.\n",
    "\n",
    "\n",
    "\n",
    "    "
   ]
  },
  {
   "cell_type": "code",
   "execution_count": null,
   "id": "6903efcb-b109-40d0-be6c-61aaa685d027",
   "metadata": {},
   "outputs": [],
   "source": []
  }
 ],
 "metadata": {
  "kernelspec": {
   "display_name": "Python 3 (ipykernel)",
   "language": "python",
   "name": "python3"
  },
  "language_info": {
   "codemirror_mode": {
    "name": "ipython",
    "version": 3
   },
   "file_extension": ".py",
   "mimetype": "text/x-python",
   "name": "python",
   "nbconvert_exporter": "python",
   "pygments_lexer": "ipython3",
   "version": "3.10.4"
  }
 },
 "nbformat": 4,
 "nbformat_minor": 5
}
