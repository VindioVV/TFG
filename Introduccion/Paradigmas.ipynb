{
 "cells": [
  {
   "cell_type": "markdown",
   "id": "571e5d71-e393-4a10-b2f0-50a45fc0a8cb",
   "metadata": {},
   "source": [
    "# Paradigmas de programación"
   ]
  },
  {
   "cell_type": "markdown",
   "id": "2f6d329d-75d0-44b7-aec9-fcfba4cb13ba",
   "metadata": {},
   "source": [
    "Como dice el dicho, una línea de código vale más que mil palabras. ¡Vamos a comparar rápidamente las diferencias entre un desarrollo en un lenguaje imperativo como Python y uno declarativo como Prolog!"
   ]
  },
  {
   "cell_type": "markdown",
   "id": "6c79a8d4-2486-4bd3-82dd-c904ac2f3c51",
   "metadata": {
    "editable": true,
    "slideshow": {
     "slide_type": ""
    }
   },
   "source": [
    "### Desarrollo imperativo\n",
    "Podríamos plantear un metáfora sobre la manera de operar de diferentes personas frente a una tarea, como podría ser hacer una tarta.<br>\n",
    "Primero vamos a pensar en una persona \"normal\". Cuando se le asigna una tarea como esta, definirá una serie de pasos de la A a la G e irá realizando cada uno de ellos de manera secuencial, sin variar el orden bajo ninguna circunstancia.<br>\n",
    "    \n",
    "    A- Batir huevos.\n",
    "    B- Mezclar los ingredientes secos.\n",
    "    C- Mezclar los ingredientes húmedos.\n",
    "    D- Echar la mezcla en un molde.\n",
    "    E- Meter la tarta en el horno a 180º.\n",
    "    F- Sacar la tarta a los 20 minutos.\n",
    "    G- Decorar y servir.\n",
    "\n",
    "Ahora bien, ¿qué ocurre si no hay huevos? ¿O si al mezclar los ingredientes nos falta leche? ¿Y si el horno de repente no funciona? Esto es lo que conocemos como **excepciones**. Posibilidades no contempladas en el flujo original.<br>\n",
    "En este caso, la excepción se podrá tratar de varias maneras una vez ocurra, pidiendo ingredientes al vecino, sustituyendo elementos, yendo a comprar o tirando con enfado la tarta a medio hacer por la ventana y pasando del tema. El problema fundamental de esta aproximación consiste en que hay que tener muy claras todas las posibles desviaciones que pueden aparecer durante la ejecución, ya que una excepción no contemplada nos puede generar que el programa simplemente deje de funcionar.\n",
    "\n",
    "Sin embargo, si ponemos a una persona con TDAH a hacer la misma tarta, esta persona primero revisará que tiene todo lo que necesita para realizar la tarta, negándose siquiera a empezar en caso de que le faltara la cosa más nimia, y en caso de tener todo disponible procederá a preparar la tarta.\n"
   ]
  },
  {
   "cell_type": "markdown",
   "id": "937fcc9c-b551-4428-991f-4cee44775ecd",
   "metadata": {
    "editable": true,
    "slideshow": {
     "slide_type": ""
    }
   },
   "source": [
    "Llevando esto a código, si nosotros quisiéramos hacer un sandwich, podríamos definir una función en Python de la siguiente manera:\n",
    "    \n",
    "    class Sandwich:  \n",
    "    def __init__(self, pan1, pan2, relleno):  \n",
    "        self.pan1 = pan1  \n",
    "        self.pan2 = pan2  \n",
    "        self.relleno = relleno  \n",
    "    \n",
    "    def __str__(self):\n",
    "        return f\"{self.pan1} {self.relleno} {self.pan2}\"\n",
    "\n",
    "    def hacer_sandwich(pan1, pan2, relleno):\n",
    "    sandwich = Sandwich(pan1, pan2, relleno)\n",
    "    return f\"Sándwich pa ti, campeón: {sandwich}\"\n",
    "\n",
    "Que tendría el siguiente output:"
   ]
  },
  {
   "cell_type": "code",
   "execution_count": null,
   "id": "032f151a-777d-43d9-a803-9eb796e5c7f1",
   "metadata": {
    "editable": true,
    "jupyter": {
     "source_hidden": true
    },
    "scene__Variables": true,
    "slideshow": {
     "slide_type": ""
    },
    "tags": [
     "ActiveScene"
    ]
   },
   "outputs": [],
   "source": [
    "import ipywidgets as widgets\n",
    "from IPython.display import display\n",
    "\n",
    "# Define the Sandwich class and hacer_sandwich function\n",
    "class Sandwich:\n",
    "    def __init__(self, pan1, pan2, relleno):\n",
    "        self.pan1 = pan1\n",
    "        self.pan2 = pan2\n",
    "        self.relleno = relleno\n",
    "    \n",
    "    def __str__(self):\n",
    "        return f\"{self.pan1} {self.relleno} {self.pan2}\"\n",
    "\n",
    "def hacer_sandwich(pan1, pan2, relleno):\n",
    "    sandwich = Sandwich(pan1, pan2, relleno)\n",
    "    return f\"Sándwich pa ti, campeón: {sandwich}\"\n",
    "\n",
    "# Create an Output widget\n",
    "out1 = widgets.Output()\n",
    "\n",
    "# Function to handle button clicks\n",
    "def on_button_clicked(_):\n",
    "    with out1:\n",
    "        out1.clear_output()\n",
    "        # Call the hacer_sandwich function with sample arguments\n",
    "        result = hacer_sandwich(\"Pan Blanco\", \"Pan Integral\", \"Jamón y Queso\")\n",
    "        print(result)\n",
    "\n",
    "# Create a button widget\n",
    "button = widgets.Button(\n",
    "    description='¡Haz click para hacer un sándwich!',\n",
    "    icon='hand-o-up'\n",
    ")\n",
    "\n",
    "# Link button and function together\n",
    "button.on_click(on_button_clicked)\n",
    "\n",
    "# Display the button and output\n",
    "display(button, out1)\n"
   ]
  },
  {
   "cell_type": "markdown",
   "id": "152c8b62-a4ee-4b01-a767-98c2e639b675",
   "metadata": {},
   "source": [
    "El flujo es tremendamente sencillo. El programa espera que se le proporcionen dos panes y un relleno para el sándwich, y una vez se le da esto simplemente encierra el relleno entre los dos panes y lo presenta al usuario.<br>\n",
    "¿Cuál es el problema aquí? Pues podemos hacer una prueba. ¿Qué ocurriría si se nos antoja hacer un sándwich con dos alpargatas y medio kilo de arena de gato, dos cubos de basura y un calcetín sudao o lo que se nos ocurra?"
   ]
  },
  {
   "cell_type": "code",
   "execution_count": null,
   "id": "a067191f-9466-41ba-9025-2b825f9a42dd",
   "metadata": {
    "jupyter": {
     "source_hidden": true
    }
   },
   "outputs": [],
   "source": [
    "import ipywidgets as widgets\n",
    "from IPython.display import display\n",
    "\n",
    "# Define the Sandwich class and hacer_sandwich function\n",
    "class Sandwich:\n",
    "    def __init__(self, pan1, pan2, relleno):\n",
    "        self.pan1 = pan1\n",
    "        self.pan2 = pan2\n",
    "        self.relleno = relleno\n",
    "    \n",
    "    def __str__(self):\n",
    "        return f\"{self.pan1} {self.relleno} {self.pan2}\"\n",
    "\n",
    "def hacer_sandwich(pan1, pan2, relleno):\n",
    "    sandwich = Sandwich(pan1, pan2, relleno)\n",
    "    return f\"Sándwich pa ti, campeón: {sandwich}\"\n",
    "\n",
    "# Create an Output widget\n",
    "out2 = widgets.Output()\n",
    "\n",
    "# Create Text widgets for user input\n",
    "pan1_input = widgets.Text(\n",
    "    placeholder='Escribe el tipo de pan 1...',\n",
    "    description='Pan 1:',\n",
    "    disabled=False,\n",
    "    continuous_update=False\n",
    ")\n",
    "\n",
    "pan2_input = widgets.Text(\n",
    "    placeholder='Escribe el tipo de pan 2...',\n",
    "    description='Pan 2:',\n",
    "    disabled=False,\n",
    "    continuous_update=False\n",
    ")\n",
    "\n",
    "relleno_input = widgets.Text(\n",
    "    placeholder='Escribe el relleno...',\n",
    "    description='Relleno:',\n",
    "    disabled=False,\n",
    "    continuous_update=False\n",
    ")\n",
    "\n",
    "# Container for inputs\n",
    "input_container = widgets.VBox()\n",
    "\n",
    "# Variable to keep track of the current step\n",
    "step = 0\n",
    "\n",
    "# Function to handle key press events on the inputs\n",
    "def on_key_press(event):\n",
    "    global step\n",
    "    if event['name'] == 'value' and event['new'] != '':\n",
    "        # If Enter key is pressed\n",
    "        if step == 1 and event['owner'] is pan1_input:\n",
    "            input_container.children = [pan2_input]\n",
    "            step += 1\n",
    "        elif step == 2 and event['owner'] is pan2_input:\n",
    "            input_container.children = [relleno_input]\n",
    "            step += 1\n",
    "        elif step == 3 and event['owner'] is relleno_input:\n",
    "            input_container.children = []\n",
    "            # Get the user inputs\n",
    "            pan1 = pan1_input.value\n",
    "            pan2 = pan2_input.value\n",
    "            relleno = relleno_input.value\n",
    "            step = 0\n",
    "            # Call the hacer_sandwich function with user inputs\n",
    "            result = hacer_sandwich(pan1, pan2, relleno)\n",
    "            with out2:\n",
    "                out2.clear_output()\n",
    "                print(result)\n",
    "\n",
    "# Function to handle button clicks\n",
    "def on_button_clicked(_):\n",
    "    global step\n",
    "    step = 1\n",
    "    input_container.children = [pan1_input]\n",
    "\n",
    "# Link key press event to the inputs\n",
    "pan1_input.observe(on_key_press, names='value')\n",
    "pan2_input.observe(on_key_press, names='value')\n",
    "relleno_input.observe(on_key_press, names='value')\n",
    "\n",
    "# Create a button widget\n",
    "button = widgets.Button(\n",
    "    description='¡Haz click para hacer un sándwich!',\n",
    "    icon='hand-o-up'\n",
    ")\n",
    "\n",
    "# Link button and function together\n",
    "button.on_click(on_button_clicked)\n",
    "\n",
    "# Display the button, input container, and output\n",
    "display(button, input_container, out2)\n"
   ]
  },
  {
   "cell_type": "markdown",
   "id": "68cdfaad-0550-41e4-b470-4857b7e183e8",
   "metadata": {},
   "source": [
    "Pues efectivamente, para nuestra desgracia tendríamos el sándwich menos apetecible de la historia sin mayor alternativa. <br>\n",
    "Claramente, una de las cuestiones a tratar aquí es establecer que, por ejemplo, el pan sea pan y el relleno sea comestible, excluyendo cualquier otra entrada que nos proporcionen en caso de que no se cumplan estas condiciones, lo cual nos lleva al eterno\n",
    "problema de la programación. El cliente no siempre tendrá la razón, pero siempre encontrará maneras de reventar el programa que al desarrollador no se le habrían ocurrido en sueños.<br>"
   ]
  },
  {
   "cell_type": "markdown",
   "id": "1da0f0d8-fa6d-4192-9f6b-9707bcb21dd4",
   "metadata": {
    "editable": true,
    "slideshow": {
     "slide_type": ""
    }
   },
   "source": [
    "### Desarrollo declarativo\n",
    "Sin embargo, si quisiéramos hacer lo mismo con Prolog, el código sería el siguiente: <br>\n",
    "pan(rebanada).<br>\n",
    "relleno(jamon_y_queso).<br>\n",
    "relleno(salchicha_y_queso).<br>\n",
    "relleno(huevo_y_bacon).<br>\n",
    "relleno(carne_picada).\n",
    "\n",
    "\n",
    "hacer_sandwich(Sandwich) :- \n",
    "\n",
    "    rebanada_de_pan(Rebanada1),    \n",
    "    rebanada_de_pan(Rebanada2),\n",
    "    relleno(Relleno),    \n",
    "    Sandwich = [Rebanada1, Relleno, Rebanada2].\n",
    "\n",
    "Esto, al ejecutarse nos devuelve lo siguiente:"
   ]
  },
  {
   "cell_type": "code",
   "execution_count": null,
   "id": "a2a61518-4362-4088-b419-a65bf60e37f7",
   "metadata": {
    "editable": true,
    "jupyter": {
     "source_hidden": true
    },
    "scene__Variables": true,
    "slideshow": {
     "slide_type": ""
    },
    "tags": [
     "ActiveScene"
    ]
   },
   "outputs": [],
   "source": [
    "from swiplserver import *\n",
    "\n",
    "with PrologMQI() as mqi:\n",
    "    with mqi.create_thread() as prolog_thread:\n",
    "        result = prolog_thread.query(\"set_prolog_flag(encoding,utf8).\")\n",
    "        try:\n",
    "            result = prolog_thread.query(\"consult(\\\"ejemplos/sandwich.pl\\\")\")\n",
    "            prolog_thread.query_async(\"hacer_sandwich(X).\", find_all=False)        \n",
    "            while True:\n",
    "                result = prolog_thread.query_async_result()\n",
    "                if result is None:\n",
    "                    break\n",
    "                else:\n",
    "                    print(result)        \n",
    "        except Exception as e:\n",
    "            print(e)"
   ]
  },
  {
   "cell_type": "markdown",
   "id": "732670e9-b645-4a5f-95f4-0602f89677e1",
   "metadata": {
    "editable": true,
    "slideshow": {
     "slide_type": ""
    }
   },
   "source": [
    "Una cosa a recalcar con Prolog es que hay muchas maneras de interactuar con un programa escrito en Prolog.<br>\n",
    "Nosotros podemos realizar una consulta a este programa sin especificarle nada, y en este caso Prolog nos construirá primorosamente un sándwich para nuestro deleite.<br>\n",
    "No obstante, también podemos optar por especificarle qué cosas queremos en nuestro sandwich, y Prolog intentará hacer un sandwich a partir de esto unificando lo especificado con los hechos en nuestra base de conocimiento y dándonos el ok si puede hacer un sandwich con lo que le proporcionamos, a diferencia de Python que cogerá los ingredientes, los pondrá uno encima del otro y lo llamará sandiwch sin atender a si tiene sentido o no.<br>\n",
    "Es decir, nuestro enfoque debe ser ver como interacionan los elementos entre si a lo largo del ciclo de vida del programa, no establecer una serie de pasos a cumplir y programar posibles desviaciones y excepciones para este patrón.<br>\n",
    "Nuestro trabajo consistirá en definir las relaciones de nuestro dominio, en lugar de crear un flujo y tratar la infinidad de errores que pueden surgir por el camino.<br>\n",
    "Cualquier consulta que tenga como parámetros cualquier elemento que no haya sido considerado por el experto que ha establecido las reglas de nuestro dominio nos devolverá un Falso como resultado, en lugar de tener una excepción.<br>"
   ]
  },
  {
   "cell_type": "code",
   "execution_count": 3,
   "id": "e9cf7200-13ca-4194-a2d7-4c262b529b1c",
   "metadata": {
    "editable": true,
    "scene__Variables": true,
    "slideshow": {
     "slide_type": ""
    },
    "tags": [
     "ActiveScene"
    ]
   },
   "outputs": [
    {
     "data": {
      "application/vnd.jupyter.widget-view+json": {
       "model_id": "5cae1687dc8e4e27b3ba9622bf942c01",
       "version_major": 2,
       "version_minor": 0
      },
      "text/plain": [
       "Button(description='¡Haz click para hacer un sándwich!', icon='hand-o-up', style=ButtonStyle())"
      ]
     },
     "metadata": {},
     "output_type": "display_data"
    },
    {
     "data": {
      "application/vnd.jupyter.widget-view+json": {
       "model_id": "0c4dde3e36c749a5ab905bdcdba12925",
       "version_major": 2,
       "version_minor": 0
      },
      "text/plain": [
       "VBox()"
      ]
     },
     "metadata": {},
     "output_type": "display_data"
    },
    {
     "data": {
      "application/vnd.jupyter.widget-view+json": {
       "model_id": "e2bf1817ec184e26bb24655c01b0b876",
       "version_major": 2,
       "version_minor": 0
      },
      "text/plain": [
       "Output()"
      ]
     },
     "metadata": {},
     "output_type": "display_data"
    }
   ],
   "source": [
    "import ipywidgets as widgets\n",
    "from IPython.display import display\n",
    "from swiplserver import PrologMQI\n",
    "\n",
    "# Create an Output widget\n",
    "out3 = widgets.Output()\n",
    "\n",
    "# Create Text widgets for user input\n",
    "pan1_input2 = widgets.Text(\n",
    "    placeholder='Escribe el tipo de pan 1...',\n",
    "    description='Pan 1:',\n",
    "    disabled=False,\n",
    "    continuous_update=False\n",
    ")\n",
    "\n",
    "pan2_input2 = widgets.Text(\n",
    "    placeholder='Escribe el tipo de pan 2...',\n",
    "    description='Pan 2:',\n",
    "    disabled=False,\n",
    "    continuous_update=False\n",
    ")\n",
    "\n",
    "relleno_input2 = widgets.Text(\n",
    "    placeholder='Escribe el relleno...',\n",
    "    description='Relleno:',\n",
    "    disabled=False,\n",
    "    continuous_update=False\n",
    ")\n",
    "\n",
    "# Container for inputs\n",
    "input_container2 = widgets.VBox()\n",
    "\n",
    "# Variable to keep track of the current step\n",
    "step1 = 0\n",
    "\n",
    "# Function to handle key press events on the inputs\n",
    "def on_key_press(event):\n",
    "    global step1\n",
    "    if event['name'] == 'value' and event['new'] != '':\n",
    "        if step1 == 1 and event['owner'] is pan1_input2:\n",
    "            input_container2.children = [pan2_input2]\n",
    "            step1 += 1\n",
    "        elif step1 == 2 and event['owner'] is pan2_input2:\n",
    "            input_container2.children = [relleno_input2]\n",
    "            step1 += 1\n",
    "        elif step1 == 3 and event['owner'] is relleno_input2:\n",
    "            input_container2.children = []\n",
    "            step1 = 0\n",
    "            \n",
    "            # Get the user inputs\n",
    "            pan1 = pan1_input2.value\n",
    "            pan2 = pan2_input2.value\n",
    "            relleno = relleno_input2.value\n",
    "            \n",
    "            # Call the Prolog query with user inputs\n",
    "            with PrologMQI() as mqi:\n",
    "                with mqi.create_thread() as prolog_thread:\n",
    "                    prolog_thread.query(\"set_prolog_flag(encoding,utf8).\")\n",
    "                    try:\n",
    "                        prolog_thread.query(\"consult(\\\"ejemplos/sandwich.pl\\\")\")\n",
    "                        query = f\"hacer_sandwich({pan1},{pan2},{relleno}).\"\n",
    "                        prolog_thread.query_async(query, find_all=False)\n",
    "                        \n",
    "                        while True:\n",
    "                            result = prolog_thread.query_async_result()\n",
    "                            if result is False:\n",
    "                                with out3:\n",
    "                                    out3.clear_output()\n",
    "                                    print(\"QUE CLASE DE SANDWICH ME ESTAS ARMANDO, PEDAZO DE PSICOPATA\")\n",
    "                                    break\n",
    "                            else:\n",
    "                                with out3:\n",
    "                                    out3.clear_output()\n",
    "                                    print(result)\n",
    "                    except Exception as e:\n",
    "                        with out3:\n",
    "                            out3.clear_output()\n",
    "                            print(f\"Error: {e}\")\n",
    "\n",
    "# Function to handle button clicks\n",
    "def on_button_clicked(_):\n",
    "    global step1\n",
    "    step1 = 1\n",
    "    input_container2.children = [pan1_input2]\n",
    "\n",
    "# Link key press event to the inputs\n",
    "pan1_input2.observe(on_key_press, names='value')\n",
    "pan2_input2.observe(on_key_press, names='value')\n",
    "relleno_input2.observe(on_key_press, names='value')\n",
    "\n",
    "# Create a button widget\n",
    "button = widgets.Button(\n",
    "    description='¡Haz click para hacer un sándwich!',\n",
    "    icon='hand-o-up'\n",
    ")\n",
    "\n",
    "# Link button and function together\n",
    "button.on_click(on_button_clicked)\n",
    "\n",
    "# Display the button, input container, and output\n",
    "display(button, input_container2, out3)\n"
   ]
  },
  {
   "cell_type": "markdown",
   "id": "e4603392-20d8-4197-87ff-5dbf65c93e6f",
   "metadata": {},
   "source": [
    "# Cambio de Paradigma.\n",
    "Ahora mismo estoy oyendo lo que piensas.<br>\n",
    "**\"Vale si, esto es todo muy bonito, ¿pero qué carajo es un paradigma y cómo dejo de pensar en imperativo?\"** <br>\n",
    "Y tienes toda la razón, quizás me he calentado un poquillo. En el mundo de la programación llamamos \"Paradigmas\"  a los distintos enfoques sobre como resolver un problema. Son **marcos** sobre los que desarrollar la solución, cada uno con una serie de convenciones que los definen. <br>\n",
    "El paradigma imperativo propone **como** se deben hacer las cosas. Nosotros determinamos el flujo de ejecución, teniendo el control y definiendo el mismo mediante instrucciones y estructuras de control(If/else, bucles For, etc...) y es nuestra responsabilidad que éste se cumpla.<br>\n",
    "El paradigma declarativo propone **qué** se quiere conseguir, definiendo el resultado y abstrayéndonos de como se consigue, siendo un **motor de ejecución** el que lleva a cabo la ejecución sin intervención directa ni control explícito del flujo de ejecución por nuestra parte. Uno de los primeros shocks aquí es que primero necesitamos comprender el funcionamiento del motor de ejecución(En caso de Prolog, el motor de inferencia) para poder plantear las reglas que definirán nuestro dominio.<br>\n",
    "Puede que no hayas oído hablar de paradigmas en profundidad, pero con total seguridad tienes experiencia tanto en lenguajes imperativos (Java, Python, C/++/+-...) como en declarativos (SQL), y si no la tienes, tampoco pasa nada.<br>\n",
    "Por proponer un pequeño ejemplo para aquellos que hayáis trabajado en SQL, ¿qué hacemos en SQL?<br>\n",
    "Preguntar por lo que queremos. Desarrollamos una consulta específicando qué, de dónde y bajo qué condiciones queremos obtener el resultado y nos abstraemos totalmente de cómo se devuelve. En Prolog haremos en esencia lo mismo.<br>\n",
    "\n",
    "Desarrollar más el proceso del cambio de paradigma."
   ]
  },
  {
   "cell_type": "markdown",
   "id": "ae7f3264-7b6e-4563-8cb7-5cef31671b66",
   "metadata": {},
   "source": [
    "### - [Siguiente apartado - Sistemas basados en reglas](SBR.ipynb)\n",
    "### - [Apartado anterior - Paradigmas de programación](Paradigmas.ipynb)\n",
    "### - [Volver al índice](../Indice.ipynb)\n"
   ]
  },
  {
   "cell_type": "code",
   "execution_count": null,
   "id": "51a3a370-ec83-4020-b985-05c55e2b8db8",
   "metadata": {},
   "outputs": [],
   "source": []
  }
 ],
 "metadata": {
  "kernelspec": {
   "display_name": "Python 3 (ipykernel)",
   "language": "python",
   "name": "python3"
  },
  "language_info": {
   "codemirror_mode": {
    "name": "ipython",
    "version": 3
   },
   "file_extension": ".py",
   "mimetype": "text/x-python",
   "name": "python",
   "nbconvert_exporter": "python",
   "pygments_lexer": "ipython3",
   "version": "3.10.4"
  },
  "scenes_data": {
   "active_scene": "Variables",
   "init_scene": "Variables",
   "scenes": [
    "Variables"
   ]
  }
 },
 "nbformat": 4,
 "nbformat_minor": 5
}
