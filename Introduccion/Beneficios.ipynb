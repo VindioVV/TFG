{
 "cells": [
  {
   "attachments": {},
   "cell_type": "markdown",
   "id": "65d58c48-327d-4923-aa31-f7b177b732fd",
   "metadata": {},
   "source": [
    "# ¿Pero para qué quiero prolog si no lo voy a utilizar nunca? <br> **Beneficios de este engendro**\n",
    "Vamos a tomarnos un momento antes de empezar con la materia **densa** de Prolog.\n",
    "\n",
    "Este camino no va a ser fácil, dado que esto no es cuestión de aprender una sintaxis, si no de aprender a **programar** de manera diferente. Es normal que por el camino te sientas desanimado, o que pierdas las ganas de seguir investigando, y por este motivo vamos a hablar un poco de los _beneficios_ de aprender Prolog, más allá de ser capaz de resolver el trabajo de universidad que tengas pendiente.<br>\n",
    "Si bien es poco probable que acabes trabajando como desarrollador de Prolog 40 horas a la semana, no todo se reduce a obtener un rédito económico o añadir cosas al stack tecnológico de tu currículum.<br>\n",
    "Planteemos una pequeña metáfora con el mundo de la música. ¿Toca un bajista mejor su bajo por tener nociones de como tocar la batería? Claro que no. Conocer otros instrumentos no te hace mejor instrumentista con el tuyo, pero si te hace mejor **músico**.<br>\n",
    "\n",
    "Efectivamente, quizás la medalla de **Experto en Prolog** no adorne tanto tu CV como desearías, pero desde luego te va a convertir en un mejor ingeniero, dándote herramientas que luego podrás aplicar al camino que decidas seguir, como programador, como analista, arquitecto...\n",
    "\n",
    "## Comprensión de la programación declarativa\n",
    "Hoy en día prácticamente todos los lenguajes imperativos con más tirón optan por incluir funcionalidades de la programación funcional (Recordemos, también sigue un paradigma declarativo) como pueden ser las lambdas de Java.\n",
    "### Mejora del pensamiento lateral y la resolución de problemas\n",
    "Los lenguajes imperativos implican desarrollar una serie de pasos, un flujo, para resolver un problema. Si este problema cambia, deberemos refactorizar el código anterior, añadiendo o modificando los pasos anteriores para poder abarcar la nueva lógica de negocio.\n",
    "\n",
    "Los lenguajes funcionales consisten en desarrollar pequeñas funciones que también seguirán un flujo para resolver dicho problema. Si bien aquí trabajamos de forma recursiva, también tendremos un flujo \"estático\" que seguirán los datos. Una ampliación de la lógica de negocio generalmente implicará crear nuevas funciones.\n",
    "\n",
    "**En Prolog no tenemos ningún control sobre el flujo.** <br>\n",
    "Nosotros creamos el modelo y las relaciones del mismo, y el motor de inferencia se encargará de verificar las consultas de manera totalmente opaca para nosotros. Nos centramos única y exclusivamente en el dominio del problema a resolver.\n",
    "### Mejora de la capacidad de modelado\n",
    "Una de las partes fundamentales de Prolog es saber modelar (es decir, representar) todos los aspectos del problema a resolver. Esto implica definir todo el dominio del problema, con todas las entidades y los hechos que lo conforman, así como definir las relaciones entre las mismas de manera exhaustiva.<br>\n",
    "Esto es tremendamente útil en el estado actual de la programación, que cada vez se aparta más de esquemas monolíticos y se enfoca a los microservicios, en donde un buen modelado y entendimiento del negocio resulta imprescindible para no tener consecuencias catastróficas.\n",
    "### Mejora del entendimiento de la algoritmia y la eficiencia\n",
    "Hoy en día por desgracia los cálculos de costes algorítmicos se dejan cada vez más de lado, ocultos tras librerías propias de los lenguajes, como puede ser Collectors en Java.<br>\n",
    "\n",
    "Esto, por una parte, es un punto positivo dado que nos genera un código más legible y fácil de comprender, pero nos aleja del entendimiento de lo que hace nuestro programa. ¿Qué algoritmo utiliza el método \"sort\" del framework de Collections en Java? ¿Será siempre la mejor opción usar este?<br>\n",
    "\n",
    "En Prolog todas las llamadas van de nuestra mano, y nimiedades como la colocación de los átomos en nuestras reglas pueden afectar a la eficiencia del programa, dándonos un feedback muy veloz sobre el comportamiento de nuestro código.\n",
    "### - [Apartado anterior - Antecedentes](Antecedentes.ipynb)\n",
    "### - [Siguiente apartado - Paradigmas de programación](Paradigmas.ipynb)\n",
    "### - [Volver al índice](../Indice.ipynb)"
   ]
  },
  {
   "cell_type": "code",
   "execution_count": null,
   "id": "8f3fb710-c04a-4065-b049-cf1c9ff7a15b",
   "metadata": {},
   "outputs": [],
   "source": []
  }
 ],
 "metadata": {
  "kernelspec": {
   "display_name": "Python 3 (ipykernel)",
   "language": "python",
   "name": "python3"
  },
  "language_info": {
   "codemirror_mode": {
    "name": "ipython",
    "version": 3
   },
   "file_extension": ".py",
   "mimetype": "text/x-python",
   "name": "python",
   "nbconvert_exporter": "python",
   "pygments_lexer": "ipython3",
   "version": "3.10.4"
  }
 },
 "nbformat": 4,
 "nbformat_minor": 5
}
