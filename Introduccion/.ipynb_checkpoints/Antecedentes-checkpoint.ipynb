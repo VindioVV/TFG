{
 "cells": [
  {
   "cell_type": "markdown",
   "id": "2baa1b55-7eb8-409b-a96b-92635ccebc99",
   "metadata": {},
   "source": [
    "# Introducción\n",
    "\n",
    "## ¿Por qué esta guía?\n",
    "Antes que nada: ¡Bienvenido a **Prolog**! Si has llegado hasta aquí imagino que estás buscando una ruta fácil y rápida para dominar el que probablemente sea el lenguaje más conocido de la programación lógica.\n",
    "\n",
    "**No la hay.**\n",
    "\n",
    "De igual manera que el lenguaje LISP se conoce popularmente como \"Listas Interminables de Soporíferos Paréntesis\", PROLOG podría traducirse en \"Perpetuamente Recordaré Oír mis Lloros, Oraciones y Gritos\".\n",
    "\n",
    "\n",
    "Por desgracia, y pese a la gran cantidad de aplicaciones que tiene, a día de hoy Prolog es un lenguaje de nicho para los programadores modernos, visto más como un recurso académico. El cambio en la manera de pensar no es trivial, y los recursos sobre el paradigma de la programación lógica son menos abundantes y accesibles comparados con otros como el paradigma imperativo (Que abarca la mayoría de lenguajes modernos como Java, Python, C# y C++... aunque algunos incorporen elementos del paradigma funcional) o el paradigma funcional (Haskell, Erlang, Scala, ELM...), el mayor referente de programación declarativa en la actualidad. <br>\n",
    "Actualmente, las mejores fuentes de aprendizaje se pueden encontrar en libros de texto tales como **\"The art or Prolog\"**, de Leon Sterling y Ehud Shapiro o **\"Programming in Prolog\"**, de William F. Clocksin y Christopher S. Mellish. Estos pueden resultar abrumadores para aquellos programadores con menos experiencia, acostumbrados a recursos multimedia y aplicaciones interactivas, o ligeramente obtusos para desarrolladores experimentados que no estén acostumbrados a asimilar conocimientos desde una aproximación más cercana al entendimiento de la informática como ciencia, no como ingeniería.<br>\n",
    "El objetivo del siguiente documento es, sencillamente, allanarles el camino a todos esos incautos que han dedicido adentrarse, por falta de cordura u obligaciones académicas, en el océano de Prolog.\n",
    "\n",
    "# Comentar experiencias personales con Prolog?\n",
    "\n",
    "\n",
    "\n",
    "## ¿Qué es Prolog?\n",
    "\n",
    "\n",
    "Prolog(**Pro**gramming in **Log**ic) es un método de tortura diseñado en Francia durante los años 70.<br>\n",
    "Alain Colmerauer, profesor de la universidad de Aix-Marsella, decidió un buen día que los programadores de la época no tenían bastante sufrimiento con COBOL, Pascal y Fortran, y decidió crear junto con Philippe Roussel una herramienta con la misma capacidad de resolver problemas que de apuñalarte el hígado.\n",
    "\n",
    "Prolog es un lenguaje de programación _declarativo_, basado en lógica de primer orden. Hace uso del **modus ponendo ponens** (Afirmar afirmando) para inferir conclusiones a partir de reglas definidas como cláusulas de Horn mediante la unificación. <br>\n",
    "\n",
    "Es declarativo, de manera similar a lenguajes como SQL, cosa que lo diferencia de los lenguajes imperativos. En Prolog especificamos qué queremos mediante consultas, no cómo lo queremos como hacen los lenguajes imperativos(Java, C++) que construyen una serie de pasos fijos a seguir durante la ejecución del programa.\n",
    "\n",
    "Por último, la mayor diferencia entre Prolog y otros lenguajes conocidos, como Java, SQL, Python o C#, se encuentra en el mecanismo central de Prolog,la **unificación**. Entraremos más adelante en este concepto, así como en las cláusulas de Horn, pero como idea general la unificación es una comparación entre términos y variables para determinar si pueden ser considerados iguales.\n",
    "\n",
    "Otra de las características más destacables de Prolog es la ausencia de un tipado tradicional, como encontramos en Java o C++ (tipado estático) o en Javascript o Ruby (Tipado dinámico). En Prolog no hay \"tipos\". Los términos se manipulan y comparan directamente durante la unificación.\n",
    "\n",
    "¿No te parece suficiente lío todavía? ¡No te preocupes! Ahora en breve empiezan las curvas. ¡Ánimo!\n",
    "### - [Siguiente apartado - Utilidad práctica de Prolog](Beneficios.ipynb)\n",
    "### - [Volver al índice](../Indice.ipynb)"
   ]
  },
  {
   "cell_type": "code",
   "execution_count": null,
   "id": "51741f33-f22d-40ba-9eb5-5ffc3de76ca7",
   "metadata": {},
   "outputs": [],
   "source": []
  }
 ],
 "metadata": {
  "kernelspec": {
   "display_name": "Python 3 (ipykernel)",
   "language": "python",
   "name": "python3"
  },
  "language_info": {
   "codemirror_mode": {
    "name": "ipython",
    "version": 3
   },
   "file_extension": ".py",
   "mimetype": "text/x-python",
   "name": "python",
   "nbconvert_exporter": "python",
   "pygments_lexer": "ipython3",
   "version": "3.10.4"
  }
 },
 "nbformat": 4,
 "nbformat_minor": 5
}
