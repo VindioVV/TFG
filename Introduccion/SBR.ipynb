{
 "cells": [
  {
   "cell_type": "markdown",
   "id": "a47bd995-0ea3-4d54-8115-59e1b96639d6",
   "metadata": {},
   "source": [
    "# Introducción a los Sistemas Basados en Reglas\n",
    "Los sistemas basados en reglas son sistemas basados en reglas y la aplicación de las mismas. <br>\n",
    "Eso es todo **Poner chiste con roll credits \n",
    "\n",
    "Ahora en serio, los sistemas basados en reglas son un tipo de sistema, frecuentemente utilizados en contextos de Inteligencia Artificial, en dónde el conocimiento relativo al dominio se representa mediante reglas a partir de las cuales se extraen conclusiones sobre el problema a resolver.<br>\n",
    "Los componentes comunes a todos los SBR son la **base de conocimiento** y el **motor de inferencia** (del que hablaremos más adelante).<br>\n",
    "La base de conocimiento contendrá todo el conocimiento, valga la redundancia, relativo al dominio en el que nos encontramos mediante **reglas** y **hechos**.\n",
    "\n",
    "## Hechos\n",
    "Los hechos representan cuestiones conocidas sobre el dominio y que sabemos verdaderas, como que el agua moja o que el Sol quema. En prolog los hechos se escriben en forma de cláusulas de la siguiente manera:<br>\n",
    "moja(agua).<br>\n",
    "quema(sol).<br>\n",
    "Tenemos por una parte las cláusulas \"moja\" y \"quema\", y sus respectivos argumentos. Si nosotros lanzásemos una consulta del tipo \"moja(arena).\", el SBR determinaría que es falso, al no encontrar una coincidencia en la base de conocimiento.<br>\n",
    "Un dato importante, ¡nuestros hechos pueden contener tantos argumentos como necesitemos para representar lo que buscamos! Por ejemplo, si quisiéramos definir un árbol genealógico con hechos, podríamos representarlo de la siguiente manera:<br>\n",
    "padre(anton, mario).<br>\n",
    "madre(sofia, mario).<br>\n",
    "padre(mario, juan).<br>\n",
    "abuelo(anton, juan).<br>\n",
    "abuela(sofia, juan).<br>\n",
    "El problema de representar el conocimiento de esta manera es que puede llegar a ser extremadamente costoso e ineficiente si el dominio es muy extenso, dado que estamos tratando a la base de conocimiento como una base de datos venida a menos. Aquí es donde entran las reglas.<br>\n",
    "\n",
    "## Reglas\n",
    "Las reglas representan relaciones entre elementos abstractos, son un mecanismo de deducción. En lugar de utilizar elementos concretos del dominio, trabajamos con abstracciones o variables generales para definir condiciones que deben cumplirse para que así la regla sea verdadera, lo cual nos permite obtener nuevo conocimiento a partir de lo que ya sabemos o representar el conocimiento existente de manera más compacta.<br>\n",
    "En Prolog, las reglas se escriben en siguiendo las pautas de los predicados de primer orden. Son condicionales en donde la parte de la izquierda será verdadera si se cumple lo estipulado en la parte derecha. <br>\n",
    "Volviendo al ejemplo anterior, podemos reemplazar el hecho \"abuelo\" con una regla \"abuelo\" de la siguiente manera:<br>\n",
    "abuelo(Persona1, Persona2):-\n",
    "        padre(Persona1, X),\n",
    "        padre(X, Persona2).<br>\n",
    "En esta relación, Persona1 será abuelo de Persona2 si Persona1 es padre de X y X es padre de Persona2.<br>\n",
    "El uso de reglas nos permite reducir enormemente la cantidad de hechos a representar, ya que en lugar de especificar todo el dominio, podemos moderlarlo mediante estas relaciones, disminuyendo enormemente la cantidad de hechos que aparecerán en la base de conocimiento.<br>\n",
    "\n",
    "Podemos encadenar tantas reglas como queramos para definir las relaciones que necesitemos modelar, pudiendo referenciar a otros predicados o ejecutarse de manera recursiva.\n",
    "\n",
    "\n",
    "### - [Siguiente capítulo - Backtracking](../Composicion/Backtracking.ipynb)\n",
    "### - [Apartado anterior - Paradigmas de programación](Paradigmas.ipynb)\n",
    "### - [Volver al índice](../Indice.ipynb)"
   ]
  },
  {
   "cell_type": "code",
   "execution_count": null,
   "id": "bde06d8c-219f-4e30-9d72-b61614b200b2",
   "metadata": {},
   "outputs": [],
   "source": []
  }
 ],
 "metadata": {
  "kernelspec": {
   "display_name": "Python 3 (ipykernel)",
   "language": "python",
   "name": "python3"
  },
  "language_info": {
   "codemirror_mode": {
    "name": "ipython",
    "version": 3
   },
   "file_extension": ".py",
   "mimetype": "text/x-python",
   "name": "python",
   "nbconvert_exporter": "python",
   "pygments_lexer": "ipython3",
   "version": "3.10.4"
  }
 },
 "nbformat": 4,
 "nbformat_minor": 5
}
