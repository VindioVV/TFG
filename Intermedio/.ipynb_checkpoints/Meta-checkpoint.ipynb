{
 "cells": [
  {
   "cell_type": "markdown",
   "id": "d314ae67-fd6f-49a5-93f0-2a8e1cee18e8",
   "metadata": {},
   "source": [
    "# Metapredicados y predicados de control\n",
    "\n",
    "En Prolog tenemos una serie de herramientas muy poderosas y útiles ya definidas en la propia librería interna de Prolog, una serie de \"funciones\" intrínsecas del lenguaje como sucede con por ejemplo Java. Las podemos dividir entre **metapredicados**(No, no son accionistas de Zuckerberg, se llaman **meta** porque sus argumentos son otros predicados. Vamos, [predicados dentro de otros predicados](https://www.youtube.com/watch?v=SsShSms06-8)), **predicados de control** para influenciar el flujo que seguirá el motor de inferencia(Ya has visto en capítulos anteriores el uso del **\"No se puede demostrar\"**) o los predicados sobre la base de hechos(Que nos permiten añadir o eliminar hechos). Hablaremos ahora de este tipo de predicados especiales y cómo deberían utilizarse.<br>\n",
    "Todos ellos se denotan de la manera **\"predicado/número de argumentos\"**. <br>\n",
    "Vamos a ver los más importantes y **por qué** deberías acordarte de ellos como del cumpleaños de tu gato.<br>\n",
    "\n",
    "## Metapredicados\n",
    "\n",
    "### call/1 - La indecisión hecha código.\n",
    "El predicado **call/1** nos permite, sencillamente, llamar a un predicado en concreto. Si bien puede parecer redundante, nos permite poder gestionar las llamadas a predicados de manera dinámica.\n",
    "\n",
    "### maplist/2-5 -\n",
    "Este predicado aplica un predicado a todos los elementos de una(maplist/2), dos(maplist/3), tres(maplist/4) o cuatro(maplist/5) listas.\n",
    "\n",
    "### include/3 y exclude/3 -\n",
    "\n",
    "\n",
    "### findall/3 -\n",
    "\n",
    "### setof/3 y bagof/3 - \n",
    "\n",
    "### forall/ 2 - Arturo sin su mesa.\n",
    "\n",
    "\n",
    "## Predicados de control\n",
    "\n",
    "### once/1 -\n",
    "\n",
    "### not/1  -\n",
    "\n",
    "### fail/0 -\n",
    "\n",
    "### true/0 -\n",
    "\n",
    "## Predicados sobre la base de hechos\n",
    "\n",
    "###  assert/1, asserta/1 y assertz/1 - \n",
    "\n",
    "### retract/1 y retractall/1 - "
   ]
  },
  {
   "cell_type": "code",
   "execution_count": null,
   "id": "b69802d6-0ccb-4326-93f9-6f4fa8784df6",
   "metadata": {},
   "outputs": [],
   "source": []
  },
  {
   "cell_type": "markdown",
   "id": "e1203e5b-0827-4c70-9ca6-bed2f7f4c6b1",
   "metadata": {},
   "source": [
    "### - [Siguiente capítulo - Estructuras de datos](../Avanzado/Estructuras.ipynb)\n",
    "### - [Apartado anterior - **Más** variables y recursividad](Recursividad.ipynb)\n",
    "### - [Volver al índice](../Indice.ipynb)"
   ]
  },
  {
   "cell_type": "code",
   "execution_count": null,
   "id": "242c2fc1-9794-4d9b-868b-7dd01bc2cafe",
   "metadata": {},
   "outputs": [],
   "source": []
  }
 ],
 "metadata": {
  "kernelspec": {
   "display_name": "Python 3 (ipykernel)",
   "language": "python",
   "name": "python3"
  },
  "language_info": {
   "codemirror_mode": {
    "name": "ipython",
    "version": 3
   },
   "file_extension": ".py",
   "mimetype": "text/x-python",
   "name": "python",
   "nbconvert_exporter": "python",
   "pygments_lexer": "ipython3",
   "version": "3.10.4"
  }
 },
 "nbformat": 4,
 "nbformat_minor": 5
}
