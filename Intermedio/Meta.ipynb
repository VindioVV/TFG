{
 "cells": [
  {
   "cell_type": "markdown",
   "id": "612c28b3-ffba-4b14-960d-55a1c3f73fee",
   "metadata": {
    "editable": true,
    "slideshow": {
     "slide_type": ""
    },
    "tags": []
   },
   "source": [
    "# Metapredicados\n",
    "\n",
    "En Prolog tenemos una serie de herramientas muy poderosas y útiles conocidas como **metapredicados**. Podríamos pensarlas como funciones de librería intrínsecas al lenguaje, como sucede con por ejemplo Java."
   ]
  },
  {
   "cell_type": "markdown",
   "id": "d314ae67-fd6f-49a5-93f0-2a8e1cee18e8",
   "metadata": {},
   "source": [
    "¡Ah, los metapredicados de Prolog! ¡La cúspide del absurdo lógico, el Monty Python de la programación, donde cada predicado es como un pez volador que te abofetea con una trucha gigante! Si creías que Prolog era un lenguaje de programación serio, ¡has caído en la trampa más grande desde que alguien dijo que los británicos tienen buena comida!\n",
    "call/1 - El Mayordomo Imperturbable\n",
    "\n",
    "Imagina un mayordomo británico impecable, como Jeeves, que, ante cualquier situación, mantiene la calma y hace exactamente lo que le pides, aunque lo que le pidas sea tan absurdo como “Jeeves, haz que el pez bailotee mientras yo me pongo la tetera en la cabeza”.\n",
    "\n",
    "prolog\n",
    "\n",
    "?- call(hacer, el_pez, bailotee).\n",
    "\n",
    "Jeeves ni parpadea. Simplemente lo hace. Ni una ceja levantada. call/1 es ese mayordomo en Prolog, tomando cualquier predicado que le des, y ejecutándolo sin hacer preguntas, sin cuestionar si tiene sentido alguno. “¿Quiere usted que llame al predicado invocar_unicornio/0? Pues claro, señor.”\n",
    "maplist/2 y maplist/3 - La Cadena de Montaje de Sketches Absurdos\n",
    "\n",
    "¿Recuerdas esos sketchs de Monty Python donde una serie de personajes pasan por situaciones cada vez más absurdas? ¡Eso es exactamente lo que hace maplist/2 y maplist/3!\n",
    "\n",
    "prolog\n",
    "\n",
    "?- maplist(vestir_con_ropa_interior_femenina, [reverendo, policia, banquero]).\n",
    "\n",
    "¡Bam! Todos, de repente, están vestidos con la ropa interior de su abuela, y nadie parece darse cuenta de lo absurdo que es. Una serie de personajes, cada uno siendo sometido al mismo predicado absurdo. Es como si les dijeras a todos los personajes de la historia británica que se comporten como un sketch de Monty Python. Y todos, muy educadamente, lo hacen.\n",
    "findall/3, bagof/3, y setof/3 - Los Coleccionistas de Tostadoras\n",
    "\n",
    "Estos chicos son como Mr. Gumby, coleccionando tostadoras para “resolver la crisis del desayuno”. Cada uno tiene su propio método de recolección, aunque todos son igual de... peculiares.\n",
    "\n",
    "    findall/3: Es como Mr. Gumby llenando su casa con cientos de tostadoras, sin importar si ya tiene diez iguales. ¡Todas las tostadoras son bienvenidas!\n",
    "\n",
    "    bagof/3: Es como Mr. Gumby clasificando sus tostadoras en sacos según el tipo de pan que más les gusta tostar, pero sin mucho más criterio.\n",
    "\n",
    "    setof/3: Este es el Mr. Gumby más ordenado de todos. Le gusta una lista sin duplicados. ¡Una tostadora por tipo, por favor!\n",
    "\n",
    "prolog\n",
    "\n",
    "?- findall(Tostadora, comprar_tostadora(Tostadora), Tostadoras).\n",
    "\n",
    "¡Y así, Mr. Gumby termina con una montaña de tostadoras, y tú, con una lista de todas las soluciones posibles en Prolog!\n",
    "once/1 - El Ministro de Andares Tontos\n",
    "\n",
    "Ahora imagina que tienes al mismísimo Ministro de Andares Tontos de Monty Python. Le dices: “Quiero que hagas un andar tonto una vez, y solo una vez”. El Ministro, muy digno, realiza un único andar ridículo, y luego se retira, satisfecho de haber cumplido con su deber.\n",
    "\n",
    "prolog\n",
    "\n",
    "?- once(hacer_andar_tonto).\n",
    "\n",
    "Ni más, ni menos. Un solo andar tonto y ¡listo! once/1 es así de estricto. No hay repeticiones, no hay más bucles ridículos. ¡Un único disparo, un único andar tonto, y se acabó!\n",
    "not/1 y \\+/1 - La Negación del Ministerio del Tonto\n",
    "\n",
    "Finalmente, llegamos a los metapredicados not/1 y \\+/1, que son como esos funcionarios británicos que te dicen “no” a todo, sin importar lo lógico o ridículo que sea. Si les preguntas algo evidente, como “¿Es esto un pez?”, ellos responderán muy formalmente, “No, no lo es”, aunque el pez te esté mirando fijamente con sus ojos de pez.\n",
    "\n",
    "prolog\n",
    "\n",
    "?- not(preguntar_si_es_pez(salmón)).\n",
    "\n",
    "not/1 y \\+/1 son como esos funcionarios que hacen de la negación un arte. Son los maestros del “No” que ni siquiera te dejarán entrar al Ministerio del Tonto si dices que te llamas “Sí”.\n",
    "Conclusión\n",
    "\n",
    "Los metapredicados en Prolog son como un sketch eterno de Monty Python, donde cada predicado es más absurdo y surrealista que el anterior, pero todo, de alguna manera, funciona. Cada uno de ellos tiene su propio papel en este teatro del absurdo que es Prolog, desde el mayordomo imperturbable hasta el coleccionista de tostadoras.\n",
    "\n",
    "Así que la próxima vez que uses un metapredicado en Prolog, recuerda que estás participando en el sketch más surrealista de la programación lógica, donde todo tiene sentido... pero solo si lo miras desde un ángulo completamente retorcido. ¡Y no olvides traer tu sombrero de pez!"
   ]
  }
 ],
 "metadata": {
  "kernelspec": {
   "display_name": "Python 3 (ipykernel)",
   "language": "python",
   "name": "python3"
  },
  "language_info": {
   "codemirror_mode": {
    "name": "ipython",
    "version": 3
   },
   "file_extension": ".py",
   "mimetype": "text/x-python",
   "name": "python",
   "nbconvert_exporter": "python",
   "pygments_lexer": "ipython3",
   "version": "3.10.4"
  }
 },
 "nbformat": 4,
 "nbformat_minor": 5
}
