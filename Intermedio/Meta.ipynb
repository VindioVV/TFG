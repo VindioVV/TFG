{
 "cells": [
  {
   "cell_type": "markdown",
   "id": "612c28b3-ffba-4b14-960d-55a1c3f73fee",
   "metadata": {
    "editable": true,
    "slideshow": {
     "slide_type": ""
    },
    "tags": []
   },
   "source": [
    "# Metapredicados\n",
    "\n",
    "En Prolog tenemos una serie de herramientas muy poderosas y útiles conocidas como **metapredicados**. Podríamos pensarlas como funciones de librería intrínsecas al lenguaje, como sucede con por ejemplo Java."
   ]
  }
 ],
 "metadata": {
  "kernelspec": {
   "display_name": "Python 3 (ipykernel)",
   "language": "python",
   "name": "python3"
  },
  "language_info": {
   "codemirror_mode": {
    "name": "ipython",
    "version": 3
   },
   "file_extension": ".py",
   "mimetype": "text/x-python",
   "name": "python",
   "nbconvert_exporter": "python",
   "pygments_lexer": "ipython3",
   "version": "3.10.4"
  }
 },
 "nbformat": 4,
 "nbformat_minor": 5
}
