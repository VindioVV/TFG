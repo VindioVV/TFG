{
 "cells": [
  {
   "cell_type": "code",
   "execution_count": null,
   "id": "3b3d2ba8-d487-40a7-90e0-722e76c8b6d3",
   "metadata": {},
   "outputs": [],
   "source": []
  }
 ],
 "metadata": {
  "kernelspec": {
   "display_name": "",
   "name": ""
  },
  "language_info": {
   "name": ""
  }
 },
 "nbformat": 4,
 "nbformat_minor": 5
}
