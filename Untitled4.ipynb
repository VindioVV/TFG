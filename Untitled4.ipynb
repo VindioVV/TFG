{
 "cells": [
  {
   "cell_type": "code",
   "execution_count": null,
   "id": "054a94b7-cc60-4f59-9973-37193b67c2b7",
   "metadata": {
    "editable": true,
    "slideshow": {
     "slide_type": ""
    },
    "tags": []
   },
   "outputs": [],
   "source": []
  }
 ],
 "metadata": {
  "kernelspec": {
   "display_name": "",
   "name": ""
  },
  "language_info": {
   "name": ""
  }
 },
 "nbformat": 4,
 "nbformat_minor": 5
}
