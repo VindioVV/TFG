{
 "cells": [
  {
   "cell_type": "code",
   "execution_count": 11,
   "id": "a6e1694f-7487-4f9b-b2ad-56dac0859760",
   "metadata": {},
   "outputs": [
    {
     "name": "stdout",
     "output_type": "stream",
     "text": []
    }
   ],
   "source": [
    "from pyswip import Prolog\n",
    "prolog = Prolog()\n",
    "prolog.consult(\"duelo.pl\")"
   ]
  },
  {
   "cell_type": "code",
   "execution_count": null,
   "id": "0edd3b04-19db-4678-96d3-fdc695ccafaf",
   "metadata": {},
   "outputs": [
    {
     "name": "stdout",
     "output_type": "stream",
     "text": []
    }
   ],
   "source": [
    "?-menu."
   ]
  },
  {
   "cell_type": "code",
   "execution_count": 9,
   "id": "04f28fa5-db01-4c8f-b37a-10462a1eb657",
   "metadata": {},
   "outputs": [
    {
     "name": "stdout",
     "output_type": "stream",
     "text": [
      "true."
     ]
    }
   ],
   "source": [
    "?-write('hola')."
   ]
  }
 ],
 "metadata": {
  "kernelspec": {
   "display_name": "SWI-Prolog",
   "language": "",
   "name": "jswipl"
  },
  "language_info": {
   "mimetype": "text/plain",
   "name": "swipl"
  }
 },
 "nbformat": 4,
 "nbformat_minor": 5
}
