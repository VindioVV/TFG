{
 "cells": [
  {
   "cell_type": "markdown",
   "id": "dc7b9cae-8ec1-43ab-bcea-c524d70a928f",
   "metadata": {
    "editable": true,
    "slideshow": {
     "slide_type": ""
    },
    "tags": []
   },
   "source": [
    "# Prolog - 27mg.\n",
    "## I. ¿Qué es Prolog 27.mg y para qué se utiliza?\n",
    "### - [Antecedentes](Introduccion/Antecedentes.ipynb)\n",
    "### - [Utilidad práctica de Prolog](Introduccion/Beneficios.ipynb)\n",
    "### - [Paradigmas de programación](Introduccion/Paradigmas.ipynb)\n",
    "\n",
    "## II. Composición de Prolog 27 mg.\n",
    "### - [Sistemas basados en reglas](Introduccion/SBR.ipynb)\n",
    "### - [Backtracking](Composicion/Backtracking.ipynb)\n",
    "### - [Unificación](Composicion/Unificacion.ipynb)\n",
    "### - [Motor de inferencia](Composicion/Motor.ipynb) Este va fuera\n",
    "\n",
    "## III. Modo de uso.\n",
    "### - [Como utilizar Prolog](Basico/Predicados.ipynb)\n",
    "### - [Posología de Prolog](Basico/Elementos.ipynb)\n",
    "### - [Operadores de Prolog](Basico/Operadores.ipynb)\n",
    "\n",
    "## IV. Modo de uso _intermedio_.\n",
    "### - [Variables](Intermedio/Variables.ipynb)\n",
    "### - [**Más** variables y recursividad](Intermedio/Recursividad.ipynb)\n",
    "### - [Estructuras de datos](Intermedio/Estructuras.ipynb)\n",
    "\n",
    "## V. Modo de uso __avanzado__.\n",
    "### - [Metapredicados y predicados de control](Avanzado/Meta.ipynb)\n",
    "### - [Listas](Avanzado/Listas.ipynb)\n",
    "### - [Buenas prácticas, complejidad y eficiencia en Prolog](Avanzado/BuenasPracticas.ipynb) Incluir depuración Tono de tono en plan sermón de buen padre\n",
    "\n",
    "Este yo creo que va a queda incluído en el de información adicional, con las coñas, recursos y demás\n",
    "## VI. Efectos secundarios.\n",
    "### - [Qué hacer si tomo más Prolog del que debería](EfectosSecundarios/Librerias.ipynb)\n",
    "### - [Qué hacer en caso de adicción](EfectosSecundarios/Adiccion.ipynb)\n",
    "### - [Como contribuir al proyecto](EfectosSecundarios/Contribucion.ipynb)\n",
    "\n",
    "## VII. Final de la guía.\n",
    "\n",
    "\n",
    "\n",
    "    "
   ]
  },
  {
   "cell_type": "raw",
   "id": "f254b583-a88c-4563-91eb-3eb73a2954da",
   "metadata": {},
   "source": [
    "Comentar los problemas y las alternativas de jupyter lab\n",
    "el uso del kernel, falta de documentacion, el problema de no tener acceso a las librerías de python para toda la ejecución\n",
    "las extensiones\n",
    "swiplserver\n",
    "el binder\n",
    "el voila\n",
    "el docker\n",
    "Comentar bastante que el voila y el swiplserver son MUY recientes\n",
    "\n",
    "El por qué de la guía(No hay muchos recursos de prolog en español, por ejemplo)\n",
    "Plantear una extensión al tfg consistente en extender el desarrollo del kernel de ipykernel y que pueda admitir también código de prolog de manera nativa\n"
   ]
  },
  {
   "cell_type": "code",
   "execution_count": null,
   "id": "2e44bd6e-3d7f-4989-b4a9-53766334ea96",
   "metadata": {},
   "outputs": [],
   "source": []
  }
 ],
 "metadata": {
  "kernelspec": {
   "display_name": "Python 3 (ipykernel)",
   "language": "python",
   "name": "python3"
  },
  "language_info": {
   "codemirror_mode": {
    "name": "ipython",
    "version": 3
   },
   "file_extension": ".py",
   "mimetype": "text/x-python",
   "name": "python",
   "nbconvert_exporter": "python",
   "pygments_lexer": "ipython3",
   "version": "3.10.4"
  }
 },
 "nbformat": 4,
 "nbformat_minor": 5
}
