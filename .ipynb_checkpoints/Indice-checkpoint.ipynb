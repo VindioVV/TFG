{
 "cells": [
  {
   "cell_type": "code",
   "execution_count": 1,
   "id": "8bc7fa6d-5b00-492b-b712-2c17c010b2c8",
   "metadata": {},
   "outputs": [
    {
     "ename": "NameError",
     "evalue": "name 'duelo' is not defined",
     "output_type": "error",
     "traceback": [
      "\u001b[1;31m---------------------------------------------------------------------------\u001b[0m",
      "\u001b[1;31mNameError\u001b[0m                                 Traceback (most recent call last)",
      "Cell \u001b[1;32mIn [1], line 1\u001b[0m\n\u001b[1;32m----> 1\u001b[0m \u001b[43mduelo\u001b[49m\u001b[38;5;241m.\u001b[39mpl\n",
      "\u001b[1;31mNameError\u001b[0m: name 'duelo' is not defined"
     ]
    }
   ],
   "source": [
    " duelo.pl"
   ]
  },
  {
   "cell_type": "code",
   "execution_count": null,
   "id": "56b59f78-d22d-45a1-8e07-b6f8d520347c",
   "metadata": {},
   "outputs": [],
   "source": [
    "while True:\n",
    "    a=input('hola')\n",
    "    print(a)"
   ]
  }
 ],
 "metadata": {
  "kernelspec": {
   "display_name": "Python 3 (ipykernel)",
   "language": "python",
   "name": "python3"
  },
  "language_info": {
   "codemirror_mode": {
    "name": "ipython",
    "version": 3
   },
   "file_extension": ".py",
   "mimetype": "text/x-python",
   "name": "python",
   "nbconvert_exporter": "python",
   "pygments_lexer": "ipython3",
   "version": "3.10.4"
  }
 },
 "nbformat": 4,
 "nbformat_minor": 5
}
