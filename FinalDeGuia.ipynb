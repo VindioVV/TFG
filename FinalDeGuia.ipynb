{
 "cells": [
  {
   "cell_type": "markdown",
   "id": "d519fd27-54aa-442f-87a7-b4546dc7eb79",
   "metadata": {},
   "source": [
    "¡Enhorabuena por haber completado esta introducción a Prolog!\n",
    "Por favor, elige la opción que mejor se adapte a tus expectativas de futuro con Prolog:\n",
    "Estudiante de UNED intentando aprobar la práctica de FIA(Recomendaciones sobre como afrontar la práctica de libre disposición).\n",
    "Persona normal que simplemente quiere adentrarse en la programación lógica(Disponer recursos avanzados sobre Prolog e informar sobre los distintos challenges que suelen aparecer en Reddit).\n",
    "Persona que se lamenta de haber completado la guía y que desearía poder volver a vivir esta experiencia(Tutorial sobre como practicarse una lobotomía exprés)."
   ]
  }
 ],
 "metadata": {
  "kernelspec": {
   "display_name": "Python 3 (ipykernel)",
   "language": "python",
   "name": "python3"
  },
  "language_info": {
   "codemirror_mode": {
    "name": "ipython",
    "version": 3
   },
   "file_extension": ".py",
   "mimetype": "text/x-python",
   "name": "python",
   "nbconvert_exporter": "python",
   "pygments_lexer": "ipython3",
   "version": "3.10.4"
  }
 },
 "nbformat": 4,
 "nbformat_minor": 5
}
