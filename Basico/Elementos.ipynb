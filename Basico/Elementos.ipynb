{
 "cells": [
  {
   "cell_type": "markdown",
   "id": "b2f3c255-5044-46cc-ad5e-9477dc58d514",
   "metadata": {
    "editable": true,
    "slideshow": {
     "slide_type": ""
    },
    "tags": []
   },
   "source": [
    "# Composición de Prolog, o ¿cómo monto yo esta cosa?\n",
    "Vamos a recapitular un momento.<br>\n",
    "Hemos visto qué componentes tiene de fondo Prolog.<br>\n",
    "Hemos visto los elementos básicos de Prolog, y como escribir predicados básicos.<br>\n",
    "Acabamos de aprender como utilizar consultas en Prolog.<br>\n",
    "¿Qué nos falta?<br>\n",
    "~~Llorar~~ **Practicar**.<br>\n",
    "\n",
    "Vamos a escribir tu primer programa en Prolog. No te preocupes, ¡estaré a tu lado y el búho promete no reírse!<br>\n",
    "Imagina que una empresa de márketing nos pide ayuda para organizar su agenda de clientes y determinar potenciales compradores de sus nuevos y demoledores productos, el **PeinaPelos 3000X** y el **AbrillantaBombillas Turbo 5000**. En esta empresa, por desgracia, los vendedores no tienen el suficiente carisma como para venderle un peine a un calvo y agradecerían tener un sistema que automatice el proceso de selección de clientes para las dos secciones de ventas, una especializada en productos para pelo y la otra en productos para pelones en función del departamento del vendedor y el tipo de cliente.<br>\n",
    "Los datos que disponemos son los siguientes:<br>\n",
    "Ramon y Javier trabajan en el departamento de melenas.<br>\n",
    "Alberto y Sara trabajan en el departamento de bombillas.<br>\n",
    "Actualmente sabemos que Melinda, Ana y Bruno tienen pelo Pantene, mientras que Guillermo, Álvaro y Antonio cuentan con un tremendo tobogán de piojos.<br>\n",
    "Te he adelantado la tarea un poco, tengo hecho esto:<br>\n",
    "% Departamentos y empleados\n",
    "trabaja_en(javier, melenas).\n",
    "trabaja_en(alberto, bombillas).\n",
    "\n",
    "% Clientes\n",
    "tiene_pelo(ana).\n",
    "tiene_pelo(bruno).\n",
    "\n",
    "no_tiene_pelo(alvaro).\n",
    "no_tiene_pelo(antonio).\n",
    "\n",
    "% Regla para determinar si un vendedor puede vender productos a un cliente con pelo\n",
    "puede_vender(Vendedor, Cliente) :-\n",
    "    trabaja_en(Vendedor, melenas),\n",
    "    tiene_pelo(Cliente).\n",
    "\n",
    "\n",
    "\n",
    "\n",
    "Solo faltaría añadir a nuestra base de conocimiento a Ramón, Sara, Melinda y Guillermo. ¿Podrías crear los hechos que faltan? Que me cierra el Mercadona y no me queda hummus.<br>\n",
    "\n",
    "#### Ponerlo como test\n",
    "\n",
    "\n",
    "\n",
    "\n",
    "\n"
   ]
  },
  {
   "cell_type": "markdown",
   "id": "42265554-4ec1-46ad-a088-49aabe4b170e",
   "metadata": {},
   "source": [
    "¡Perfecto, bien hecho! Yo tengo hummus y tú tienes la base de hechos terminada. Me acabo de dar cuenta de que falta una regla para verificar que los vendedores del AbrillantaBombillas están tratando con el cliente correcto. ¿Podrías rellenar lo que falta cogiendo la otra regla puede_vender como ejemplo? \n",
    "\n",
    "        puede_vender(Vendedor, Cliente) :-\n",
    "            trabaja_en(Vendedor, _______),\n",
    "            no_tiene_pelo(______)."
   ]
  },
  {
   "cell_type": "code",
   "execution_count": null,
   "id": "a0552ac3-d34d-43ee-8624-2ec4270ad52b",
   "metadata": {
    "jupyter": {
     "source_hidden": true
    }
   },
   "outputs": [],
   "source": [
    "\n",
    "import ipywidgets as widgets\n",
    "from IPython.display import display, clear_output\n",
    "\n",
    "quizzes = [\n",
    "    {\n",
    "        'question': '¿Qué falta en la segunda línea?',\n",
    "        'options': ['bombilla', 'melenas', 'tiene_pelo', 'Cliente'],\n",
    "        'correct_option': 'bombilla'\n",
    "    },\n",
    "        {\n",
    "        'question': '¿Qué falta en la tercera línea?',\n",
    "        'options': ['melenas', 'Vendedor', 'Cliente', 'puede_vender'],\n",
    "        'correct_option': 'Cliente'\n",
    "    }\n",
    "]\n",
    "\n",
    "current_question_index = 0\n",
    "\n",
    "out = widgets.Output()\n",
    "\n",
    "def create_quiz():\n",
    "    global current_question_index\n",
    "    \n",
    "    with out:\n",
    "        clear_output(wait=True)\n",
    "        \n",
    "        if current_question_index < len(quizzes):\n",
    "            quiz = quizzes[current_question_index]\n",
    "            question_label = widgets.Label(value=quiz['question'])\n",
    "            buttons = [widgets.Button(description=option) for option in quiz['options']]\n",
    "            feedback_label = widgets.Label(value='')\n",
    "\n",
    "            def on_button_clicked(b):\n",
    "                if b.description == quiz['correct_option']:\n",
    "                    feedback_label.value = '¡Correcto!'\n",
    "                    next_question()\n",
    "                else:\n",
    "                    feedback_label.value = 'Incorrecto, intenta de nuevo.'\n",
    "            \n",
    "            for button in buttons:\n",
    "                button.on_click(on_button_clicked)\n",
    "            \n",
    "            display(widgets.VBox([question_label] + buttons + [feedback_label]))\n",
    "        else:\n",
    "            display(widgets.Label(value='¡Enhorabuena, máquina!'))\n",
    "\n",
    "def next_question():\n",
    "    global current_question_index\n",
    "    current_question_index += 1\n",
    "    create_quiz()\n",
    "\n",
    "create_quiz()\n",
    "\n",
    "display(out)\n",
    "\n"
   ]
  },
  {
   "cell_type": "markdown",
   "id": "62e4fb61-7184-4252-b5ed-508ec96bdfa9",
   "metadata": {},
   "source": [
    "¡Genial! Ahora podemos hacer las pruebas que queramos y verificar que está todo correcto:<br>"
   ]
  },
  {
   "cell_type": "code",
   "execution_count": 4,
   "id": "5b846f32-d741-46eb-9152-d419548205d0",
   "metadata": {
    "jupyter": {
     "source_hidden": true
    }
   },
   "outputs": [
    {
     "data": {
      "application/vnd.jupyter.widget-view+json": {
       "model_id": "d17fee8e007944d4a0651e666e85f3a2",
       "version_major": 2,
       "version_minor": 0
      },
      "text/plain": [
       "VBox(children=(Text(value='', continuous_update=False, description='Consulta:', placeholder='Escribe aquí...')…"
      ]
     },
     "metadata": {},
     "output_type": "display_data"
    }
   ],
   "source": [
    "import ipywidgets as widgets\n",
    "from IPython.display import display, HTML\n",
    "from swiplserver import PrologMQI\n",
    "\n",
    "output_box_prolog = widgets.Output()\n",
    "input_query_prolog = widgets.Text(\n",
    "    placeholder='Escribe aquí...',\n",
    "    description='Consulta:',\n",
    "    disabled=False,\n",
    "    continuous_update=False\n",
    ")\n",
    "\n",
    "error_count_prolog = 0\n",
    "\n",
    "def show_error_message(user_input_prolog):\n",
    "    global error_count_prolog\n",
    "    with output_box_prolog:\n",
    "        output_box_prolog.clear_output()\n",
    "        if error_count_prolog < 2:\n",
    "            message = \"Revisa la sintaxis, por favor.\"\n",
    "        elif error_count_prolog < 4:\n",
    "            message = \"Mira bien, ¿se te ha olvidado el punto al final? ¿El nombre del predicado es correcto?\"\n",
    "        elif error_count_prolog < 6:\n",
    "            message = \"Estás haciendo al búho llorar.\"\n",
    "        elif error_count_prolog < 7:\n",
    "            message = \"¿Te diviertes?\"\n",
    "        else:\n",
    "            message = \"...\"\n",
    "        display(HTML(f'<div style=\"text-align: center;\">{message}</div>'))\n",
    "        error_count_prolog += 1\n",
    "\n",
    "def on_key_press_prolog(event):\n",
    "    global error_count_prolog\n",
    "    user_input_prolog = input_query_prolog.value.strip()\n",
    "    \n",
    "    with PrologMQI() as mqi:\n",
    "        with mqi.create_thread() as prolog_thread:\n",
    "            prolog_thread.query(\"set_prolog_flag(encoding,utf8).\")\n",
    "            try:\n",
    "                prolog_thread.query(\"consult(\\\"programas/ventapelosnopelos.pl\\\")\")\n",
    "                query_prolog = user_input_prolog\n",
    "                prolog_thread.query_async(query_prolog, find_all=True)\n",
    "                result_prolog = prolog_thread.query_async_result()\n",
    "                \n",
    "                with output_box_prolog:\n",
    "                    output_box_prolog.clear_output()\n",
    "                    if not result_prolog:\n",
    "                        show_error_message(user_input_prolog)\n",
    "                    else:\n",
    "                        error_count_prolog = 0  \n",
    "                        print(f\"¡Ole, bien hecho!\")\n",
    "            \n",
    "            except Exception as e:\n",
    "                with output_box_prolog:\n",
    "                    output_box_prolog.clear_output()\n",
    "                    show_error_message(user_input_prolog)\n",
    "\n",
    "def on_button_clicked_prolog(_):\n",
    "    input_container_prolog.children = [input_query_prolog]\n",
    "\n",
    "input_query_prolog.observe(on_key_press_prolog, names='value')\n",
    "\n",
    "input_container_prolog = widgets.VBox(\n",
    "    [input_query_prolog, output_box_prolog],\n",
    "    layout=widgets.Layout(align_items='center')  \n",
    ")\n",
    "\n",
    "display(input_container_prolog)\n"
   ]
  },
  {
   "cell_type": "markdown",
   "id": "eded520a-9e66-4cea-b3e0-9d20f261bb29",
   "metadata": {},
   "source": [
    "Me acaban de llamar de la empresa, su productividad ha subido un 35% y la horda de hippies peludos que les monta una manifestación cada vez que le ofrecían crema de calva a un melenas ha levantado el piquete semipermanente que tenían a la entrada de sus oficinas. ¡¡Buen trabajo!!<br>\n",
    "Han quedado muy contentos.<br>\n",
    "Tremendamente contentos.<br>\n",
    "Tan contentos que se ha corrido la voz sobre las maravillas de Prolog y ahora mismo tengo otros 15 proyectos encima de la mesa. Tienes dos minutos para coger un café, **hay que trabajar**."
   ]
  },
  {
   "cell_type": "markdown",
   "id": "9282c438-98d2-4b4b-8ff8-e4dfde8d525a",
   "metadata": {},
   "source": [
    "Vamos con nuestro siguiente proyecto. Un ayuntamiento del estado de Alabama, cansado de líos entre árboles genealógicos, desea automatizar el sistema y detectar casos **peculiares** entre cónyuges para aliviar la carga de trabajo del personal laboral. Por suerte, ya nos han adelantado la base de conocimiento con todos los miembros del condado, así que solo nos falta diseñar las reglas para determinar si dos individuos pueden casarse sin consecuencias **catastróficas**. Aquí tenemos unos pocos casos de muestra:<br>\n",
    "\n",
    "    % Primera generación\n",
    "    padre(ferdinand,john).\n",
    "    padre(ferdinand,james).\n",
    "    \n",
    "    % Segunda generación\n",
    "    \n",
    "    padre(john, harry).       \n",
    "    madre(mary, harry).\n",
    "    padre(john, william).     \n",
    "    madre(mary, william).\n",
    "    \n",
    "    padre(james, emily).      \n",
    "    madre(susan, emily).\n",
    "    padre(james, margaret).\n",
    "    madre(susan, margaret).\n",
    "    padre(james, oliver).\n",
    "    madre(susan, oliver).\n",
    "    \n",
    "    % Tercera generación\n",
    "    padre(harry, jim).       \n",
    "    madre(emily, jim).\n",
    "    padre(harry, sophie).\n",
    "    madre(emily, sophie).\n",
    "    \n",
    "    padre(william, sebastian).\n",
    "    madre(margaret, sebastian).\n",
    "    padre(william, charlotte).\n",
    "    madre(margaret, charlotte).\n",
    "    \n",
    "    padre(oliver, george).    \n",
    "    madre(emma, george).\n",
    "    padre(oliver, lily).\n",
    "    madre(emma, lily).\n",
    "    \n",
    "    padre(sebastian, ella).       \n",
    "    madre(claire, ella).\n",
    "    padre(sebastian, jack).\n",
    "    madre(claire, jack).\n",
    "\n",
    "Te he quitado parte del curro y he definido todas las relaciones familiares, pero falta establecer las reglas. Desde el ayuntamiento nos dicen que no pueden casarse dos personas con tercer grado de consanguinidad o menos(Padres e hijos, hermanos, abuelos y nietos, tíos y sobrinos) pero además, **por si acaso**, quieren prohibir el matrimonio entre primos cuyos padres también sean primos. Acaba lo que me queda que yo tengo que salir un segundo a por tabaco. <br>grado3(P1, P2) :- padre(P1, P2).\n",
    "\n",
    "    grado3(P1, P2) :- padre(P1, P2).\n",
    "    grado3(P1, P2) :- madre(P1, P2).\n",
    "    grado3(P1, P2) :- hermano(P1, P2).\n",
    "    grado3(P1, P2) :- ¿?(P1, P2).\n",
    "    grado3(P1, P2) :- abuela(P1, P2).\n",
    "    grado3(P1, P2) :- ¿?(P1, P2).\n",
    "    grado3(P1, P2) :- tia(P1, P2).\n",
    "\n",
    "    no_matrimonio_primos(P1, P2) :-\n",
    "    ¿?(P1, P2),\n",
    "    padre(¿?, P1),\n",
    "    padre(¿?, P2),\n",
    "    primo(Padre1, Padre2).\n",
    "\n",
    "    no_matrimonio_primos(P1, P2) :-\n",
    "    primo(P1, P2),\n",
    "    ¿?(Madre1, P1),\n",
    "    ¿?(Madre2, P2),\n",
    "    primo(¿?, ¿?)."
   ]
  },
  {
   "cell_type": "code",
   "execution_count": null,
   "id": "8cd6ff33-5c3a-448a-9fde-59b938cbcae0",
   "metadata": {},
   "outputs": [],
   "source": []
  },
  {
   "cell_type": "markdown",
   "id": "759ca65e-f7b5-44e9-9636-d23a1d8d996d",
   "metadata": {},
   "source": [
    "Test final"
   ]
  },
  {
   "cell_type": "markdown",
   "id": "aba1903b-b96c-4ba2-ad20-4576bbf91c4b",
   "metadata": {},
   "source": [
    "### - [Siguiente apartado - Operadores de Prolog](Operadores.ipynb)\n",
    "### - [Apartado anterior - Posología de Prolog](Predicados.ipynb)\n",
    "### - [Volver al índice](../Indice.ipynb)"
   ]
  },
  {
   "cell_type": "code",
   "execution_count": null,
   "id": "6141fc1b-6b81-4901-ae25-756c1e75f886",
   "metadata": {},
   "outputs": [],
   "source": []
  }
 ],
 "metadata": {
  "kernelspec": {
   "display_name": "Python 3 (ipykernel)",
   "language": "python",
   "name": "python3"
  },
  "language_info": {
   "codemirror_mode": {
    "name": "ipython",
    "version": 3
   },
   "file_extension": ".py",
   "mimetype": "text/x-python",
   "name": "python",
   "nbconvert_exporter": "python",
   "pygments_lexer": "ipython3",
   "version": "3.10.4"
  }
 },
 "nbformat": 4,
 "nbformat_minor": 5
}
