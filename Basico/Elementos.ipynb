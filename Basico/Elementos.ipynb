{
 "cells": [
  {
   "cell_type": "markdown",
   "id": "b2f3c255-5044-46cc-ad5e-9477dc58d514",
   "metadata": {
    "editable": true,
    "slideshow": {
     "slide_type": ""
    },
    "tags": []
   },
   "source": [
    "# Composición de Prolog, o ¿cómo monto yo esta cosa?\n",
    "Vamos a recapitular un momento.<br>\n",
    "Hemos visto qué componentes tiene de fondo Prolog.<br>\n",
    "Hemos visto los elementos básicos de Prolog, y como escribir predicados básicos.<br>\n",
    "Acabamos de aprender como utilizar consultas en Prolog.<br>\n",
    "¿Qué nos falta?<br>\n",
    "~~Llorar~~ **Practicar**.<br>\n",
    "\n",
    "Vamos a escribir tu primer programa en Prolog. No te preocupes, ¡estaré a tu lado y el búho promete no reírse!<br>\n",
    "Imagina que una empresa de márketing nos pide ayuda para organizar su agenda de clientes y determinar potenciales compradores de sus nuevos y demoledores productos, el **PeinaPelos 3000X** y el **AbrillantaBombillas Turbo 5000**. En esta empresa, por desgracia, los vendedores no tienen el suficiente carisma como para venderle un peine a un calvo y agradecerían tener un sistema que automatice el proceso de selección de clientes para las dos secciones de ventas, una especializada en productos para pelo y la otra en productos para pelones en función del departamento del vendedor y el tipo de cliente.<br>\n",
    "Los datos que disponemos son los siguientes:<br>\n",
    "Ramon y Javier trabajan en el departamento de melenas.<br>\n",
    "Alberto y Sara trabajan en el departamento de bombillas.<br>\n",
    "Actualmente sabemos que Melinda, Ana y Bruno tienen pelo Pantene, mientras que Guillermo, Álvaro y Antonio cuentan con un tremendo tobogán de piojos.<br>\n",
    "Te he adelantado la tarea un poco, y solo faltaría añadir a nuestra base de conocimiento a Ramón, Sara, Melinda y Guillermo. ¿Podrías crear los hechos que faltan?<br>\n",
    "\n",
    "\n",
    "\n",
    "\n",
    "\n",
    "\n",
    "\n"
   ]
  },
  {
   "cell_type": "code",
   "execution_count": null,
   "id": "04c89781-5433-4e5b-afe1-b81fcfa146d7",
   "metadata": {
    "editable": true,
    "slideshow": {
     "slide_type": ""
    },
    "tags": []
   },
   "outputs": [],
   "source": []
  },
  {
   "cell_type": "markdown",
   "id": "42265554-4ec1-46ad-a088-49aabe4b170e",
   "metadata": {},
   "source": [
    "¡Perfecto, bien hecho! Ahora nos falta hacer la regla para clasificar a todos los clientes. Tengo esto escrito, pero me he quedado sin hummus y el Mercadona me cierra en cinco minutos, ¿te importa completar lo que falta?. ¡Ánimo!"
   ]
  },
  {
   "cell_type": "code",
   "execution_count": null,
   "id": "a0552ac3-d34d-43ee-8624-2ec4270ad52b",
   "metadata": {},
   "outputs": [],
   "source": []
  },
  {
   "cell_type": "markdown",
   "id": "594b924b-e5fd-4385-b027-78be725ad28f",
   "metadata": {},
   "source": [
    "Me acaban de llamar de la empresa, su productividad ha subido un 35% y la horda de hippies peludos que les monta una manifestación cada vez que le ofrecían crema de calva a un melenas ha levantado el piquete semipermanente que tenían a la entrada de sus oficinas. ¡¡Buen trabajo!!<br>\n",
    "Han quedado muy contentos.<br>\n",
    "Tremendamente contentos.<br>\n",
    "Tan contentos que se ha corrido la voz sobre las maravillas de Prolog y ahora mismo tengo otros 15 proyectos encima de la mesa. Tienes dos minutos para coger un café, **hay que trabajar**."
   ]
  },
  {
   "cell_type": "markdown",
   "id": "2d3f8c82-3066-4c39-9624-f20c6f00abf9",
   "metadata": {},
   "source": []
  },
  {
   "cell_type": "markdown",
   "id": "9282c438-98d2-4b4b-8ff8-e4dfde8d525a",
   "metadata": {},
   "source": [
    "Vamos con nuestro siguiente proyecto. Un ayuntamiento del estado de Alabama, cansado de líos entre árboles genealógicos, desea automatizar el sistema y detectar casos **peculiares** entre cónyuges para aliviar la carga de trabajo del personal laboral. Por suerte, ya nos han adelantado la base de conocimiento con todos los miembros del condado, así que solo nos falta diseñar las reglas para determinar si dos individuos pueden casarse sin consecuencias **catastróficas**."
   ]
  },
  {
   "cell_type": "code",
   "execution_count": null,
   "id": "8cd6ff33-5c3a-448a-9fde-59b938cbcae0",
   "metadata": {},
   "outputs": [],
   "source": []
  },
  {
   "cell_type": "code",
   "execution_count": null,
   "id": "587acd48-d85b-4363-97fd-722886bdcb0a",
   "metadata": {},
   "outputs": [],
   "source": []
  },
  {
   "cell_type": "code",
   "execution_count": null,
   "id": "89005cee-2669-43b7-8144-40cfb1fd1b39",
   "metadata": {},
   "outputs": [],
   "source": []
  }
 ],
 "metadata": {
  "kernelspec": {
   "display_name": "Python 3 (ipykernel)",
   "language": "python",
   "name": "python3"
  },
  "language_info": {
   "codemirror_mode": {
    "name": "ipython",
    "version": 3
   },
   "file_extension": ".py",
   "mimetype": "text/x-python",
   "name": "python",
   "nbconvert_exporter": "python",
   "pygments_lexer": "ipython3",
   "version": "3.10.4"
  }
 },
 "nbformat": 4,
 "nbformat_minor": 5
}
