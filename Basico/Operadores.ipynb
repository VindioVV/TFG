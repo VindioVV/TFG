{
 "cells": [
  {
   "cell_type": "markdown",
   "id": "2db2b3bd-a123-4ab4-8ec3-7248c7970d40",
   "metadata": {},
   "source": [
    "# Operadores de comparación y operadores de unificación."
   ]
  }
 ],
 "metadata": {
  "kernelspec": {
   "display_name": "Python 3 (ipykernel)",
   "language": "python",
   "name": "python3"
  },
  "language_info": {
   "codemirror_mode": {
    "name": "ipython",
    "version": 3
   },
   "file_extension": ".py",
   "mimetype": "text/x-python",
   "name": "python",
   "nbconvert_exporter": "python",
   "pygments_lexer": "ipython3",
   "version": "3.10.4"
  }
 },
 "nbformat": 4,
 "nbformat_minor": 5
}
