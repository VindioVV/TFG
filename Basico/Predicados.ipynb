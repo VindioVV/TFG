{
 "cells": [
  {
   "cell_type": "markdown",
   "id": "6a4240e5-0ce8-4cff-9b02-4b0a66118b6e",
   "metadata": {
    "editable": true,
    "slideshow": {
     "slide_type": ""
    },
    "tags": []
   },
   "source": [
    "\n",
    "\n"
   ]
  },
  {
   "cell_type": "markdown",
   "id": "9b8840a8-87e4-4939-8a52-4b26b837c9e8",
   "metadata": {
    "editable": true,
    "slideshow": {
     "slide_type": ""
    },
    "tags": []
   },
   "source": [
    " <!DOCTYPE html>\n",
    "<html lang=\"es\">\n",
    "<head>\n",
    "    <meta charset=\"UTF-8\">\n",
    "    <meta name=\"viewport\" content=\"width=device-width, initial-scale=1.0\">\n",
    "<style>\n",
    "    body {\n",
    "        font-family: Arial, sans-serif;\n",
    "        background-color: #000000;\n",
    "        margin: 0;\n",
    "        padding: 0;\n",
    "    }\n",
    "    .content {\n",
    "        max-width: 90%;\n",
    "        width: 150ch;\n",
    "        margin: 0 auto;\n",
    "        padding: 20px;\n",
    "        background-color: rgba(255, 255, 255, 0.8); \n",
    "        box-shadow: 0 0 20px rgba(0, 0, 0, 0.5);\n",
    "        border-top: 1px solid rgba(0, 0, 0, 0.5);\n",
    "    }\n",
    "    h1, h2, h3 {\n",
    "        color: #333;\n",
    "    }\n",
    "    a {\n",
    "        color: #1a73e8;\n",
    "        text-decoration: none;\n",
    "    }\n",
    "    a:hover {\n",
    "        text-decoration: underline;\n",
    "    }\n",
    "    em {\n",
    "        font-style: italic;\n",
    "    }\n",
    "    strong {\n",
    "        font-weight: bold;\n",
    "    }\n",
    "    @media (max-width: 1290px) {\n",
    "        .content {\n",
    "            max-width: 80%; \n",
    "            padding: 20px;\n",
    "            width: 120ch; \n",
    "        }\n",
    "    }\n",
    "    @media (max-width: 480px) {\n",
    "        .content {\n",
    "            max-width: 100%;\n",
    "            padding: 20px; \n",
    "        }\n",
    "    }\n",
    "</style>\n",
    "</head>\n",
    "<body>\n",
    "    <div class=\"content\">\n",
    "\n",
    "<h1 id=\"predicados-o-c-mo-funciona-esta-cosa-\">Predicados, o ¿cómo funciona esta cosa?.</h1>\n",
    "<p>Bueno. Llegó el  momento. Lo que diferencia a los polluelos de los búhos. Vamos a hablar de <strong>predicados</strong><br>\n",
    "En Prolog, los predicados son la manera en que expresamos relaciones y hechos dentro del programa. Un predicado puede ser visto como una función lógica que puede ser verdadera o falsa dependiendo de sus argumentos.<br></p>\n",
    "<p>Como ya hemos mencionado anteriormente, la base de conocimiento de Prolog se compone de <strong>hechos</strong> y <strong>reglas</strong>.<br></p>\n",
    "<p>Los <strong>hechos</strong> son una declaración básica sobre algo indiscutiblemente verdadero. La definición de un hecho en Prolog es muy sencilla, simplemente lo declaramos con un nombre que empiece por minúscula, seguido de sus argumentos(La cantidad de los cuáles se denomina <strong>aridad</strong>) entre paréntesis y separados por comas, finalizando con un punto(En lugar de punto y coma, como en C, Java, etc...).  Por ejemplo, el predicado <strong>animal(gato).</strong> declara que un gato es un animal, y cualquier consulta sobre el predicado animal con el argumento gato será verdadero sin más consideración.<br>\n",
    "Las <strong>reglas</strong>, por su parte, son predicados que se definen en términos de otros predicados. Tienen una <strong>cabeza</strong>, con una sintaxis muy similar a la de los hechos, y un <strong>cuerpo</strong>, compuesto de un conjunto de llamadas a otras reglas y hechos en forma de cláusulas de Horn que se deben cumplir para que la cabeza sea verdadera. Por ejemplo, podríamos plantear la siguiente regla:<br></p>\n",
    "<pre><code><span class=\"hljs-selector-tag\">pez</span>(X)<span class=\"hljs-selector-pseudo\">:-</span>\n",
    "        <span class=\"hljs-selector-tag\">branquias</span>(X),\n",
    "        <span class=\"hljs-selector-tag\">escamas</span>(X),\n",
    "        <span class=\"hljs-selector-tag\">aletas</span>(X).\n",
    "</code></pre><p>¿Qué hemos hecho aquí? Hemos definido una regla en función de otros tres hechos. Si X, el elemento que queremos evaluar, tiene branquias, escamas y aletas, entonces será verdadero que es un pez.<br>\n",
    "No obstante, pueden ocurrir situaciones particulares. Por ejemplo, podría ocurrir que el día de mañana aparezca una especie de pez que tenga escamas y aletas, pero tenga pulmones en lugar de branquias, ¿cómo gestionaríamos esto?.<br>\n",
    "Fácil, &quot;sobrecargando&quot; la regla:<br></p>\n",
    "<pre><code><span class=\"hljs-selector-tag\">pez</span>(X)<span class=\"hljs-selector-pseudo\">:-</span>\n",
    "        <span class=\"hljs-selector-tag\">branquias</span>(X),\n",
    "        <span class=\"hljs-selector-tag\">escamas</span>(X),\n",
    "        <span class=\"hljs-selector-tag\">aletas</span>(X).\n",
    "<span class=\"hljs-selector-tag\">pez</span>(X)<span class=\"hljs-selector-pseudo\">:-</span>\n",
    "        <span class=\"hljs-selector-tag\">pulmones</span>(X),\n",
    "        <span class=\"hljs-selector-tag\">escamas</span>(X),\n",
    "        <span class=\"hljs-selector-tag\">aletas</span>(X).\n",
    "</code></pre><p>¿Qué ocurrirá en este caso si le mandamos un pez bípedo? Primero entrará por la primera regla, intentando unificar la primera condición(branquias). Revisará en la base de conocimiento buscando una coincidencia con cualquier ser que tenga branquias. Al no encontrarlo, esa regla <strong>fallará</strong> y pasará a examinar la segunda regla, donde unificará correctamente.<br>\n",
    "Puedes ver esta manera de operar como la sobrecarga de métodos, constructores, etc... en lenguajes como Java, con la peculiaridad de que, si bien la funcionalidad del predicado varía, <strong>el número de argumentos se mantiene igual.</strong><br>\n",
    "Vamos a aprovechar este maravilloso contexto que tenemos entre manos para, nuevamente, recalcar la importancia del orden de nuestras reglas y plantear una introducción a la eficiencia y las buenas prácticas. ¿Qué ocurriría si, por ejemplo, las reglas estuvieran dispuestas de la siguiente manera?<br></p>\n",
    "<pre><code><span class=\"hljs-selector-tag\">pez</span>(X)<span class=\"hljs-selector-pseudo\">:-</span>\n",
    "        <span class=\"hljs-selector-tag\">aletas</span>(X),\n",
    "        <span class=\"hljs-selector-tag\">escamas</span>(X),\n",
    "        <span class=\"hljs-selector-tag\">pulmones</span>(X).\n",
    "<span class=\"hljs-selector-tag\">pez</span>(X)<span class=\"hljs-selector-pseudo\">:-</span>\n",
    "        <span class=\"hljs-selector-tag\">aletas</span>(X),\n",
    "        <span class=\"hljs-selector-tag\">escamas</span>(X),\n",
    "        <span class=\"hljs-selector-tag\">branquias</span>(X).\n",
    "</code></pre><p>¿Ves alguna diferencia? Una pista, la eficiencia es bastante MAYOR en este caso que en el anterior. Para empezar, si tenemos un caso particular y raro que debemos considerar(Supongamos que hay dos especies de peces con pulmones de 200.000 especies de peces), al colocarlo en primer lugar podríamos pensar que  la mayor parte de las verificaciones a realizar pasen por comprobaciones innecesarias, ya que la inmensa mayoría no tendrá pulmones y, por tanto, fallará esa verificación, pero dado que solo tenemos dos hechos de este tipo en nuestra base de conocimiento el coste computacional es muy pequeño, mientras que una comprobación de un pez con pulmones tendría que pasar primero por los 199.998 casos de peces con branquias antes de que falle la regla en nuestro ejemplo anterior y pase a la siguiente.<br>\n",
    "Además, en este ejemplo también hemos ordenado el cuerpo de la regla de manera ineficiente. Si la característica que no tienen en común es el aparato respiratorio, esta debería ir en primer lugar por lógica, dado que de otra manera toda consulta que se realice pasará por dos predicados extra(aletas y escamas) antes de llegar a la comprobación que diferencia nuestros dos tipos de peces.<br>\n",
    "¿Tienes clara ya la sintaxis? No te preocupes, en menos de 25.000 palabras estaremos ya practicando, que se que es lo que <strong>verdaderamente</strong> te apetece.</p>\n",
    "<h2 id=\"consultas-o-c-mo-se-usa-esta-cosa-\">Consultas, o ¿cómo se usa esta cosa?.</h2>\n",
    "<p>Supongamos que tenemos escrito un programa funcional para determinar si un ser en concreto es un pez o no. ¿Cómo narices lo ejecutamos?<br>\n",
    "Muy sencillo. En Prolog tenemos fundamentalmente dos IDEs, SWI-Prolog(Aplicación local) y <strong><a href=\"[https://swish.swi-prolog.org/\">SWISH</a></strong>, versión online que no requiere instalación, posee un bloc de notas que permite revisar y escribir código en caliente y otros tantos elementos de QoL que, en mi opinión, lo hacen una opción mucho más cómoda y agradable de utilizar.<br>\n",
    "En primer lugar, cargamos el archivo a utilizar con el predicado <strong>consult()</strong>, que acepta como argumento la ruta del fichero .pl sobre el que vamos a trabajar. Una vez cargado este archivo, simplemente tenemos que escribir el predicado con los argumentos que deseamos consultar.<br></p>\n",
    "</body>\n",
    "</html>\n"
   ]
  },
  {
   "cell_type": "markdown",
   "id": "a6869f06-6cca-4d62-b41e-929f2211360b",
   "metadata": {},
   "source": [
    "### - [Siguiente apartado - Posología de Prolog](Elementos.ipynb)\n",
    "### - [Capítulo anterior - Unificación](../Composicion/Unificacion.ipynb)\n",
    "### - [Volver al índice](../Indice.ipynb)"
   ]
  },
  {
   "cell_type": "markdown",
   "id": "85aef62f-9c37-41ed-a0ef-270700562c4b",
   "metadata": {},
   "source": [
    "# Poner test"
   ]
  }
 ],
 "metadata": {
  "kernelspec": {
   "display_name": "Python 3 (ipykernel)",
   "language": "python",
   "name": "python3"
  },
  "language_info": {
   "codemirror_mode": {
    "name": "ipython",
    "version": 3
   },
   "file_extension": ".py",
   "mimetype": "text/x-python",
   "name": "python",
   "nbconvert_exporter": "python",
   "pygments_lexer": "ipython3",
   "version": "3.10.4"
  }
 },
 "nbformat": 4,
 "nbformat_minor": 5
}
