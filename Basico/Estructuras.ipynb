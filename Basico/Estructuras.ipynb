{
 "cells": [
  {
   "cell_type": "markdown",
   "id": "55b51d30-75ee-4d5e-b87f-f7b2ca32d00b",
   "metadata": {},
   "source": [
    "Esto quizás se me haga redundante o quizás tenga que dejarlo para más adelante. Podría explicar como definir árboles, por ejemplo.\n",
    "Definitivamente voy a meter el trabajo con listas aquí"
   ]
  },
  {
   "cell_type": "markdown",
   "id": "339fbe0f-0ca9-4d59-a305-3df7f6ba26a5",
   "metadata": {},
   "source": [
    "Estructuras en Prolog:\n",
    "Como ya hemos comentado, en Prolog solo trabajamos con términos. Esto, lejos de ser una limitación, nos da absoluta libertad para definir las estructuras que queramos como queramos.\n"
   ]
  },
  {
   "cell_type": "code",
   "execution_count": null,
   "id": "bc7811f0-3943-4abe-adc6-657f89534069",
   "metadata": {},
   "outputs": [],
   "source": []
  }
 ],
 "metadata": {
  "kernelspec": {
   "display_name": "Python 3 (ipykernel)",
   "language": "python",
   "name": "python3"
  },
  "language_info": {
   "codemirror_mode": {
    "name": "ipython",
    "version": 3
   },
   "file_extension": ".py",
   "mimetype": "text/x-python",
   "name": "python",
   "nbconvert_exporter": "python",
   "pygments_lexer": "ipython3",
   "version": "3.10.4"
  }
 },
 "nbformat": 4,
 "nbformat_minor": 5
}
