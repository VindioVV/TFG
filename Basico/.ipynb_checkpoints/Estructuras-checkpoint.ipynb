{
 "cells": [
  {
   "cell_type": "markdown",
   "id": "55b51d30-75ee-4d5e-b87f-f7b2ca32d00b",
   "metadata": {},
   "source": [
    "Esto quizás se me haga redundante o quizás tenga que dejarlo para más adelante. Podría explicar como definir árboles, por ejemplo.\n",
    "Definitivamente no voy a meter el trabajo con listas aquí"
   ]
  },
  {
   "cell_type": "code",
   "execution_count": null,
   "id": "a6dd16ce-4aee-4879-92c6-e660a4410d89",
   "metadata": {},
   "outputs": [],
   "source": []
  }
 ],
 "metadata": {
  "kernelspec": {
   "display_name": "Python 3 (ipykernel)",
   "language": "python",
   "name": "python3"
  },
  "language_info": {
   "codemirror_mode": {
    "name": "ipython",
    "version": 3
   },
   "file_extension": ".py",
   "mimetype": "text/x-python",
   "name": "python",
   "nbconvert_exporter": "python",
   "pygments_lexer": "ipython3",
   "version": "3.10.4"
  }
 },
 "nbformat": 4,
 "nbformat_minor": 5
}
