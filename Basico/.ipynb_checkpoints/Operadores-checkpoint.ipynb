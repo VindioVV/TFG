{
 "cells": [
  {
   "cell_type": "markdown",
   "id": "35ead1cd-70c7-4938-94ef-059b22668f56",
   "metadata": {
    "editable": true,
    "slideshow": {
     "slide_type": ""
    },
    "tags": []
   },
   "source": [
    "# Operadores de comparación y operadores de unificación.\n",
    "Le hemos perdido ya un poco el miedo a Prolog. ¿Verdad?<br>\n",
    "MAL.<br>\n",
    "!Vamos a recuperarlo! ¿Qué mejor para ello que profundizar un poco más en la sintaxis y hacernos la picha un lío con los operadores que se parecen a los que ya conocemos?<br>\n",
    "**Al lío**<br>\n",
    "\n",
    "####\n",
    "Quizás te hayas dado cuenta de que, hasta ahora, no hemos unificado nada nosotros, si no que el motor de inferencia lo ha hecho en nuestro lugar. En Prolog, el operador de unificación es el siguiente: (Parada dramática)<br>\n",
    "# =\n",
    "Efectivamente, la misma cosa que utilizamos para asignar valores en el resto de lenguajes. Pero aquí **no** estamos asignando cosas. Estamos haciendo **comparaciones**.<br>\n",
    "Prolog es absurdamente literal. Como ya comentamos en capítulos anteriores, los átomos se interpretan **tal cual**. Esto da lugar a situaciones absurdas como la siguiente:<br>\n",
    "Es falso que 3+2 sea igual que cinco. Poner ejemplo con código e invitar al usuario a practicar cosillas.<br>\n",
    "El operador de unificación lee las cosas tal cual están. Podrías plantarle delante un plato de huevos con patatas y un cesto con patatas fritas y dos huevos fritos en un platito y te diría que no son el mismo plato.<br>\n",
    "¿Cómo afrontamos esto?<br>\n",
    "Con el operador **is**. Este operador **si** resuelve las operaciones aritméticas que se le planteen antes de intentar unificar. Pero vuelvo a repetir.<br>\n",
    "**NO**<br>\n",
    "**HACE**<br>\n",
    "**ASIGNACIONES**<br>\n",
    "**EN PROLOG NO TENEMOS ASIGNACIONES**<br>\n",
    "Una variable puede unificarse con un valor concreto. X = 5 devolverá **true**, pero X no tiene un valor \"asignado\" como tal. Profundizaremos en este aspecto en el siguiente capítulo.<br>\n",
    "Ahora podemos probar diferentes operaciones y comprobar que, efectivamente, Prolog es capaz de determinar si 3+2 es lo mismo que 5.<br>\n",
    "#### poner ejemplo sobre el is\n",
    "¿Qué más operadores tenemos? Por una parte tenemos los operadores aritméticos(+,-,*,/,//(División entera),mod,^) y comparadores(<,=<,>,>=) \"clásicos\", pero también hay que explicar algunos operadores nuevos. Ponte el cinturón, que se vienen curvas.<br>\n",
    "#### ==\n",
    "Este es el operador de igualdad sintáctica. Hay que tener cuidado con él y no confundirlo con el operador de unificación. Podemos verlo en el siguiente ejemplo:<br>\n",
    "X == 5 false.<br>\n",
    "X = 5 true.<br>\n",
    "X == 5 true.<br>\n",
    "Este operador hace una comparación entre términos **sin** unificar. Si la variable X no ha unificado con nada anteriormente, la comparación fallará.<br>\n",
    "#### \\=\n",
    "Este operador se comporta como la negación de la unificación. Fallará y devolverá false si dos elementos logran unificarse.<br>\n",
    "### =\\=\n",
    "Operador de desigualdad aritmética. Fallará si dos términos se asocian a un valor numérico igual.<br>\n",
    "#### ,\n",
    "Operador de conjunción. Es una Y/AND lógica. Quizás lo hayas deducido en ejemplos anteriores, pero por si acaso vamos a recalcarlo.<br>\n",
    "#### ;\n",
    "Operación de disyunción. Es una O/OR lógica. Como comentamos anteriormente, este operador debería entenderse como un recurso ocasional y no como un elemento de programación habitual. Mantengamos las buenas prácticas y usemos cláusulas de Horn siempre que sea posible.<br>\n",
    "####  \\\\+\n",
    "Honestamente, este no es un operador como tal, si no un **predicado de control**.<br>\n",
    "Si, lo de que no tenemos ningún tipo de control sobre el flujo de ejecución era mentira. Pero de momento tú haz como que no has oído nada.<br>\n",
    "Lo podemos llamar también \"No se puede demostrar\". Evalúa si un objetivo no puede ser probado verdadero, y de ser así devuelve true. Sin embargo, hay que tener en cuenta que **NO** es un operador de negación. En lógica, la negación implica demostrar que algo es falso. El \"No se puede demostrar\" simplemente comprueba que no se puede probar que un predicado sea verdadero y por tanto asume que es falso. En cierto modo, lo podemos entender como la **presunción de inocencia**<br>\n",
    "Podríamos acusar a una persona de roncar, pero de no ser consciente de ello porque no tiene un volumen tan absurdo como para despertar a alguien y por ello no es consciente de sus berreas de ciervo en celo. Si quisiéramos negar que dicha persona no ronca(Negación lógica) tendríamos que presentarnos con una grabadora en la habitación de esta persona y comprobar in situ si hay o no hay ronquidos. Por otra parte, haciendo uso del \"No se puede demostrar\", al no haber testigos despertados por motosierras nocturnas podemos afirmar que, dado que no se ha probado cierto que dicha persona ronque, esta persona no ronca y es inocente de las perversas acusaciones que caen sobre su cabeza.<br>"
   ]
  },
  {
   "cell_type": "code",
   "execution_count": null,
   "id": "9d98f037-eb31-41c5-87b8-46d0dd5ca3f2",
   "metadata": {},
   "outputs": [],
   "source": []
  }
 ],
 "metadata": {
  "kernelspec": {
   "display_name": "Python 3 (ipykernel)",
   "language": "python",
   "name": "python3"
  },
  "language_info": {
   "codemirror_mode": {
    "name": "ipython",
    "version": 3
   },
   "file_extension": ".py",
   "mimetype": "text/x-python",
   "name": "python",
   "nbconvert_exporter": "python",
   "pygments_lexer": "ipython3",
   "version": "3.10.4"
  }
 },
 "nbformat": 4,
 "nbformat_minor": 5
}
