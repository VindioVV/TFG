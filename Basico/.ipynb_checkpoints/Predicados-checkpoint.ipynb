{
 "cells": [
  {
   "cell_type": "markdown",
   "id": "6a4240e5-0ce8-4cff-9b02-4b0a66118b6e",
   "metadata": {
    "editable": true,
    "slideshow": {
     "slide_type": ""
    },
    "tags": []
   },
   "source": [
    "\n",
    "\n"
   ]
  },
  {
   "cell_type": "markdown",
   "id": "9b8840a8-87e4-4939-8a52-4b26b837c9e8",
   "metadata": {},
   "source": [
    "# Predicados, o ¿cómo funciona esta cosa?.\n",
    "Bueno. Llegó el  momento. Lo que diferencia a los polluelos de los búhos. Vamos a hablar de **predicados**<br>\n",
    "En Prolog, los predicados son la manera en que expresamos relaciones y hechos dentro del programa. Un predicado puede ser visto como una función lógica que puede ser verdadera o falsa dependiendo de sus argumentos.<br>\n",
    "\n",
    "Como ya hemos mencionado anteriormente, la base de conocimiento de Prolog se compone de **hechos** y **reglas**.<br>\n",
    "\n",
    "Los **hechos** son una declaración básica sobre algo indiscutiblemente verdadero. La definición de un hecho en Prolog es muy sencilla, simplemente lo declaramos con un nombre que empiece por minúscula, seguido de sus argumentos(La cantidad de los cuáles se denomina **aridad**) entre paréntesis y separados por comas, finalizando con un punto(En lugar de punto y coma, como en C, Java, etc...).  Por ejemplo, el predicado **animal(gato).** declara que un gato es un animal, y cualquier consulta sobre el predicado animal con el argumento gato será verdadero sin más consideración.<br>\n",
    "Las **reglas**, por su parte, son predicados que se definen en términos de otros predicados. Tienen una **cabeza**, con una sintaxis muy similar a la de los hechos, y un **cuerpo**, compuesto de un conjunto de llamadas a otras reglas y hechos en forma de cláusulas de Horn que se deben cumplir para que la cabeza sea verdadera. Por ejemplo, podríamos plantear la siguiente regla:<br>\n",
    "pez(X):-<br>\n",
    "        branquias(X),<br>\n",
    "        escamas(X),<br>\n",
    "        aletas(X).<br>\n",
    "¿Qué hemos hecho aquí? Hemos definido una regla en función de otros tres hechos. Si X, el elemento que queremos evaluar, tiene branquias, escamas y aletas, entonces será verdadero que es un pez.<br>\n",
    "No obstante, pueden ocurrir situaciones particulares. Por ejemplo, podría ocurrir que el día de mañana aparezca una especie de pez que tenga escamas y aletas, pero tenga pulmones en lugar de branquias, ¿cómo gestionaríamos esto?.<br>\n",
    "Fácil, \"sobrecargando\" la regla:<br>\n",
    "pez(X):-<br>\n",
    "        branquias(X),<br>\n",
    "        escamas(X),<br>\n",
    "        aletas(X).<br>\n",
    "pez(X):-<br>\n",
    "        pulmones(X),<br>\n",
    "        escamas(X),<br>\n",
    "        aletas(X).<br>\n",
    "¿Qué ocurrirá en este caso si le mandamos un pez bípedo? Primero entrará por la primera regla, intentando unificar la primera condición(branquias). Revisará en la base de conocimiento buscando una coincidencia con cualquier ser que tenga branquias. Al no encontrarlo, esa regla **fallará** y pasará a examinar la segunda regla, donde unificará correctamente.<br>\n",
    "Puedes ver esta manera de operar como la sobrecarga de métodos, constructores, etc... en lenguajes como Java, con la peculiaridad de que, si bien la funcionalidad del predicado varía, **el número de argumentos se mantiene igual.**<br>\n",
    "Vamos a aprovechar este maravilloso contexto que tenemos entre manos para, nuevamente, recalcar la importancia del orden de nuestras reglas y plantear una introducción a la eficiencia y las buenas prácticas. ¿Qué ocurriría si, por ejemplo, las reglas estuvieran dispuestas de la siguiente manera?<br>\n",
    "pez(X):-<br>\n",
    "        aletas(X),<br>\n",
    "        escamas(X),<br>\n",
    "        pulmones(X).<br>\n",
    "pez(X):-<br>\n",
    "        aletas(X),<br>\n",
    "        escamas(X),<br>\n",
    "        branquias(X).<br>\n",
    "¿Ves alguna diferencia? Una pista, la eficiencia es exponencialmente menor en este caso que en el anterior. Para empezar, si tenemos un caso particular y raro que debemos considerar, pero es poco probable que suceda(Supongamos que hay dos especies de peces con pulmones de 200.000 especies de peces), al colocarlo en primer lugar estaremos haciendo que la mayor parte de las verificaciones a realizar pasen por comprobaciones innecesarias, ya que la inmensa mayoría no tendrá pulmones y, por tanto, fallará esa verificación.<br>\n",
    "Además, en el ejemplo anterior también hemos ordenado el cuerpo de la regla de manera ineficiente. Si la característica que no tienen en común es el aparato respiratorio, esta debería ir en primer lugar por lógica, dado que de otra manera toda consulta que se realice pasará por dos predicados extra(branquias y escamas) antes de llegar a la comprobación que diferencia nuestros dos tipos de peces.<br>\n",
    "### Poner imágenes o gif del proceso\n",
    "¿Tienes clara ya la sintaxis? No te preocupes, en menos de 25.000 palabras estaremos ya practicando, que se que es lo que **verdaderamente** te apetece.\n",
    "\n",
    "## Consultas, o ¿cómo se usa esta cosa?.\n",
    "\n",
    "Supongamos que tenemos escrito un programa funcional para determinar si un ser en concreto es un pez o no. ¿Cómo narices lo ejecutamos?<br>\n",
    "Muy sencillo. En Prolog tenemos fundamentalmente dos IDEs, SWI-Prolog(Aplicación local) y **[SWISH]([https://swish.swi-prolog.org/)**, versión online que no requiere instalación, posee un bloc de notas que permite revisar y escribir código en caliente y otros tantos elementos de QoL que, en mi opinión, lo hacen una opción mucho más cómoda y agradable de utilizar.<br>\n",
    "En primer lugar, cargamos el archivo a utilizar con el predicado **consult()**, que acepta como argumento la ruta del fichero .pl sobre el que vamos a trabajar. Una vez cargado este archivo, simplemente tenemos que escribir el predicado con los argumentos que deseamos consultar.<br>\n",
    "### Poner imágenes o gif del proceso y un pequeño cuestionario con una imagen de un diploma al final"
   ]
  },
  {
   "cell_type": "code",
   "execution_count": null,
   "id": "980d891b-b4f2-4b18-9861-5ee752d3fd27",
   "metadata": {},
   "outputs": [],
   "source": []
  },
  {
   "cell_type": "markdown",
   "id": "773a8ee0-b3f6-4029-a2f8-e1b580bb8951",
   "metadata": {
    "editable": true,
    "slideshow": {
     "slide_type": ""
    },
    "tags": []
   },
   "source": []
  },
  {
   "cell_type": "markdown",
   "id": "a6869f06-6cca-4d62-b41e-929f2211360b",
   "metadata": {},
   "source": []
  }
 ],
 "metadata": {
  "kernelspec": {
   "display_name": "Python 3 (ipykernel)",
   "language": "python",
   "name": "python3"
  },
  "language_info": {
   "codemirror_mode": {
    "name": "ipython",
    "version": 3
   },
   "file_extension": ".py",
   "mimetype": "text/x-python",
   "name": "python",
   "nbconvert_exporter": "python",
   "pygments_lexer": "ipython3",
   "version": "3.10.4"
  }
 },
 "nbformat": 4,
 "nbformat_minor": 5
}
