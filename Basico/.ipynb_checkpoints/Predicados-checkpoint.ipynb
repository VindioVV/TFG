{
 "cells": [
  {
   "cell_type": "markdown",
   "id": "6a4240e5-0ce8-4cff-9b02-4b0a66118b6e",
   "metadata": {},
   "source": [
    "# Predicados, o ¿cómo funciona esta cosa?."
   ]
  },
  {
   "cell_type": "markdown",
   "id": "9b8840a8-87e4-4939-8a52-4b26b837c9e8",
   "metadata": {},
   "source": [
    "Bueno. Llegó el  momento. Lo que diferencia a los polluelos de los búhos. Vamos a hablar de **predicados**"
   ]
  }
 ],
 "metadata": {
  "kernelspec": {
   "display_name": "Python 3 (ipykernel)",
   "language": "python",
   "name": "python3"
  },
  "language_info": {
   "codemirror_mode": {
    "name": "ipython",
    "version": 3
   },
   "file_extension": ".py",
   "mimetype": "text/x-python",
   "name": "python",
   "nbconvert_exporter": "python",
   "pygments_lexer": "ipython3",
   "version": "3.10.4"
  }
 },
 "nbformat": 4,
 "nbformat_minor": 5
}
