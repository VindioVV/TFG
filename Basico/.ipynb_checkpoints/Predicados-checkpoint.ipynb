{
 "cells": [
  {
   "cell_type": "markdown",
   "id": "6a4240e5-0ce8-4cff-9b02-4b0a66118b6e",
   "metadata": {},
   "source": [
    "# Predicados, o ¿cómo funciona esta cosa?."
   ]
  },
  {
   "cell_type": "markdown",
   "id": "9b8840a8-87e4-4939-8a52-4b26b837c9e8",
   "metadata": {},
   "source": [
    "Bueno. Llegó el  momento. Lo que diferencia a los polluelos de los búhos. Vamos a hablar de **predicados**<br>\n"
   ]
  },
  {
   "cell_type": "code",
   "execution_count": null,
   "id": "980d891b-b4f2-4b18-9861-5ee752d3fd27",
   "metadata": {},
   "outputs": [],
   "source": []
  },
  {
   "cell_type": "markdown",
   "id": "773a8ee0-b3f6-4029-a2f8-e1b580bb8951",
   "metadata": {
    "editable": true,
    "slideshow": {
     "slide_type": ""
    },
    "tags": []
   },
   "source": [
    "Comentar el uso del ;, explicar que un OR y dos reglas separadas son lo mismo y desincentivar el uso del mismo, dado que las reglas entre si llevan un OR implícito sin necesitar un OR interno, crea mucho caos y genera código menos mantenible y el uso de OR disminuye el aislamiento."
   ]
  },
  {
   "cell_type": "markdown",
   "id": "a6869f06-6cca-4d62-b41e-929f2211360b",
   "metadata": {},
   "source": [
    "\n",
    "#### Consultas\n",
    "La manera que tenemos de interactuar con los intérpretes de Prolog es a través de consultas. La sintaxis de una consulta es trivial, se pone el nombre del predicado al que deseamos llamar con los argumentos(Variables o átomos) entre paréntesis seguido de un punto. "
   ]
  }
 ],
 "metadata": {
  "kernelspec": {
   "display_name": "Python 3 (ipykernel)",
   "language": "python",
   "name": "python3"
  },
  "language_info": {
   "codemirror_mode": {
    "name": "ipython",
    "version": 3
   },
   "file_extension": ".py",
   "mimetype": "text/x-python",
   "name": "python",
   "nbconvert_exporter": "python",
   "pygments_lexer": "ipython3",
   "version": "3.10.4"
  }
 },
 "nbformat": 4,
 "nbformat_minor": 5
}
