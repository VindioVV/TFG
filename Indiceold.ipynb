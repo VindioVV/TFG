{
 "cells": [
  {
   "cell_type": "markdown",
   "id": "703ebf7b-2a0a-4759-9679-e7bca038bcf3",
   "metadata": {
    "editable": true,
    "slideshow": {
     "slide_type": ""
    }
   },
   "source": [
    "# Prolog - 27mg.\n",
    "## I. ¿Qué es Prolog 27.mg y para qué se utiliza?\n",
    "### - [Introducción y aplicaciones](Introduccion/Introduccion.ipynb)\n",
    "### - [Beneficios de Prolog](Introduccion/Beneficios.ipynb)\n",
    "### - [Como adquirir Prolog](Introduccion/Requisitos.ipynb)\n",
    "\n",
    "## II. Composición de Prolog 27 mg.\n",
    "### - [Primeros pasos](Composicion/PrimerosPasos.ipynb)\n",
    "### - [Variables](Composicion/Variables.ipynb)\n",
    "### - [Tipos de datos](Composicion/Datos.ipynb)\n",
    "### - [Operadores](Composicion/Operadores.ipynb)\n",
    "### - [Unificación y búsquedas](Composicion/Unificacion.ipynb)\n",
    "\n",
    "## III. Modo de uso.\n",
    "### - [Como utilizar Prolog](Basico/ModoDeUso.ipynb)\n",
    "### - [Posología de consultas](Basico/EjemplosBasicos.ipynb)\n",
    "### - [Introducción a las estructuras de datos](Basico/Estructuras.ipynb)\n",
    "\n",
    "## IV. Modo de uso _intermedio_.\n",
    "### - [Recursividad](Basico/ModoDeUso.ipynb)\n",
    "### - [Listas](Basico/ModoDeUso.ipynb)\n",
    "\n",
    "\n",
    "## IV. Modo de uso __avanzado__.\n",
    "### - [Librerías y funciones](Avanzado/librerias.ipynb)\n",
    "### - [Primer programa en Prolog](Avanzado/librerias.ipynb)\n",
    "\n",
    "## V. Contraindicaciones.\n",
    "\n",
    "## V. Interacciones de Prolog.\n",
    "\n",
    "\n",
    "## VI. Efectos secundarios.\n",
    "### - [Qué hacer si tomo más Prolog del que debería](EfectosSecundarios/Librerias.ipynb)\n",
    "### - [Qué hacer en caso de adicción](EfectosSecundarios/Adiccion.ipynb)\n",
    "\n",
    "## VII. Conservación y almacenamiento.\n",
    "### - [Como contribuir al proyecto](EfectosSecundarios/librerias.ipynb)\n",
    "\n",
    "## VII. Información adicional.\n",
    "### - [Como contribuir al proyecto](EfectosSecundarios/librerias.ipynb)\n",
    "## VIII. Final de la guía.\n",
    "\n",
    "\n",
    "\n",
    "    "
   ]
  },
  {
   "cell_type": "code",
   "execution_count": null,
   "id": "0bdbe1cf-06b6-41dd-ae34-90e85e830943",
   "metadata": {},
   "outputs": [],
   "source": []
  }
 ],
 "metadata": {
  "kernelspec": {
   "display_name": "Python 3 (ipykernel)",
   "language": "python",
   "name": "python3"
  },
  "language_info": {
   "codemirror_mode": {
    "name": "ipython",
    "version": 3
   },
   "file_extension": ".py",
   "mimetype": "text/x-python",
   "name": "python",
   "nbconvert_exporter": "python",
   "pygments_lexer": "ipython3",
   "version": "3.10.4"
  },
  "scenes_data": {
   "active_scene": "Default Scene",
   "init_scene": "",
   "scenes": [
    "Default Scene"
   ]
  }
 },
 "nbformat": 4,
 "nbformat_minor": 5
}
