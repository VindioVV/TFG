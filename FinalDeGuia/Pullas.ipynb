{
 "cells": [
  {
   "cell_type": "markdown",
   "id": "6d55ffc4-1a89-46a7-93c6-0b915740d726",
   "metadata": {},
   "source": [
    "Listar posibles efectos adversos:\n",
    "-Creerse matemático.\n",
    "-Creerse mejor que el resto de desarrolladores.\n",
    "-Echar más tiempo en Reddit o GitHub vacilando de chanar de Prolog que haciendo algo con Prolog.\n",
    "-Empezar a programar de manera obtusa ala 1990 para parecer guay.\n",
    "Pensar más cosas."
   ]
  }
 ],
 "metadata": {
  "kernelspec": {
   "display_name": "Python 3 (ipykernel)",
   "language": "python",
   "name": "python3"
  },
  "language_info": {
   "codemirror_mode": {
    "name": "ipython",
    "version": 3
   },
   "file_extension": ".py",
   "mimetype": "text/x-python",
   "name": "python",
   "nbconvert_exporter": "python",
   "pygments_lexer": "ipython3",
   "version": "3.10.4"
  }
 },
 "nbformat": 4,
 "nbformat_minor": 5
}
