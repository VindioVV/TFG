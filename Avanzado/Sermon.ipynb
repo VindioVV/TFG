{
 "cells": [
  {
   "cell_type": "markdown",
   "id": "e686df5c-28f1-459a-9f16-415c5dcf6037",
   "metadata": {},
   "source": [
    "Como programar en prolog estructuras de control, comparacion con desarrollo de bucles en prolog."
   ]
  },
  {
   "cell_type": "markdown",
   "id": "7fcae263-8004-4278-8de5-2f20510042f7",
   "metadata": {},
   "source": [
    "# Sermón de buen padre\n",
    "\n",
    "\n",
    "\n",
    "Bueno. Ya desapareció la ilusión. En Prolog **si** tenemos manera de controlar el flujo de operación y \"guiar\" al motor de inferencia según nos interese, pero **nunca** deberías pensar en esto como un objetivo de programación. Si un programa que queda en un bucle infinito funciona al meter un operador de corte, en realidad ese programa **NO** funciona y deberías darle un poco de lija y de emplaste en lugar de intentar tapar el bache echando más pintura. <br>\n",
    "En el capítulo anterior vimos por encima los predicados de control. Ahora nos vamos a meter un poco más a fondo con ellos. <br>"
   ]
  },
  {
   "cell_type": "markdown",
   "id": "ef207c86-dd87-4346-8c17-ee428c086cfa",
   "metadata": {},
   "source": [
    "# Poner ejemplo de adivinar números como ejemplo de programa \"complejo\" simular conversacion proque no hay in/out\n",
    "# Decir que aqi no podemos utilizar inputs referenciar a swiprolog otra vez\n",
    "# Explicar diferencias efectos secundarios imperativo declarativo y como son manejables en declarativo\n",
    "# Programacion topdown, vamos de lo más general a lo específico, vs bottom up\n",
    "# REcalcar modularidad de funciones y lo fácil que es añadir funciones aquí, que es consecuencia de una buena programacion topdown\n",
    "# Repetir con el tema del corteÇ"
   ]
  },
  {
   "cell_type": "code",
   "execution_count": null,
   "id": "9bf5aae6-537d-4753-974b-1a1005f5bc94",
   "metadata": {},
   "outputs": [],
   "source": [
    "import ipywidgets as widgets\n",
    "from IPython.display import display, HTML\n",
    "from swiplserver import PrologMQI\n",
    "\n",
    "output_box_prolog = widgets.Output()\n",
    "input_query_prolog = widgets.Text(\n",
    "    placeholder='¡Dale chicha, majo!',\n",
    "    description='Consulta:',\n",
    "    disabled=False,\n",
    "    continuous_update=False\n",
    ")\n",
    "\n",
    "error_count_prolog = 0\n",
    "\n",
    "def show_error_message(user_input_prolog):\n",
    "    global error_count_prolog\n",
    "    with output_box_prolog:\n",
    "        output_box_prolog.clear_output()\n",
    "        if error_count_prolog < 2:\n",
    "            message = \"Revisa la sintaxis, por favor.\"\n",
    "        elif error_count_prolog < 4:\n",
    "            message = \"Mira bien, ¿se te ha olvidado el punto al final? ¿El nombre del predicado es correcto?\"\n",
    "        elif error_count_prolog < 6:\n",
    "            message = \"Estás haciendo al búho llorar.\"\n",
    "        elif error_count_prolog < 7:\n",
    "            message = \"¿Te diviertes?\"\n",
    "        else:\n",
    "            message = \"...\"\n",
    "        display(HTML(f'<div style=\"text-align: center;\">{message}</div>'))\n",
    "        error_count_prolog += 1\n",
    "\n",
    "def show_error_message(user_input_prolog):\n",
    "    global error_count_prolog\n",
    "    with output_box_prolog:\n",
    "        output_box_prolog.clear_output()\n",
    "        message = 'Esto de ' + user_input_prolog + ' devuelve falso, ¡bien preguntado!'\n",
    "        display(HTML(f'<div style=\"text-align: center;\">{message}</div>'))\n",
    "\n",
    "\n",
    "\n",
    "def on_key_press_prolog(event):\n",
    "    global error_count_prolog\n",
    "    user_input_prolog = input_query_prolog.value.strip()\n",
    "    \n",
    "    with PrologMQI() as mqi:\n",
    "        with mqi.create_thread() as prolog_thread:\n",
    "            prolog_thread.query(\"set_prolog_flag(encoding,utf8).\")\n",
    "            try:\n",
    "                prolog_thread.query(\"consult(\\\"ejemplos/adivinaNumero.pl\\\")\")\n",
    "                query_prolog = user_input_prolog\n",
    "                prolog_thread.query_async(query_prolog, find_all=True)\n",
    "                result_prolog = prolog_thread.query_async_result()\n",
    "                \n",
    "                with output_box_prolog:\n",
    "                    output_box_prolog.clear_output()\n",
    "                    if not result_prolog:\n",
    "                        show_error_message(user_input_prolog)\n",
    "                    else:\n",
    "                        error_count_prolog = 0  \n",
    "                        display(HTML(f'<div style=\"text-align: center;\">\"Resultado: {result_prolog}. Vamos, que es verdad.\"</div>'))\n",
    "\n",
    "            \n",
    "            except Exception as e:\n",
    "                with output_box_prolog:\n",
    "                    output_box_prolog.clear_output()\n",
    "                    show_error_message(user_input_prolog)\n",
    "\n",
    "def on_button_clicked_prolog(_):\n",
    "    input_container_prolog.children = [input_query_prolog]\n",
    "\n",
    "input_query_prolog.observe(on_key_press_prolog, names='value')\n",
    "\n",
    "input_container_prolog = widgets.VBox([input_query_prolog, output_box_prolog], align_items='center')\n",
    "display(input_container_prolog)\n"
   ]
  }
 ],
 "metadata": {
  "kernelspec": {
   "display_name": "Python 3 (ipykernel)",
   "language": "python",
   "name": "python3"
  },
  "language_info": {
   "codemirror_mode": {
    "name": "ipython",
    "version": 3
   },
   "file_extension": ".py",
   "mimetype": "text/x-python",
   "name": "python",
   "nbconvert_exporter": "python",
   "pygments_lexer": "ipython3",
   "version": "3.10.4"
  }
 },
 "nbformat": 4,
 "nbformat_minor": 5
}
