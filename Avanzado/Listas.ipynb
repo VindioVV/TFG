{
 "cells": [
  {
   "cell_type": "markdown",
   "id": "ae723d45-6f7f-4d07-b7a9-012daea36327",
   "metadata": {},
   "source": [
    "# Listas\n",
    "Vamos a dedicar este capítulo a la estructura más importante de Prolog. Tan importante, que es la **única** estructura de datos como tal que encontramos definida expresamente en Prolog. La ilustre **lista**.<br>\n",
    "En Prolog, una lista es una secuencia ordenada de elementos delimitada por corchetes ([ ]). Los elementos de una lista pueden ser cualquier término en Prolog, átomos, números, variables, otras listas, estructuras de datos...<br>\n",
    "En cualquier lista **no vacía** pueden distinguirse dos partes fundamentales:<br>\n",
    "#### Cabeza\n",
    "El primer elemento de la lista, normalmente referido en inglés como **Head**/**H**.<br>\n",
    "#### Cola\n",
    "Una lista que contiene el resto de elementos excepto la cabeza, normalmente referida en inglés como **Tail**/**T**. Un dato **muy** importante a tener en cuenta es que la lista vacía **también** es una lista y, por tanto, una lista de un solo elemento(Una lista con un número tal que \\[1\\]) puede descomponerse en cabeza y cola de la forma (1,[]).<br>\n",
    "\n",
    "## Cómo operar con listas en Prolog.\n",
    "En lenguajes imperativos como Java, Python, etc tenemos la suerte de contar con índices para poder acceder a elementos de nuestras listas. Esto no ocurre con Prolog. Cualquier acceso a un elemento de la lista, salvo el primer elemento, implica recorrer la lista hasta encontrar y unificar el elemento que nos interesa. Vamos a ver primero como recorrer una lista en Prolog:<br>\n",
    "\n",
    "    Caso base, la lista está vacía y no hay nada que recorrer.\n",
    "    recorrer_lista([]).\n",
    "    Caso recursivo, la lista contiene al menos un elemento.\n",
    "    recorrer_lista([H|T]):-\n",
    "        write('Elemento en la cabeza '),\n",
    "        write(H),\n",
    "        recorrer_lista(T).\n",
    "\n",
    "En el caso recursivo lo que hacemos es recibir una lista como parámetro y en nuestra llamada recursiva simplemente pasamos como argumento **la cola** de la lista, descartando la cabeza. Si ejecutamos el código con una lista, por ejemplo, de números ordenados del 1 al 5 obtendremos lo siguiente:<br>"
   ]
  },
  {
   "cell_type": "code",
   "execution_count": 41,
   "id": "c9ad0472-afdc-4d91-a0ab-a7458158ffd3",
   "metadata": {},
   "outputs": [
    {
     "data": {
      "application/vnd.jupyter.widget-view+json": {
       "model_id": "855aedd725b24550ae5ff9a05bc01ae2",
       "version_major": 2,
       "version_minor": 0
      },
      "text/plain": [
       "VBox(children=(HBox(children=(Button(description='Ejecutar', layout=Layout(margin='0 auto'), style=ButtonStyle…"
      ]
     },
     "metadata": {},
     "output_type": "display_data"
    },
    {
     "name": "stderr",
     "output_type": "stream",
     "text": [
      "Prolog: El elemento en la cabeza es [1]\n",
      "Prolog: \n",
      "Prolog: El elemento en la cabeza es [2]\n",
      "Prolog: \n",
      "Prolog: El elemento en la cabeza es [3]\n",
      "Prolog: \n",
      "Prolog: El elemento en la cabeza es [4]\n",
      "Prolog: \n",
      "Prolog: El elemento en la cabeza es [5]\n",
      "Prolog: \n"
     ]
    }
   ],
   "source": [
    "import ipywidgets as widgets\n",
    "from IPython.display import display, HTML\n",
    "from swiplserver import PrologMQI\n",
    "\n",
    "output_box_prolog_lista = widgets.Output()\n",
    "execute_button_prolog = widgets.Button(\n",
    "    description='Ejecutar',\n",
    "    disabled=False,\n",
    "    button_style='',\n",
    "    layout=widgets.Layout(margin='0 auto')  \n",
    ")\n",
    "\n",
    "def on_button_clicked_prolog(_):\n",
    "    with PrologMQI() as mqi:\n",
    "        with mqi.create_thread() as prolog_thread:\n",
    "            prolog_thread.query(\"set_prolog_flag(encoding,utf8).\")\n",
    "            try:\n",
    "                prolog_thread.query(\"consult(\\\"ejemplos/recorrerLista.pl\\\")\")\n",
    "                prolog_thread.query(\"retractall(output(_)).\")  \n",
    "                prolog_thread.query(\"recorrer_lista([1,2,3,4,5]).\")\n",
    "                \n",
    "                result_prolog = prolog_thread.query(\"output(Salida).\")\n",
    "\n",
    "                with output_box_prolog_lista:\n",
    "                    output_box_prolog_lista.clear_output()\n",
    "                    if not result_prolog:\n",
    "                        display(HTML(\"<div style='text-align: center;'>No se pudo obtener el resultado</div>\"))\n",
    "                    else:\n",
    "                        output_content = result_prolog[0].get('Salida', '')\n",
    "                        display(HTML(f\"<div style='text-align: center'><pre>{output_content}</pre></div>\"))\n",
    "            \n",
    "            except Exception as e:\n",
    "                with output_box_prolog_lista:\n",
    "                    output_box_prolog_lista.clear_output()\n",
    "                    display(HTML(f\"<div style='text-align: center; color:red;'>Error: {str(e)}</div>\"))\n",
    "\n",
    "execute_button_prolog.on_click(on_button_clicked_prolog)\n",
    "\n",
    "input_container_prolog_lista = widgets.VBox([\n",
    "    widgets.HBox([execute_button_prolog], layout=widgets.Layout(justify_content='center')),\n",
    "    output_box_prolog_lista\n",
    "], align_items='center')\n",
    "\n",
    "display(input_container_prolog_lista)\n"
   ]
  },
  {
   "cell_type": "markdown",
   "id": "dc0e7da7-2e81-4cca-98aa-a756edf2ced7",
   "metadata": {},
   "source": [
    "Otro caso de estudio interesante es el hacer a mano el metapredicado **member**, y buscar un elemento en una lista nosotros mismos:<br>\n",
    "\n",
    "        % Buscar elemento en lista\n",
    "\n",
    "        %Caso base, el elemento en la cabeza de la lista coincide con el elemento que buscamos.\n",
    "        miembro(Element, [Element|_]).\n",
    "        %Caso recursivo, ignoramos la cabeza de la lista y avanzamos en la lista.\n",
    "        miembro(Element, [_|T]) :-\n",
    "            member(Element, T).\n",
    "\n",
    "Si esto lo probamos con el siguiente ejemplo(miembro(5,\\[1,2,3,4,5,1,2]).) nos devolverá lo siguiente:<br>"
   ]
  },
  {
   "cell_type": "code",
   "execution_count": 42,
   "id": "f261473e-1e67-4590-bb42-25e049a6a576",
   "metadata": {},
   "outputs": [
    {
     "data": {
      "application/vnd.jupyter.widget-view+json": {
       "model_id": "89d9c78f6cb545e5b1a642215aa17d4b",
       "version_major": 2,
       "version_minor": 0
      },
      "text/plain": [
       "VBox(children=(HBox(children=(Button(description='Dale chicha', layout=Layout(margin='0 auto'), style=ButtonSt…"
      ]
     },
     "metadata": {},
     "output_type": "display_data"
    },
    {
     "name": "stderr",
     "output_type": "stream",
     "text": [
      "Prolog: El elemento 5 no coincide con el elemento 1\n",
      "Prolog: El elemento 5 no coincide con el elemento 2\n",
      "Prolog: El elemento 5 no coincide con el elemento 3\n",
      "Prolog: El elemento 5 no coincide con el elemento 4\n",
      "Prolog: El elemento 5 se ha encontrado en la lista\n",
      "Prolog: El elemento 5 se ha encontrado en la lista\n",
      "Prolog: El elemento 5 no coincide con el elemento 1\n",
      "Prolog: El elemento 5 no coincide con el elemento 2\n"
     ]
    }
   ],
   "source": [
    "import ipywidgets as widgets\n",
    "from IPython.display import display, HTML\n",
    "from swiplserver import PrologMQI\n",
    "\n",
    "output_box_prolog = widgets.Output()\n",
    "execute_button_prolog = widgets.Button(\n",
    "    description='Dale chicha',\n",
    "    disabled=False,\n",
    "    button_style='',\n",
    "    layout=widgets.Layout(margin='0 auto') \n",
    ")\n",
    "\n",
    "def on_button_clicked_prolog(_):\n",
    "    with PrologMQI() as mqi:\n",
    "        with mqi.create_thread() as prolog_thread:\n",
    "            prolog_thread.query(\"set_prolog_flag(encoding,utf8).\")\n",
    "            try:\n",
    "                prolog_thread.query(\"consult(\\\"ejemplos/miembro.pl\\\")\")\n",
    "                prolog_thread.query(\"retractall(output(_)).\") \n",
    "                prolog_thread.query(\"miembro(5,[1,2,3,4,5,1,2]).\")\n",
    "                \n",
    "                result_prolog = prolog_thread.query(\"output(Salida).\")\n",
    "\n",
    "                with output_box_prolog:\n",
    "                    output_box_prolog.clear_output()\n",
    "                    if not result_prolog:\n",
    "                        display(HTML(\"<div style='text-align: center;'>No se pudo obtener el resultado</div>\"))\n",
    "                    else:\n",
    "                        output_content = result_prolog[0].get('Salida', '')\n",
    "                        display(HTML(f\"<div style='text-align: center'><pre>{output_content}</pre></div>\"))\n",
    "            \n",
    "            except Exception as e:\n",
    "                with output_box_prolog:\n",
    "                    output_box_prolog.clear_output()\n",
    "                    display(HTML(f\"<div style='text-align: center; color:red;'>Error: {str(e)}</div>\"))\n",
    "\n",
    "execute_button_prolog.on_click(on_button_clicked_prolog)\n",
    "\n",
    "input_container_prolog = widgets.VBox([\n",
    "    widgets.HBox([execute_button_prolog], layout=widgets.Layout(justify_content='center')),\n",
    "    output_box_prolog\n",
    "], align_items='center')\n",
    "\n",
    "display(input_container_prolog)\n"
   ]
  },
  {
   "cell_type": "markdown",
   "id": "14c33887-43b3-41b6-a086-e67d9f06e958",
   "metadata": {},
   "source": [
    "### - [Siguiente apartado - Estructuras de control](Control.ipynb)\n",
    "### - [Apartado anterior - Estructuras de datos](Estructuras.ipynb)\n",
    "### - [Volver al índice](../Indice.ipynb)\n"
   ]
  },
  {
   "cell_type": "code",
   "execution_count": null,
   "id": "97806c1d-ed46-4588-9d35-ec8444967b21",
   "metadata": {},
   "outputs": [],
   "source": []
  }
 ],
 "metadata": {
  "kernelspec": {
   "display_name": "Python 3 (ipykernel)",
   "language": "python",
   "name": "python3"
  },
  "language_info": {
   "codemirror_mode": {
    "name": "ipython",
    "version": 3
   },
   "file_extension": ".py",
   "mimetype": "text/x-python",
   "name": "python",
   "nbconvert_exporter": "python",
   "pygments_lexer": "ipython3",
   "version": "3.10.4"
  }
 },
 "nbformat": 4,
 "nbformat_minor": 5
}
