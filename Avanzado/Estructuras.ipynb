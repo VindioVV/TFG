{
 "cells": [
  {
   "cell_type": "markdown",
   "id": "a976a3b9-6ff2-48c7-addd-dcfc26c6d56b",
   "metadata": {},
   "source": [
    "# Estructuras de datos\n",
    "\n",
    "Como dijimos antes, en Prolog definimos las estructuras de datos en los propios predicados, como un término. Esto no significa que no haya árboles, pilas o colas en Prolog. Las hay y pueden ser un **dolor** de entender. ¡Y ahora te toca sufrirlo como me tocó a mi en su día! ¿Tienes café? Porque vamos con una severísima trepanación lógica:<br>\n",
    "\n",
    "### Diccionarios\n",
    "\n",
    "### Tuplas\n",
    "\n",
    "### Pilas\n",
    "\n",
    "### Colas\n",
    "\n",
    "### Listas\n",
    "\n",
    "### Connjuntos\n"
   ]
  }
 ],
 "metadata": {
  "kernelspec": {
   "display_name": "Python 3 (ipykernel)",
   "language": "python",
   "name": "python3"
  },
  "language_info": {
   "codemirror_mode": {
    "name": "ipython",
    "version": 3
   },
   "file_extension": ".py",
   "mimetype": "text/x-python",
   "name": "python",
   "nbconvert_exporter": "python",
   "pygments_lexer": "ipython3",
   "version": "3.10.4"
  }
 },
 "nbformat": 4,
 "nbformat_minor": 5
}
