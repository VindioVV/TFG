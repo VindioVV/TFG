{
 "cells": [
  {
   "cell_type": "markdown",
   "id": "ae723d45-6f7f-4d07-b7a9-012daea36327",
   "metadata": {},
   "source": [
    "# Listas\n",
    "Vamos a dedicar el capítulo final de esta guía a la estructura más importante de Prolog, las ilustres **listas**.<br>\n",
    "En Prolog, una lista es una secuencia ordenada de elementos delimitada por corchetes ([ ]). Los elementos de una lista pueden ser cualquier término en Prolog, átomos, números, variables, otras listas, estructuras de datos...<br>\n",
    "En cualquier lista **no vacía** pueden distinguirse dos partes fundamentales:<br>\n",
    "#### Cabeza\n",
    "El primer elemento de la lista, normalmente referido en inglés como **Head**/**H**.<br>\n",
    "#### Cola\n",
    "Una lista que contiene el resto de elementos excepto la cabeza, normalmente referida en inglés como **Tail**/**T**.<br>\n",
    "\n",
    "## Cómo operar con listas en Prolog.\n",
    "En lenguajes imperativos como Java, Python, etc tenemos la suerte de contar con índices para poder acceder a elementos de nuestras listas. Esto no ocurre con Prolog. Cualquier acceso a un elemento de la lista, salvo el primer elemento, implica recorrer la lista hasta encontrar y unificar el elemento que nos interesa.<br>\n"
   ]
  }
 ],
 "metadata": {
  "kernelspec": {
   "display_name": "Python 3 (ipykernel)",
   "language": "python",
   "name": "python3"
  },
  "language_info": {
   "codemirror_mode": {
    "name": "ipython",
    "version": 3
   },
   "file_extension": ".py",
   "mimetype": "text/x-python",
   "name": "python",
   "nbconvert_exporter": "python",
   "pygments_lexer": "ipython3",
   "version": "3.10.4"
  }
 },
 "nbformat": 4,
 "nbformat_minor": 5
}
