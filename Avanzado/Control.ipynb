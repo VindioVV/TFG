{
 "cells": [
  {
   "cell_type": "markdown",
   "id": "e686df5c-28f1-459a-9f16-415c5dcf6037",
   "metadata": {},
   "source": [
    "Como programar en prolog estructuras de control, comparacion con desarrollo de bucles en prolog."
   ]
  },
  {
   "cell_type": "markdown",
   "id": "7fcae263-8004-4278-8de5-2f20510042f7",
   "metadata": {},
   "source": [
    "# Estructuras de control en Prolog.\n",
    "\n",
    "Bueno. Ya desapareció la ilusión. En Prolog **si** tenemos manera de controlar el flujo de operación y \"guiar\" al motor de inferencia según nos interese, pero **nunca** deberías pensar en esto como un objetivo de programación. Si un programa que queda en un bucle infinito funciona al meter un operador de corte, en realidad ese programa **NO** funciona y deberías darle un poco de lija y de emplaste en lugar de intentar tapar el bache echando más pintura. <br>\n",
    "En el capítulo anterior vimos por encima los predicados de control. Ahora nos vamos a meter un poco más a fondo con ellos. <br>"
   ]
  }
 ],
 "metadata": {
  "kernelspec": {
   "display_name": "Python 3 (ipykernel)",
   "language": "python",
   "name": "python3"
  },
  "language_info": {
   "codemirror_mode": {
    "name": "ipython",
    "version": 3
   },
   "file_extension": ".py",
   "mimetype": "text/x-python",
   "name": "python",
   "nbconvert_exporter": "python",
   "pygments_lexer": "ipython3",
   "version": "3.10.4"
  }
 },
 "nbformat": 4,
 "nbformat_minor": 5
}
