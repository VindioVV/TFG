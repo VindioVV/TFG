{
 "cells": [
  {
   "cell_type": "markdown",
   "id": "6b19c366-9048-4435-8bc2-adf2c83f9ead",
   "metadata": {
    "editable": true,
    "slideshow": {
     "slide_type": ""
    },
    "tags": []
   },
   "source": [
    "<!DOCTYPE html>\n",
    "<html lang=\"es\">\n",
    "<head>\n",
    "    <meta charset=\"UTF-8\">\n",
    "    <meta name=\"viewport\" content=\"width=device-width, initial-scale=1.0\">\n",
    "    <style>\n",
    "        .content {\n",
    "            max-width: 150ch;\n",
    "            margin: 0 auto;\n",
    "            text-align: center;\n",
    "        }\n",
    "    </style>\n",
    "</head>\n",
    "<body>\n",
    "    <div class=\"content\">\n",
    "        <h1>Unificación</h1>\n",
    "        <p>Estoy seguro de que llevas un buen rato preguntándote qué es eso de la unificación. No te preocupes, ¡vamos a hacer que desees no haberte hecho esa pregunta!.</p>\n",
    "        <p>El mecanismo de unificación en el ámbito de la programación lógica consiste, simplemente, en buscar una \"asignación\" (no es una asignación en el sentido estricto de la palabra en otros paradigmas de programación) que permita que dos términos se vuelvan idénticos.</p>\n",
    "        <p>¿Qué son los términos, dices? Pues vamos con ello.</p>\n",
    "        <p>Los términos en Prolog son el \"todo\". No tenemos estructuras de datos. <strong>Todo</strong> son términos. Las variables, los hechos, las reglas, los números, carácteres, listas, strings... Aunque pueda parecer contrario a la programación(Puede parecer poco modular el meter todos los tipos de datos en el mismo saco), que todo este a un mismo \"nivel\" es lo que nos permite utilizar la unificación de manera efectiva.</p>\n",
    "        <p>Diferenciamos dos tipos de términos fundamentalmente, los términos <strong>atómicos</strong> y los términos <strong>compuestos</strong>.</p>\n",
    "        <h3>Términos atómicos</h3>\n",
    "        <h4>Átomos</h4>\n",
    "        <p>En Prolog, los átomos son un concepto paraguas que engloban secuencias de caracteres entendidas como una única unidad sin significado inherente, que empiezan por una letra minúscula. Por ejemplo: abc, a123....</p>\n",
    "        <h4>Números</h4>\n",
    "        <p>Los números son término conformado por los enteros y los números de coma flotante. No son átomos porque si tienen un significado inherente per se sin necesidad de \"observar\" al propio número (Representar una cantidad) y pueden formar parte de expresiones aritméticas.</p>\n",
    "        <h4>Variable</h4>\n",
    "        <p>Las variables, al igual que los números, tienen un significado inherente por el mero hecho de ser variables, y están formadas por caracteres, cifras incluidas, y empiezan por una letra mayúcula. Por ejemplo: Abc, A123…\n",
    "Las variables pueden “contener” cualquier término, incluido otras variables. Mucho cuidado con las variables: más que “algo” que contiene un valor, son “algo” que puede contener un valor. Este valor será un término que la ejecución del motor de Prolog determinará cuál puede ser.</p>\n",
    "        <h4>Términos compuestos</h4>\n",
    "        <p>Sin entrar en formalismos y por simplificar la cuestión, los términos compuestos se construyen a partir de un átomo e incorporan una serie de argumentos que, a su vez, son términos como pueden ser \"padre(luis, maria)\", \"recta2D(punto(X1, Y1)\", \"punto(X2, Y2)\"... (Insertar chiste sobre analogía entre términos compuestos y funciones/ procedimientos). El fin principal de los mismos es representar estructuras.</p>\n",
    "        <p>Las listas, por ejemplo, son un tipo de término compuesto, siendo los elementos de la lista los argumentos. Los hechos <strong>son términos compuestos</strong>, y las reglas se definen con términos compuestos.</p>\n",
    "        <p>¿Cómo interpretamos esta información?</p>\n",
    "        <p>Este es un punto importante. De manera natural, cualquier persona entenderá que \"5\" y \"3+2\" son equivalentes, pero cuando trabajamos con unificación la comparación se hace a machete. Si tratamos de unificar (es decir, comprobar si nuestros dos términos pueden ser equivalentes) \"5\" y \"3+2\", el resultado será <strong>falso</strong>, dado que la comparación es literalmente entre un <strong>átomo</strong> (El número 5), y un <strong>término compuesto</strong> (La suma \"3+2\"), dado que Prolog NO evalúa este término (No resuelve la operación aritmética) salvo instrucción expresa. En el momento de unificar, si alguno de los dos términos es una variable, le asocia (“asigna”) el otro término. ¿Qué ocurre si el otro término también es una variable? También lo asocia, aunque dicha variable aún no tenga asociado (“asignado”) ningún valor. Una variable, en el contexto de la unificación, se puede ver como un “lugar” que contiene, o contendrá, un valor.</p>\n",
    "    </div>\n",
    "</body>\n",
    "</html>\n"
   ]
  },
  {
   "cell_type": "markdown",
   "id": "6c77dd0d-f9ef-455b-bdd0-f616ea29cf51",
   "metadata": {
    "editable": true,
    "slideshow": {
     "slide_type": ""
    },
    "tags": []
   },
   "source": [
    "Es fundamental tener este ejemplo en mente en todo momento, dado que en un futuro podemos tener un error en nuestro código que aparentemente no exista, pero nos impida el correcto funcionamiento de nuestros programas."
   ]
  },
  {
   "cell_type": "markdown",
   "id": "2d4efa3b-1290-4565-ba59-a9c057ef8e59",
   "metadata": {
    "editable": true,
    "slideshow": {
     "slide_type": ""
    },
    "tags": []
   },
   "source": [
    "## Cláusulas de Horn.\n",
    "Las cláusulas de Horn son fórmulas en lógica de primer orden con una característica particular, son una serie de conjunciones con a lo sumo un literal positivo que desembocan en una conclusión.<br>\n",
    "Para que nos entendamos, son un chorrazo de ANDs que acaban en una implicación con un simbolito así -> en donde si se cumple el chorrazo entonces el -> es verdadero.<br>\n",
    "¿Cómo interpretamos esto? Pues muy sencillo, frente a un problema determinado, tenemos que determinar las premisas por las cuales el problema puede resolverse. Vamos a suponer que queremos coger un vuelo a Londres.<br>\n",
    "Objetivo: Coger avión a Londres.<br>\n",
    "Premisas:<br>\n",
    "\n",
    "    1-Si llego con una hora y media de margen al avión, me da igual todo lo que ocurra pues tengo tiempo de sobra, puedo coger el vuelo.\n",
    "    2-Si llego con 40 minutos de margen al aeropuerto, si el aeropuerto es pequeño me da igual que me paren en el control de seguridad, puedo coger el vuelo.\n",
    "    3-Si llego con 40 minutos de margen al aeropuerto, si el aeropuerto es muy grande y me paran en el control de seguridad, tengo que correr para poder coger el vuelo.\n",
    "    4-Si llego con 40 minutos de margen al aeropuerto, el aeropuerto es muy grande, me paran en el control de seguridad y decido no correr, el vuelo tiene que salir con retraso para poder coger el vuelo.\n",
    "    \n",
    "Ahora todo lo que tenemos que hacer es traducir esto:<br>\n",
    "\n",
    "    1-Tiempo(1h30m) -> Vuelo(londres).\n",
    "    2-Tiempo(40m) ^ Aeropuerto(pequeño) -> Vuelo(londres).\n",
    "    3-Tiempo(40m) ^ Aeropuerto(grande) ^ Correr(si) -> Vuelo(londres).\n",
    "    4-Tiempo(40m) ^ Aeropuerto(grande) ^ Correr(no) ^ Retraso(si) -> Vuelo(londres).\n",
    "\n",
    "Puedo oír voces disidentes preguntando, ¿Pero por qué no utilizamos disyunciones? Pues vale. Vamos a utilizar disyunciones:<br>\n",
    "**1-(Tiempo(1h30m) V Tiempo(40m)) V (Aeropuerto(pequeño) ^ Tiempo(40m) ^ Aeropuerto(grande) ^ Correr(si)) V (Tiempo(40m) ^ Aeropuerto(grande) ^ Correr(no) ^ Retraso(si)) -> Vuelo(londres).**<br>\n",
    "Queda más o menos claro, ¿no? El problema del uso de las disyunciones lógicas es que genera reglas de proporciones bíblicas mucho más difíciles de comprender(Francamente, no descarto haberla liado con los paréntesis del ejemplo después de haberlos revisado 20 veces) e infinitamente más difíciles de debuggear en caso de haber un problema. No solo va en contra de los principios básicos de programación, en donde buscamos modularizar lo máximo posible, si no que además va en contra de tus propios intereses. Los principios KISS (Keep It Stupid Simple) en programación declarativa no son una recomendación de buenas prácticas, son un manual de supervivencia.<br>\n",
    "## Proceso de unificación.\n",
    "Como ya hemos dicho, la unificación es el proceso fundamental que el motor de inferencia usa para igualar términos en Prolog. Cuando se realiza una consulta, el motor intenta unificar la consulta con los hechos y reglas del programa, siguiendo un proceso con una serie de características muy particulares: <br>\n",
    "- Dados dos términos cualesquiera, `t1` y `t2`:\n",
    "  - Para que se unifiquen en Prolog, al menos uno de ellos debe ser una variable no instanciada.\n",
    "  - Al final, la variable no instanciada \"tomará\" el valor del otro término.<br>\n",
    "- Una variable siempre unifica con un término:\n",
    "  - La variable queda ligada al término.\n",
    "  - Sea la variable `A` y el término `t1`, entonces `A` unifica con `t1`.<br>\n",
    "- Dos variables siempre unifican entre sí:\n",
    "  - Cuando una de ellas se liga a un término, todas las que unifican con ella también se ligan a dicho término.<br>\n",
    "- Para que dos términos unifiquen:\n",
    "  - Deben tener el mismo functor y la misma aridad.\n",
    "  - Después, se comprueba que los argumentos unifican uno a uno, manteniendo las ligaduras que se produzcan en cada uno.<br>\n",
    "- Si dos términos no unifican:\n",
    "  - Ninguna variable queda ligada.\n",
    "- Si ambos términos son compuestos:\n",
    "  -  La unificación se realiza sobre sus componentes:<br>\n",
    "      - ¿pepe(A,rojo)==jose(B,rojo)? Pepe!=Jose → No unifica\n",
    "      - ¿pepe(A,rojo)==pepe(Z,rojo)? pepe=pepe, A=Z por que no estan instanciados a nada y rojo = rojo → Si unifican.\n",
    "      - \n",
    "El motor de inferencia ejecuta el algoritmo **Robinson** para realizar las unificaciones, la explicación formal del mismo es la siguiente: La unificación se realiza siguiendo el algortimo Robinson el cual, dicho en pocas palabras, sigue el siguiente esquema:<br>\n",
    "![Míralo qué bonico](./imagenes/robinson.png)\n",
    "\n",
    "# Esto pa dentro de un botón en plan jumpscare\n",
    "Jaja.<br>\n",
    "<br>\n",
    "<br>\n",
    "<br>\n",
    "Te has asustado eh.<br>\n",
    "\n",
    "Tranqui, que ahora lo explico.<br>\n",
    "\n",
    "El algoritmo Robinson sigue esta serie de pasos:<br>\n",
    "\n",
    "1. Si R = S, entonces R y S son unificables.\n",
    "    - Este es el caso más sencillo en el proceso de unificación. Si dos términos R y S son exactamente iguales, significa que sus estructuras, funtores, aridad (número de argumentos) y los argumentos correspondientes coinciden completamente. Dado que no hay diferencias entre ellos, se concluye que R y S son unificables sin necesidad de realizar ninguna sustitución.\n",
    "2. Si no, localizamos el símbolo más a la izquierda de R que se diferencia de su homólogo en S\n",
    "    - Si R y S no son iguales, debemos encontrar el punto exacto donde difieren. Prolog compara los términos de izquierda a derecha. Por lo tanto, la primera diferencia entre R y S se identificará en el símbolo más a la izquierda donde los términos no coinciden. Este símbolo puede ser un functor, un predicado o uno de los argumentos, como podría ser pepe(A,rojo) = pepe(B,rojo) o pepe(A,rojo) = jose(B,rojo).\n",
    "3. Si es el primero (predicado), entonces R y S no son unificables.\n",
    "    - Si la primera diferencia detectada es en el predicado o functor (el nombre de la función o relación en Prolog), entonces R y S no son unificables. Esto se debe a que para que dos términos sean unificables, deben tener el mismo functor con la misma aridad. Si los predicados o funtores son diferentes, no puede haber unificación posible, como es el caso de  pepe(A,rojo) = jose(B,rojo) o  pepe(A,rojo) = jose(B,rojo,azul, amarillo).\n",
    "5. Si es uno de los argumentos, entonces sean t1, t2 los términos en los que difieren.\n",
    "    - Si la diferencia no está en el functor, sino en uno de los argumentos de la estructura, identificamos los términos específicos t1 y t2 en los que R y S difieren. Estos términos son los componentes de los argumentos en esa posición específica que no coinciden.\n",
    "6. Si ninguno de los dos (t1, t2) es una variable, entonces las cláusulas no son unificables.\n",
    "    - Para que t1 y t2 sean unificables, al menos uno de ellos debe ser una variable. Si ambos términos son constantes, estructuras complejas o funtores diferentes, no son iguales(Como ya comentamos en el punto 1) y ninguno de ellos es una variable, entonces no hay forma de unificarlos, como pasaría en este ejemplo pepe(azul) = pepe(rojo).\n",
    "7. Si t1 es una variable X, entonces haremos la sustitución: s ={X/t2}\n",
    "    - Si uno de los términos en el que difieren es una variable, supongamos t1 = X, entonces se puede realizar una unificación mediante sustitución. En este caso, sustituimos la variable X por el término t2. Esta sustitución se denota como s = {X/t2}, lo que significa que en todas las ocurrencias futuras de X, se usará t2 en su lugar. Esta sustitución nos permite continuar el proceso de unificación con los términos modificados de la siguiente forma.\n",
    "        - pepe(A,rojo) = pepe(azul,rojo) -> pepe(azul,rojo) = pepe(azul,rojo).\n",
    "8. Mientras haya elementos por unificar, volver al paso 1.\n",
    "\n",
    "\n",
    "## Motor de inferencia\n",
    "\n",
    "El motor de inferencia es, esencialmente, el maestro de ceremonias que decidirá el rumbo de la ejecución una vez nosotros hayamos realizado la **consulta** a probar. Puedes pensar estas interacciones como una partida de rol de mesa. Te planteas una acción a desarrollar, le preguntas al DM si puedes hacer dicha acción y a partir de ahí no tienes nada más que añadir a la ecuación, el DM decidirá si la acción es válida o no, hará las tiradas de dados y te informará del resultado de la acción una vez haya concluido. En Prolog tenemos la misma situación, siendo el motor de inferencia nuestro DM.<br>\n",
    "El funcionamiento del motor de inferencia de Prolog es bastante sencillo. Coteja los hechos y las reglas volviendo sobre sus pasos cada vez que no es capaz de realizar una unificación correctamente. Si el backtracking se agota en algún momento(Por ejemplo, revisa todos los hechos sin conseguir unificar), simplemente devolverá \"Falso\" como resultado.<br>\n",
    "Un apunte a realizar, pese a que la ejecución de las consultas por el motor de inferencia se producen dentro de una \"caja negra\" no observable para nosotros, podemos intentar afinar la ejecución al máximo posible definiendo bien los casos de uso, procurando hacer uso de reglas eficientes y bien organizadas de la misma manera que en una partida de rol podemos intentar mejorar las tiradas de dados utilizando pociones, distintas piezas de equipamiento... Pero eso es **todo** lo que podemos hacer, preparar el terreno, buscar caminos más eficientes. **No** podemos ni debemos programar buscando alterar dicho flujo a lo que nos interese.<br>\n",
    "Insistiré de nuevo. **No podemos** controlar la ejecución. Más adelante veremos un operador **muy** particular, llamado *operador de corte*, pero es un concepto ajeno a los fundamentos lógicos y que solo debe usarse como un recurso de mejora de eficiencia, no de control de flujo.<br>\n",
    "El motor de inferencia, según vaya progresando la ejecución, construirá un árbol de resolución siguiendo el algoritmo *Robinson*, del cual hablaremos más adelante. Una peculiaridad a tener en cuenta es que este árbol **no** es una estructura de datos, si no un árbol de ejecución más similar a un Tableaux o los árboles de ejecución que algunos de vosotros, incautos UNEDianos, veréis en la asignatura Aprendizaje Automático.<br>\n",
    "La ejecución del árbol se hará de acuerdo a una estrategia conocida como **Encadenamiento hacia atrás**. En lugar de partir de 0 e intentar construir una solución a lo largo de la ejecución(Encadenamiento hacia adelante), asumimos que el resultado es verdadero e intentamos demostrar que, efectivamente, lo es, teniendo una buena eficiencia en memoria dado que descarta toda rama que haya fallado, manteniendo solo aquello que necesitamos para generar la solución sin hechos intermedios.<br>"
   ]
  },
  {
   "cell_type": "markdown",
   "id": "04ba22c6-1cd1-48b7-98cb-8fdc94402df7",
   "metadata": {},
   "source": [
    "### - [Siguiente apartado - Motor de inferencia](Motor.ipynb)\n",
    "### - [Apartado anterior - Backtracking](Backtracking.ipynb)\n",
    "### - [Volver al índice](../Indice.ipynb)"
   ]
  },
  {
   "cell_type": "markdown",
   "id": "f1a3c5c2-37df-4b77-a9fb-91978481c126",
   "metadata": {},
   "source": [
    "Si test"
   ]
  },
  {
   "cell_type": "markdown",
   "id": "5e1fecd7-443b-428a-9518-b58dfb3a29a0",
   "metadata": {},
   "source": [
    "##"
   ]
  }
 ],
 "metadata": {
  "kernelspec": {
   "display_name": "Python 3 (ipykernel)",
   "language": "python",
   "name": "python3"
  },
  "language_info": {
   "codemirror_mode": {
    "name": "ipython",
    "version": 3
   },
   "file_extension": ".py",
   "mimetype": "text/x-python",
   "name": "python",
   "nbconvert_exporter": "python",
   "pygments_lexer": "ipython3",
   "version": "3.10.4"
  }
 },
 "nbformat": 4,
 "nbformat_minor": 5
}
