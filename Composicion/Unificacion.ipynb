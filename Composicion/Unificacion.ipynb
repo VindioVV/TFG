{
 "cells": [
  {
   "cell_type": "markdown",
   "id": "53426d22-1f41-459e-a4d6-81e7c475b2e1",
   "metadata": {
    "editable": true,
    "slideshow": {
     "slide_type": ""
    },
    "tags": []
   },
   "source": [
    "Meter caña con el funcionamiento del mecanismo de unificación y explicar las cláusulas de Horn."
   ]
  },
  {
   "cell_type": "markdown",
   "id": "5fe87b18-778b-493a-a11d-2b86372c6aaa",
   "metadata": {
    "jp-MarkdownHeadingCollapsed": true
   },
   "source": [
    "# Unificación"
   ]
  },
  {
   "cell_type": "markdown",
   "id": "6b19c366-9048-4435-8bc2-adf2c83f9ead",
   "metadata": {
    "editable": true,
    "slideshow": {
     "slide_type": ""
    },
    "tags": []
   },
   "source": [
    "<!DOCTYPE html>\n",
    "<html lang=\"es\">\n",
    "<head>\n",
    "    <meta charset=\"UTF-8\">\n",
    "    <meta name=\"viewport\" content=\"width=device-width, initial-scale=1.0\">\n",
    "    <style>\n",
    "        .content {\n",
    "            max-width: 150ch;\n",
    "            margin: 0 auto;\n",
    "            text-align: center;\n",
    "        }\n",
    "    </style>\n",
    "</head>\n",
    "<body>\n",
    "    <div class=\"content\">\n",
    "        <h1>Unificación</h1>\n",
    "        <p>Estoy seguro de que llevas un buen rato preguntándote qué es eso de la unificación. No te preocupes, ¡vamos a hacer que desees no haberte hecho esa pregunta!.</p>\n",
    "        <p>El mecanismo de unificación en el ámbito de la programación lógica consiste, simplemente, en buscar una asignación que permita que dos términos se vuelvan idénticos.</p>\n",
    "        <p>¿Qué son los términos, dices? Pues vamos con ello.</p>\n",
    "        <p>Los términos en Prolog son el \"todo\". No tenemos estructuras de datos. <strong>Todo</strong> son términos. Las variables, los hechos, las reglas, los números, carácteres, listas, strings... Aunque pueda parecer contrario a la programación(Puede parecer poco modular el meter todos los tipos de datos en el mismo saco), que todo este a un mismo \"nivel\" es lo que nos permite utilizar la unificación de manera efectiva.</p>\n",
    "        <p>Diferenciamos dos tipos de términos fundamentalmente, los términos <strong>atómicos</strong> y los términos <strong>compuestos</strong>.</p>\n",
    "        <h3>Términos atómicos</h3>\n",
    "        <h4>Átomos</h4>\n",
    "        <p>En Prolog, los átomos son un concepto paraguas que engloban secuencias de caracteres entendidas como una única unidad sin significado inherente.</p>\n",
    "        <h4>Números</h4>\n",
    "        <p>Los números son término conformado por los enteros y los números de coma flotante. No son átomos porque si tienen un significado inherente per se sin necesidad de \"observar\" al propio número (Representar una cantidad) y pueden formar parte de expresiones aritméticas.</p>\n",
    "        <h4>Variable</h4>\n",
    "        <p>Las variables, al igual que los números, tienen un significado inherente por el mero hecho de ser variables.</p>\n",
    "        <h4>Términos compuestos</h4>\n",
    "        <p>Sin entrar en formalismos y por simplificar la cuestión, los términos compuestos se construyen a partir de un átomo e incorporan una serie de argumentos. (Insertar chiste sobre analogía entre términos compuestos y funciones/ procedimientos). El fin principal de los mismos es representar estructuras.</p>\n",
    "        <p>Las listas, por ejemplo, son un tipo de término compuesto, siendo los elementos de la lista los argumentos. Los hechos y las reglas también son términos compuestos.</p>\n",
    "        <p>¿Cómo interpretamos esta información?</p>\n",
    "        <p>Este es un punto importante. De manera natural, cualquier persona entenderá que \"5\" y \"3+2\" son equivalentes, pero cuando trabajamos con unificación la comparación se hace a machete. Si tratamos de unificar (es decir, comprobar si nuestros dos términos pueden ser equivalentes) \"5\" y \"3+2\", el resultado será <strong>falso</strong>, dado que la comparación es literalmente entre un <strong>átomo</strong> (El número 5), y un <strong>término compuesto</strong> (La suma \"3+2\"), dado que Prolog NO evalúa este término (No resuelve la operación aritmética) salvo instrucción expresa.</p>\n",
    "        <h2>Poner recuadro con ejemplo en prolog en donde el alumno cree la query 5 = 3+2</h2>\n",
    "    </div>\n",
    "</body>\n",
    "</html>\n"
   ]
  },
  {
   "cell_type": "markdown",
   "id": "6c77dd0d-f9ef-455b-bdd0-f616ea29cf51",
   "metadata": {
    "editable": true,
    "slideshow": {
     "slide_type": ""
    },
    "tags": []
   },
   "source": [
    "Es fundamental tener este ejemplo en mente en todo momento, dado que en un futuro podemos tener un error en nuestro código que aparentemente no exista, pero nos impida el correcto funcionamiento de nuestros programas."
   ]
  },
  {
   "cell_type": "markdown",
   "id": "2d4efa3b-1290-4565-ba59-a9c057ef8e59",
   "metadata": {
    "editable": true,
    "slideshow": {
     "slide_type": ""
    },
    "tags": []
   },
   "source": [
    "## Cláusulas de Horn.\n",
    "Las cláusulas de Horn son fórmulas en lógica de primer orden con una característica particular, son una serie de conjunciones con a lo sumo un literal positivo que desembocan en una conclusión.<br>\n",
    "Para que nos entendamos, son un chorrazo de ANDs que acaban en una implicación con un simbolito así -> en donde si se cumple el chorrazo entonces el -> es verdadero.<br>\n",
    "¿Cómo interpretamos esto? Pues muy sencillo, frente a un problema determinado, tenemos que determinar las premisas por las cuales el problema puede resolverse. Vamos a suponer que queremos coger un vuelo a Londres.<br>\n",
    "Objetivo: Coger avión a Londres.<br>\n",
    "Premisas:\n",
    "1-Si llego con una hora y media de margen al avión, me da igual todo lo que ocurra pues tengo tiempo de sobra, puedo coger el vuelo.<br>\n",
    "2-Si llego con 40 minutos de margen al aeropuerto, si el aeropuerto es pequeño me da igual que me paren en el control de seguridad, puedo coger el vuelo.<br>\n",
    "3-Si llego con 40 minutos de margen al aeropuerto, si el aeropuerto es muy grande y me paran en el control de seguridad, tengo que correr para poder coger el vuelo.<br>\n",
    "4-Si llego con 40 minutos de margen al aeropuerto, el aeropuerto es muy grande, me paran en el control de seguridad y decido no correr, el vuelo tiene que salir con retraso para poder coger el vuelo.<br>\n",
    "Ahora todo lo que tenemos que hacer es traducir esto:<br>\n",
    "1-Tiempo(1h30m) -> Vuelo(Londres).<br>\n",
    "2-Tiempo(40m) ^ Aeropuerto(Pequeño) -> Vuelo(Londres).<br>\n",
    "3-Tiempo(40m) ^ Aeropuerto(Grande) ^ Correr(Si) -> Vuelo(Londres).<br>\n",
    "4-Tiempo(40m) ^ Aeropuerto(Grande) ^ Correr(No) ^ Retraso(Si) -> Vuelo(Londres).<br>\n",
    "\n",
    "Puedo oír voces disidentes preguntando, ¿Pero por qué no utilizamos disyunciones? Pues vale. Vamos a utilizar disyunciones:<br>\n",
    "**1-(Tiempo(1h30m) V Tiempo(40m)) V (Aeropuerto(Pequeño) ^ Tiempo(40m) ^ Aeropuerto(Grande) ^ Correr(Si)) V (Tiempo(40m) ^ Aeropuerto(Grande) ^ Correr(No) ^ Retraso(Si)) -> Vuelo(Londres).**<br>\n",
    "Queda más o menos claro, ¿no? El problema del uso de las disyunciones lógicas es que genera reglas de proporciones bíblicas mucho más difíciles de comprender(Francamente, no descarto haberla liado con los paréntesis del ejemplo después de haberlos revisado 20 veces) e infinitamente más difíciles de debuggear en caso de haber un problema. No solo va en contra de los principios básicos de programación, en donde buscamos modularizar lo máximo posible, si no que además va en contra de tus propios intereses. Los principios KISS (Keep It Stupid Simple) en programación declarativa no son una recomendación de buenas prácticas, son un manual de supervivencia.<br>\n",
    "### Desarrollo de la lógica del dominio\n",
    "A veces nos podemos encontrar con fórmulas que interpretadas tal cual pueden resultar obtusas o generar predicados innecesarios. El caso más directo podrían ser una serie de implicaciones de la siguiente manera:<br>\n",
    "\"Si llueve, el suelo se moja. Si el suelo está mojado, necesito usar botas de goma.\"<br>\n",
    "Esto se traduciría de la siguiente manera:<br>\n",
    "LLueve(Si) -> Suelo(Mojado).<br>\n",
    "Suelo(Mojado) -> Vestir(Botas de goma).<br>\n",
    "A ojo de mal cubero podríamos pensar en traducir lo de arriba en la siguiente cláusulas de Horn:<br>\n",
    "LLueve(Si) ^ Suelo(Mojado) -> Vestir(Botas de goma).<br>\n",
    "Esto nos genera un problema grave. Si observamos la tabla de verdad de la consecuencia lógica, vemos que el consecuente puede ser verdadero siendo el antecedente falso. En cristiano, y aplicado a nuestro ejemplo, **el suelo puede estar mojado aunque no haya llovido**. ¿Qué ocurre entonces en la fórmula de arriba? Que, pese a que el suelo esté mojado, al no haber llovido no usaremos botas de goma, exponiéndonos a un posible patinazo que nos deje la nariz al estilo Voldemort.<br>\n",
    "Esto es un punto terriblemente importante. Estamos trabajando con programación lógica, y por tanto nos debemos regir por ella. Si en este caso planteamos la tabla de verdad de todas las proposiciones, podemos ver claramente que P->Q es totalmente redundante<br>\n",
    "De igual manera, nos podemos encontrar otras situaciones en las que una fórmula pueda resultar obtusa y nos interese transformarla en algo más legible, o incluso reducirla y eliminar condiciones innecesarias. ¿Cómo hacemos esto? Fácil, con las leyes de equivalencia lógicas:<br>\n",
    "![Equivalencias](imagenes/Equivalencias.png)\n",
    "Buscar ejemplos de equivalencias\n",
    "\n",
    "En conclusión, nunca debemos perder la perspectiva de que la unificación es un proceso **lógico**."
   ]
  },
  {
   "cell_type": "code",
   "execution_count": null,
   "id": "2497b680-65d4-4e0d-8b5f-8f1090d25257",
   "metadata": {},
   "outputs": [],
   "source": []
  },
  {
   "cell_type": "markdown",
   "id": "5e1fecd7-443b-428a-9518-b58dfb3a29a0",
   "metadata": {},
   "source": [
    "##"
   ]
  }
 ],
 "metadata": {
  "kernelspec": {
   "display_name": "Python 3 (ipykernel)",
   "language": "python",
   "name": "python3"
  },
  "language_info": {
   "codemirror_mode": {
    "name": "ipython",
    "version": 3
   },
   "file_extension": ".py",
   "mimetype": "text/x-python",
   "name": "python",
   "nbconvert_exporter": "python",
   "pygments_lexer": "ipython3",
   "version": "3.10.4"
  }
 },
 "nbformat": 4,
 "nbformat_minor": 5
}
