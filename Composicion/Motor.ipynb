{
 "cells": [
  {
   "cell_type": "markdown",
   "id": "7f517db1-576e-4e87-ba74-6f93a31b79ae",
   "metadata": {},
   "source": [
    "Qué hace el motor de inferencia, se hace una consulta, se asume que la consulta es verdadera y se emparejan(Mismo nombre de predicado y numero de argumentos) los antecedentes con la cabeza de cada uno de los hechos para demostrar esto. \n",
    "\n",
    "\n",
    "El motor de inferencia simplemente coge hechos y reglas y va avanzando haciendo uso de la unificación, tirando de backtracking cuando ocurre un fallo y devolviendo falso cuando llega a un callejón sin salida (Se agota el backtracking). \n",
    "\n",
    "Desarrollar la combinación de estos tres elementos.\n",
    "\n",
    "\n",
    "Recorrerá la base de hechos de uno en uno en el orden en el que estén escritos intentando unificar.\n",
    "\n",
    "\n",
    "Recalcar la importancia del orden y buscar un ejemplo en el que en función del orden se llegue una solución o se quede en un bucle infinito ejemplo de factorial poniendo el caso base detrás del caso recursivo.\n",
    "\n",
    "\n",
    "Introducir el concepto de corte y operadores como el no se puede demostrar, señalar que es concepto ajeno a la programación lógica, recalcar que buscamos probar cosas verdaderas y que el corte debería ser un mecanismo de mejora de eficiencia, no de tratamiento de excepciones. \n",
    "\n",
    "\n",
    "El motor de inferencia expandirá el árbol de resolución. Explicar que es un árbol de ejecución, no una estructura de datos.\n",
    "\n",
    "\n",
    "Explicar las consultas en profundidad.\n",
    "\n",
    "\n",
    "Explicar encadenamiento hacia atrás. Poner ejemplo de Tableaux desde el nodo objetivo\n",
    "\n",
    "\n"
   ]
  },
  {
   "cell_type": "markdown",
   "id": "c6fd2b83-1519-424e-8a1f-f8a10e96b398",
   "metadata": {
    "editable": true,
    "slideshow": {
     "slide_type": ""
    },
    "tags": []
   },
   "source": [
    "# Motor de inferencia\n",
    "\n",
    "El motor de inferencia es, esencialmente, el maestro de ceremonias que decidirá el rumbo de la ejecución una vez nosotros hayamos realizado la **consulta** a probar. Puedes pensar estas interacciones como una partida de rol de mesa. Te planteas una acción a desarrollar, le preguntas al DM si puedes hacer dicha acción y a partir de ahí no tienes nada más que añadir a la ecuación, el DM decidirá si la acción es válida o no, hará las tiradas de dados y te informará del resultado de la acción una vez haya concluido. En Prolog tenemos la misma situación, siendo el motor de inferencia nuestro DM.<br>\n",
    "El funcionamiento del motor de inferencia de Prolog es bastante sencillo. Coteja los hechos y las reglas volviendo sobre sus pasos cada vez que no es capaz de realizar una unificación correctamente. Si el backtracking se agota en algún momento(Por ejemplo, revisa todos los hechos sin conseguir unificar), simplemente devolverá \"Falso\" como resultado.<br>\n",
    "Un apunte a realizar, pese a que la ejecución de las consultas por el motor de inferencia se producen dentro de una \"caja negra\" no observable para nosotros, podemos intentar afinar la ejecución al máximo posible definiendo bien los casos de uso, procurando hacer uso de reglas eficientes y bien organizadas de la misma manera que en una partida de rol podemos intentar mejorar las tiradas de dados utilizando pociones, distintas piezas de equipamiento... Pero eso es **todo** lo que podemos hacer, preparar el terreno, buscar caminos más eficientes. **No** podemos ni debemos programar buscando alterar dicho flujo a lo que nos interese.<br>\n",
    "Insistiré de nuevo. **No podemos** controlar la ejecución. Más adelante veremos un operador **muy** particular, llamado *operador de corte*, pero es un concepto ajeno a los fundamentos lógicos y que solo debe usarse como un recurso de mejora de eficiencia, no de control de flujo.<br>\n",
    "El motor de inferencia, según vaya progresando la ejecución, construirá un árbol de resolución siguiendo el algoritmo *Robinson*, del cual hablaremos más adelante. Una peculiaridad a tener en cuenta es que este árbol **no** es una estructura de datos, si no un árbol de ejecución más similar a un Tableaux o los árboles de ejecución que algunos de vosotros, incautos UNEDianos, veréis en la asignatura Aprendizaje Automático.<br>\n",
    "La ejecución del árbol se hará de acuerdo a una estrategia conocida como **Encadenamiento hacia atrás**. En lugar de partir de 0 e intentar construir una solución a lo largo de la ejecución(Encadenamiento hacia adelante), asumimos que el resultado es verdadero e intentamos demostrar que, efectivamente, lo es, teniendo una buena eficiencia en memoria dado que descarta toda rama que haya fallado, manteniendo solo aquello que necesitamos para generar la solución sin hechos intermedios.<br>\n",
    "## Imágenes sobre árbol de ejecución\n",
    "\n",
    "\n"
   ]
  },
  {
   "cell_type": "markdown",
   "id": "845eef16-e832-4ad5-adf2-57522ec1ba98",
   "metadata": {},
   "source": [
    "### - [Siguiente capítulo - Cómo utilizar Prolog](../Basico/Predicados.ipynb)\n",
    "### - [Apartado anterior - Unificación](Unificacion.ipynb)\n",
    "### - [Volver al índice](../Indice.ipynb)"
   ]
  },
  {
   "cell_type": "code",
   "execution_count": null,
   "id": "99fba524-5c44-415f-a572-590c0441a617",
   "metadata": {},
   "outputs": [],
   "source": []
  }
 ],
 "metadata": {
  "kernelspec": {
   "display_name": "Python 3 (ipykernel)",
   "language": "python",
   "name": "python3"
  },
  "language_info": {
   "codemirror_mode": {
    "name": "ipython",
    "version": 3
   },
   "file_extension": ".py",
   "mimetype": "text/x-python",
   "name": "python",
   "nbconvert_exporter": "python",
   "pygments_lexer": "ipython3",
   "version": "3.10.4"
  }
 },
 "nbformat": 4,
 "nbformat_minor": 5
}
