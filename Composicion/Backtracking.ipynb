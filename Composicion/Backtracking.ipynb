{
 "cells": [
  {
   "cell_type": "markdown",
   "id": "e472eb85-d47d-458a-a9c9-d24dc214159c",
   "metadata": {},
   "source": [
    "# ¿Palante, patrás? Hablemos de **backtracking**"
   ]
  },
  {
   "cell_type": "markdown",
   "id": "d75919b7-a647-45ae-92aa-fe228f84d59b",
   "metadata": {},
   "source": [
    "¿Qué es el backtracking? Buena pregunta. El algoritmo de backtracking(\"Vuelta atrás\") es sencillamente una búsqueda en profundidad(Se explora una rama completamente hasta llegar al último nodo hijo) con un enfoque de prueba y error que garantiza recorrer todas las alternativas posibles, de las cuales algunas puede ser solución (o ninguna). La solución se va construyendo como un **árbol** paso a paso y se \"vuelve atrás\" cuando se encuentra un callejón sin salida, retrocediendo por los nodos recorridos de la siguiente manera.<br>\n",
    "![](https://media.geeksforgeeks.org/wp-content/uploads/20230214215625/backtracking.jpg)\n"
   ]
  },
  {
   "cell_type": "markdown",
   "id": "6d0aa9ac-4e0d-43de-a291-3e7e900052bb",
   "metadata": {},
   "source": [
    "En este ejemplo, nuestro nodo de partida es A, siendo la solución el nodo G. El recorrido **siempre** empieza por la izquierda cuando existe una bifurcación, visitando el nodo B, nodo intermedio, llegando a D a continuación. <br>\n",
    "Al no ser D el nodo objetivo, el algoritmo \"retrocede\" a B y explora el siguiente nodo hijo, E. Este tampoco es solución, por lo que volvemos a retroceder a B. Al no haber más hijos que explorar, seguimos retrocediendo, llegando al nodo A para continuar explorando por la siguiente rama.<br>\n",
    "Tras visitar C y determinar que F tampoco es solución, haremos un último backtrack, volviendo a C para llegar a G."
   ]
  },
  {
   "cell_type": "markdown",
   "id": "fafc9868-7ea4-4e4e-bd9a-0fc7efdf2e79",
   "metadata": {},
   "source": [
    "## Backtracking en Prolog\n",
    "**Todas** las consultas en Prolog implican, en mayor o menor medida, el uso del backtracking. Si queremos determinar si un ser vivo es un animal y definimos una serie de hechos para ello:<br>\n",
    "animal(gato).<br>\n",
    "animal(perro).<br>\n",
    "animal(loro).<br>\n",
    "animal(pez_espada).<br>\n",
    "Ante la consulta \"animal(loro)\", se producirá la siguiente búsqueda:\n",
    " (Insertar diagrama de búsqueda)<br>\n",
    "Frente a la consulta, Prolog generará un árbol de un solo nivel con cuatro hijos, que irá visitando uno por uno, volviendo al nodo raíz en caso de no coincidencia, hasta encontrar el nodo solución, pero en caso de plantear reglas complejas, la profundidad puede ser enorme, incluso infinita si no hay un buen modelado.<br>\n",
    "Gracias al backtracking, Prolog no se limita a encontrar una única solución, sino que, de existir, puede encontrar todas las soluciones posibles dentro de la base de conocimientos: cada vez que encuentra una solución, nos la muestra y podemos pedirle que siga buscando hasta encontrar la siguiente solución, si la hubiera. Esta rebúsqueda no es más que la aplicación del backtracking.<br>\n",
    "### ¿Profundidad infinita? Hablemos de bucles\n",
    "Este es un buen momento para introducir un concepto clave de la programación para todos aquellos que no lo hayan visto. La **recursividad**. Pero, ¿qué es la recursividad<br>\n",
    "#### Respuesta corta\n",
    "Una causa de adicción a la aspirina y el motor principal del crecimiento de las acciones de Bayern.<br>\n",
    "#### Respuesta larga\n",
    "Cualquier procedimiento que se llame a si mismo es conocido como procedimiento recursivo. Podemos pensar en el problema de hacer arroz para una persona como el ejemplo perfecto de problema recursivo. Tenemos que echar una parte y media de agua por cada parte de arroz, añadiendo cada elemento si no ha quedado la proporción perfecta.<br>\n",
    "Ponemos arroz.<br>\n",
    "Echamos agua.<br>\n",
    "Nos sobra agua. Echamos más arroz. <br>\n",
    "Nos sobra arroz. Echamos más agua. <br>\n",
    "Nos sobra agua. Echamos más arroz. <br>\n",
    "Nos sobra arroz. Echamos más agua. <br>\n",
    "Acertamos de milagro con las proporciones. Viva. <br>\n",
    "\n",
    "Todo procedimiento recursivo tiene dos partes, **el caso base** o condición de parada(Tener las proporciones adecuadas) que causará la finalización del procedimiento, y **el caso recursivo** (Echar una cosa u otra en función de lo que se necesite) que contendrá la lógica de resolución del problema.<br>\n",
    "¿Dónde está el dolor de cabeza en todo esto?<br>\n",
    "En todas partes.<br>\n",
    "Si no definimos el caso base, o hacemos un planteamiento erróneo de este, o desarrollamos mal la lógica del caso recursivo podremos encontrarnos en **bucles infinitos**, en los que la ejecución nunca termine.<br>\n",
    "Vamos con otro ejemplo. Queremos limpiar el garaje porque está sucio pero la escoba está rota y las herramientas están en el garaje.<br>\n"
   ]
  },
  {
   "cell_type": "code",
   "execution_count": null,
   "id": "9802b56e-924e-4e2e-a6a8-a82fc4e90f91",
   "metadata": {
    "jupyter": {
     "source_hidden": true
    }
   },
   "outputs": [],
   "source": [
    "import ipywidgets as widgets\n",
    "from IPython.display import display\n",
    "import time\n",
    "\n",
    "def limpiar_garaje(escoba_rota, garaje_hecho_un_asco, i):\n",
    "    #Caso base, la escoba no esta rota, así que podemos meternos a limpiar sin problema\n",
    "    with out:\n",
    "        print(\"El garaje está hecho un asco.\")\n",
    "        if not escoba_rota:\n",
    "            print(\"La escoba está en buen estado. Limpiando el garaje...\")\n",
    "        elif escoba_rota and not garaje_hecho_un_asco:\n",
    "            print(\"La escoba tiene el mango roto.\")\n",
    "            print(\"Cogiendo las herramientas del garaje...\")\n",
    "            arreglar_mango_escoba()\n",
    "            print(\"Limpiando el garaje con la escoba reparada...\")\n",
    "            # Lógica para limpiar el garaje después de arreglar la escoba\n",
    "            limpiar_garaje(escoba_rota, garaje_hecho_un_asco, i)\n",
    "        elif i < 15:\n",
    "            print(\"Vas a limpiarlo, pero la escoba tiene el mango roto.\")\n",
    "            print(\"Vas a por las herramientas que están en el garaje, pero está hecho un asco y no encuentras las herramientas.\")\n",
    "            limpiar_garaje(escoba_rota, garaje_hecho_un_asco, i+1)\n",
    "    if i == 15:\n",
    "        print(\"A LA ****** EL GARAJE.\")\n",
    "\n",
    "def arreglar_mango_escoba():\n",
    "    with out:\n",
    "        print(\"Arreglando el mango de la escoba...\")\n",
    "        escoba_rota = False\n",
    "\n",
    "\n",
    "# Container for inputs\n",
    "input_container = widgets.VBox()\n",
    "out = widgets.Output()\n",
    "\n",
    "# Function to handle button clicks\n",
    "def on_button_clicked(_):\n",
    "    limpiar_garaje(True,True,1)\n",
    "\n",
    "\n",
    "\n",
    "# Create a button widget\n",
    "button = widgets.Button(\n",
    "    description='¡Limpia el garaje, guarro!',\n",
    "    icon='hand-o-up',\n",
    "    layout=widgets.Layout(width='300px')\n",
    ")\n",
    "\n",
    "# Link button and function together\n",
    "button.on_click(on_button_clicked)\n",
    "\n",
    "# Display the button, input container, and output\n",
    "display(button, out)\n"
   ]
  },
  {
   "cell_type": "markdown",
   "id": "b209587f-039c-4f70-9ecb-918ebef934e8",
   "metadata": {},
   "source": [
    "¿Qué problema ha surgido aquí? Hemos definido mal la lógica, no teniendo en cuenta soluciones como comprar una escoba nueva o llenarse de telarañas buscando las herramientas. Es decir, hemos hecho un mal modelado.<br>\n",
    "En el caso del backtracking, una lógica mal definida puede ocasionar que, como ha pasado aquí, el árbol se expanda de manera infinita por una rama en busca de una solución y nunca llegue a terminar su ejecución, por lo que es **vital** definir correctamente los casos y en el orden correcto (porque el orden importa y puede determinar que se encuentra una solución, que no se encuentre o que entre en un bucle infinito << aquí, poner un ejemplo de cómo importa el orden >>). "
   ]
  },
  {
   "cell_type": "markdown",
   "id": "96b4c056-430f-429c-bbd6-47d515367bc7",
   "metadata": {},
   "source": [
    "### - [Siguiente apartado - Unificación](Unificacion.ipynb)\n",
    "### - [Capítulo anterior - Sistemas basados en reglas](../Introduccion/SBR.ipynb)\n",
    "### - [Volver al índice](../Indice.ipynb)"
   ]
  },
  {
   "cell_type": "code",
   "execution_count": 4,
   "id": "f89bdae1-8340-413f-a451-94c69a2292c9",
   "metadata": {
    "scrolled": true
   },
   "outputs": [
    {
     "data": {
      "application/vnd.jupyter.widget-view+json": {
       "model_id": "cdaf1cf8d37649c3b8d6a868c65453d2",
       "version_major": 2,
       "version_minor": 0
      },
      "text/plain": [
       "Button(description='Iniciar Quiz', style=ButtonStyle())"
      ]
     },
     "metadata": {},
     "output_type": "display_data"
    }
   ],
   "source": [
    "import tkinter as tk\n",
    "from tkinter import messagebox\n",
    "from PIL import Image, ImageTk\n",
    "import ipywidgets as widgets\n",
    "from IPython.display import display\n",
    "\n",
    "# Preguntas del cuestionario\n",
    "quizzes = [\n",
    "    {\n",
    "        'question': '¿Qué nodos visitaremos en este árbol para llegar al objetivo, si el objetivo es el nodo 6?',\n",
    "        'options': ['1,7,8,9,10,6', '1,2,6', '1,2,3,4,3,5,3,2,6', '1,2,3,4,5,6'],\n",
    "        'correct_option': '1,2,3,4,3,5,3,2,6',\n",
    "        'image_path': 'imagenes/prof1.png'\n",
    "    },\n",
    "    {\n",
    "        'question': '¿Qué nodos visitaremos en este árbol para llegar al objetivo, si el objetivo es el nodo 8?',\n",
    "        'options': ['1,8', '1,2,3,4,3,5,3,2,6,2,1,7,1,8', '1,2,3,4,3,5,2,1,7,8', '1,2,3,4,5,6,7,8'],\n",
    "        'correct_option': '1,2,3,4,3,5,3,2,6,2,1,7,1,8',\n",
    "        'image_path': 'imagenes/prof1.png'\n",
    "    },\n",
    "    {\n",
    "        'question': '¿Qué nodos visitaremos en este árbol para llegar al objetivo, si el objetivo es el nodo 5?',\n",
    "        'options': ['1,2,3,4,5', '1,2,3,5', '1,2,3,4,3,5', '1,2,6,3,5'],\n",
    "        'correct_option': '1,2,3,4,3,5',\n",
    "        'image_path': 'imagenes/prof1.png'\n",
    "    }\n",
    "]\n",
    "\n",
    "class QuizApp:\n",
    "    def __init__(self, window):\n",
    "        self.window = window\n",
    "        self.current_question_index = 0\n",
    "        self.photo_img = None  # Mantener una referencia persistente\n",
    "        self.create_quiz()\n",
    "\n",
    "    def on_button_clicked(self, option, correct_option):\n",
    "        if option == correct_option:\n",
    "            messagebox.showinfo(\"Correcto\", \"¡Correcto!\")\n",
    "            self.next_question()\n",
    "        else:\n",
    "            messagebox.showerror(\"Incorrecto\", \"Incorrecto, intenta de nuevo.\")\n",
    "\n",
    "    def create_quiz(self):\n",
    "        for widget in self.window.winfo_children():\n",
    "            widget.destroy()\n",
    "\n",
    "        if self.current_question_index < len(quizzes):\n",
    "            quiz = quizzes[self.current_question_index]\n",
    "\n",
    "            # Mostrar imagen\n",
    "            img = Image.open(quiz['image_path'])\n",
    "            img = img.resize((500, 300), Image.LANCZOS)\n",
    "            self.photo_img = ImageTk.PhotoImage(img)  # Mantener la referencia en la instancia\n",
    "            img_label = tk.Label(self.window, image=self.photo_img)\n",
    "            img_label.pack(pady=10)\n",
    "\n",
    "            # Mostrar pregunta\n",
    "            question_label = tk.Label(self.window, text=quiz['question'], font=('Arial', 14))\n",
    "            question_label.pack(pady=10)\n",
    "\n",
    "            # Mostrar botones de opciones\n",
    "            for option in quiz['options']:\n",
    "                button = tk.Button(self.window, text=option, font=('Arial', 12),\n",
    "                                   command=lambda opt=option: self.on_button_clicked(opt, quiz['correct_option']))\n",
    "                button.pack(pady=5)\n",
    "        else:\n",
    "            end_label = tk.Label(self.window, text=\"¡Bien hecho, fiera!\", font=('Arial', 14))\n",
    "            end_label.pack(pady=20)\n",
    "\n",
    "    def next_question(self):\n",
    "        self.current_question_index += 1\n",
    "        self.create_quiz()\n",
    "\n",
    "# Función para iniciar el Quiz\n",
    "def iniciar_quiz():\n",
    "    window = tk.Tk()\n",
    "    window.title(\"Quiz de Nodos\")\n",
    "    window.geometry(\"600x600\")\n",
    "\n",
    "    app = QuizApp(window)\n",
    "\n",
    "    window.mainloop()\n",
    "\n",
    "# Crear un botón en la interfaz de Jupyter Notebook usando ipywidgets\n",
    "iniciar_button = widgets.Button(description=\"Iniciar Quiz\")\n",
    "iniciar_button.on_click(lambda b: iniciar_quiz())\n",
    "\n",
    "# Mostrar el botón en el cuaderno\n",
    "display(iniciar_button)\n"
   ]
  },
  {
   "cell_type": "code",
   "execution_count": null,
   "id": "15ba4693-9d4a-4a65-adcf-eb59f27ccd9f",
   "metadata": {},
   "outputs": [],
   "source": []
  },
  {
   "cell_type": "code",
   "execution_count": null,
   "id": "8cdaa381-6731-4a08-afa6-62f5ace3da74",
   "metadata": {},
   "outputs": [],
   "source": []
  }
 ],
 "metadata": {
  "kernelspec": {
   "display_name": "Python 3 (ipykernel)",
   "language": "python",
   "name": "python3"
  },
  "language_info": {
   "codemirror_mode": {
    "name": "ipython",
    "version": 3
   },
   "file_extension": ".py",
   "mimetype": "text/x-python",
   "name": "python",
   "nbconvert_exporter": "python",
   "pygments_lexer": "ipython3",
   "version": "3.10.4"
  }
 },
 "nbformat": 4,
 "nbformat_minor": 5
}
