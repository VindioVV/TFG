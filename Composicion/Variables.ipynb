{
 "cells": [
  {
   "cell_type": "markdown",
   "id": "72f9fae3-01f4-45a4-a98c-32f26d8e1d2a",
   "metadata": {
    "editable": true,
    "slideshow": {
     "slide_type": ""
    }
   },
   "source": [
    "# Variables en Prolog.\n",
    "\n",
    "¿Cómo funcionan las variables en Prolog?\n",
    "Muy sencillo, cualquier cosa que empiece por una letra mayúscula o le preceda un guión bajo tendrá la consideración de variable en Prolog, como por ejemplo \"Constante\" o \"_constante\". \"variable\" no sería una variable en Prolog, mientras que este Prolog que acabo de escribir si lo sería.\n",
    "¿Confuso? No te queda nada, meu.\n",
    "\n",
    "\n",
    "\n",
    "En lenguajes \"normales\" como Java o C, las variables y las constantes son elementos de almacenamiento y gestión de datos. Las constantes representan una posición en memoria que será igual durante todo el ciclo de vida del programa, con un valor hardcodeado que no puede ser alterado. Las variables, por su parte, podrán almacenar distintos valores y sólo representarán una posicición en memoria durante su ciclo de vida(Si fueran liberadas y luego reasignadas, probablemente ocupen otro lugar). Otro concepto fundamental al respecto de esto son las variables inmutables, las cuales toman un valor a lo largo de la ejecución que no puede ser alterado posteriormente.\n",
    "\n",
    "En Prolog tenemos \"Variables\".\n",
    "\n",
    "_¿\"Variables\"?_\n",
    "\n",
    "**Si**\n",
    "\n",
    "**\"Variables\"**\n"
   ]
  },
  {
   "cell_type": "code",
   "execution_count": 1,
   "id": "93ceb690-c4f1-4554-a3c1-bc1e288aefaf",
   "metadata": {
    "editable": true,
    "scene__Default Scene": true,
    "slideshow": {
     "slide_type": ""
    },
    "tags": [
     "ActiveScene"
    ]
   },
   "outputs": [
    {
     "data": {
      "application/vnd.jupyter.widget-view+json": {
       "model_id": "9714fc50bc2a4cb89bb14a40883d0374",
       "version_major": 2,
       "version_minor": 0
      },
      "text/plain": [
       "HBox(children=(VBox(children=(Output(), Button(description='¡Haz click!', icon='hand-o-up', layout=Layout(heig…"
      ]
     },
     "metadata": {},
     "output_type": "display_data"
    }
   ],
   "source": [
    "import os\n",
    "import ipywidgets as widgets\n",
    "from IPython.display import display, Image, HTML\n",
    "\n",
    "\n",
    "\n",
    "notebook_dir = os.path.abspath('')\n",
    "images_dir = os.path.join(notebook_dir, 'imagenes')\n",
    "\n",
    "# List image files in the images directory\n",
    "image_files = sorted([file for file in os.listdir(images_dir) if file.endswith('.png')])\n",
    "image_paths = [os.path.join(images_dir, file) for file in image_files]\n",
    "\n",
    "# Create a button widget\n",
    "next_image = widgets.Button(\n",
    "    layout=widgets.Layout(width='auto', height='auto'),  # Adjust width and height as needed\n",
    "    description='¡Haz click!',\n",
    "    icon='hand-o-up'\n",
    ")\n",
    "\n",
    "# Create an Output widget\n",
    "out = widgets.Output()\n",
    "\n",
    "# List of images can be url or path to local images:\n",
    "list_of_images = image_paths\n",
    "i = 0\n",
    "\n",
    "# Display the first image by default\n",
    "\n",
    "def on_next_button_clicked(_):\n",
    "    global i, list_of_images\n",
    "    # \"linking function with output\"\n",
    "    if i < len(list_of_images) :\n",
    "        with out:\n",
    "            # Clear previous image\n",
    "            out.clear_output()\n",
    "            display(Image(filename=list_of_images[i]))\n",
    "            # Update image index\n",
    "            i = i + 1\n",
    "            # Display the new image\n",
    "    elif i == len(list_of_images):\n",
    "        out.clear_output()\n",
    "        contenido_a_mostrar = \"\"\"\n",
    "            <p>¡Bienvenido a tu primera hostia de realidad lógica!Las variables de Prolog se llaman variables por decir algo, pero ni son variables, ni son constantes, ni son variables inmutables. Son el arroz con cosas de la programación.\n",
    "Una variable en Prolog tendrá un valor desconocido hasta que se unifique con algo, momento a partir del cual no mutará su valor bajo ninguna circunstancia.\n",
    "\n",
    "<br>\"Oye pero esto que me dices suena mucho a una variable inmutable, ¿no?\n",
    "\n",
    "<br>Si. Pero no. Pero si. Pero tampoco. No es una variable porque siempre va a tomar el *primer* valor que convierta nuestra hipótesis en verdadera. Más que como una variable inmutable, podríamos hablar de una constante \"por definir\".</p>\n",
    "            \"\"\"\n",
    "        with out:\n",
    "            display(HTML(contenido_a_mostrar))\n",
    "        i = i + 1\n",
    "        next_image.disabled = True  \n",
    "\n",
    "    else:\n",
    "        next_image.disabled = True  \n",
    "\n",
    "\n",
    "# Link button and function together using a button's method\n",
    "next_image.on_click(on_next_button_clicked)\n",
    "\n",
    "# Create a container for the image and the button\n",
    "image_and_button_layout = widgets.VBox(\n",
    "    [out, next_image],\n",
    "    layout=widgets.Layout(\n",
    "        align_items='center',  # Center the button horizontally\n",
    "        width='auto'\n",
    "    )\n",
    ")\n",
    "\n",
    "# Create a horizontal box layout to place the image-and-button container on the left\n",
    "layout = widgets.HBox(\n",
    "    [image_and_button_layout],\n",
    "    layout=widgets.Layout(\n",
    "        justify_content='flex-start',  # Align the image and button to the left\n",
    "        width='auto'\n",
    "    )\n",
    ")\n",
    "\n",
    "# Display the layout\n",
    "display(layout)\n"
   ]
  },
  {
   "cell_type": "code",
   "execution_count": null,
   "id": "0a2dd672-83be-4fdd-8e6d-78e6271f088c",
   "metadata": {
    "editable": true,
    "slideshow": {
     "slide_type": ""
    }
   },
   "outputs": [],
   "source": []
  }
 ],
 "metadata": {
  "kernelspec": {
   "display_name": "Python 3 (ipykernel)",
   "language": "python",
   "name": "python3"
  },
  "language_info": {
   "codemirror_mode": {
    "name": "ipython",
    "version": 3
   },
   "file_extension": ".py",
   "mimetype": "text/x-python",
   "name": "python",
   "nbconvert_exporter": "python",
   "pygments_lexer": "ipython3",
   "version": "3.10.4"
  },
  "scenes_data": {
   "active_scene": "Default Scene",
   "init_scene": "Default Scene",
   "scenes": [
    "Default Scene"
   ]
  }
 },
 "nbformat": 4,
 "nbformat_minor": 5
}
