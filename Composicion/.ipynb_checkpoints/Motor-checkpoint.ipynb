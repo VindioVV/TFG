{
 "cells": [
  {
   "cell_type": "markdown",
   "id": "1018f619-e097-4677-9875-98f57051da48",
   "metadata": {},
   "source": [
    "# Motor de inferencia\n",
    "Paluego"
   ]
  },
  {
   "cell_type": "markdown",
   "id": "7f517db1-576e-4e87-ba74-6f93a31b79ae",
   "metadata": {},
   "source": [
    "El motor de inferencia simplemente coge hechos y reglas y va avanzando haciendo uso de la unificación, tirando de backtracking como estrategia de resolución de conflictos y devolviendo falso cuando llega a un callejón sin salida (Se agota el backtracking). Desarrollar la combinación de estos tres elementos.\n",
    "Recorrerá la base de hechos de uno en uno en el orden en el que estén escritos intentando unificar.\n",
    "Recalcar la importancia del orden y buscar un ejemplo en el que en función del orden se llegue una solución o se quede en un bucle infinito ejemplo de factorial poniendo el caso base detrás del caso recursivo.\n",
    "Introducir el concepto de corte y operadores como el no se puede demostrar, señalar que es concepto ajeno a la programación lógica, recalcar que buscamos probar cosas verdaderas y que el corte debería ser un mecanismo de mejora de eficiencia, no de tratamiento de excepciones. \n",
    "El motor de inferencia expandirá el árbol de resolución. Explicar que es un árbol de ejecución, no una estructura de datos.\n",
    "Explicar las consultas en profundidad.\n",
    "Explicar encadenamiento hacia atrás.\n",
    "\n"
   ]
  },
  {
   "cell_type": "markdown",
   "id": "c6fd2b83-1519-424e-8a1f-f8a10e96b398",
   "metadata": {},
   "source": []
  }
 ],
 "metadata": {
  "kernelspec": {
   "display_name": "Python 3 (ipykernel)",
   "language": "python",
   "name": "python3"
  },
  "language_info": {
   "codemirror_mode": {
    "name": "ipython",
    "version": 3
   },
   "file_extension": ".py",
   "mimetype": "text/x-python",
   "name": "python",
   "nbconvert_exporter": "python",
   "pygments_lexer": "ipython3",
   "version": "3.10.4"
  }
 },
 "nbformat": 4,
 "nbformat_minor": 5
}
