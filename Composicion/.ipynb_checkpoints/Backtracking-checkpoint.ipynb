{
 "cells": [
  {
   "cell_type": "markdown",
   "id": "e472eb85-d47d-458a-a9c9-d24dc214159c",
   "metadata": {},
   "source": [
    "# ¿Palante, patrás? Hablemos de **backtracking**"
   ]
  },
  {
   "cell_type": "markdown",
   "id": "d75919b7-a647-45ae-92aa-fe228f84d59b",
   "metadata": {},
   "source": [
    "¿Qué es el backtracking? Buena pregunta. El algoritmo de backtracking(\"Vuelta atrás\") es sencillamente una búsqueda en profundidad(Se explora una rama completamente hasta llegar al último nodo hijo) con un enfoque de prueba y error. La solución se va construyendo como un **árbol** paso a paso y se \"vuelve atrás\" cuando se encuentra un callejón sin salida, retrocediendo por los nodos recorridos de la siguiente manera.<br>\n",
    "![](https://media.geeksforgeeks.org/wp-content/uploads/20230214215625/backtracking.jpg)\n"
   ]
  },
  {
   "cell_type": "markdown",
   "id": "6d0aa9ac-4e0d-43de-a291-3e7e900052bb",
   "metadata": {},
   "source": [
    "En este ejemplo, nuestro nodo de partida es A, siendo la solución el nodo G. El recorrido **siempre** empieza por la izquierda cuando existe una bifurcación, visitando el nodo B, nodo intermedio, llegando a D a continuación. <br>\n",
    "Al no ser D el nodo objetivo, el algoritmo \"retrocede\" a B y explora el siguiente nodo hijo, E. Este tampoco es solución, por lo que volvemos a retroceder a B. Al no haber más hijos que explorar, seguimos retrocediendo, llegando al nodo A para continuar explorando por la siguiente rama.<br>\n",
    "Tras visitar C y determinar que F tampoco es solución, haremos un último backtrack, volviendo a C para llegar a G."
   ]
  },
  {
   "cell_type": "markdown",
   "id": "fafc9868-7ea4-4e4e-bd9a-0fc7efdf2e79",
   "metadata": {},
   "source": [
    "## Backtracking en Prolog\n",
    "**Todas** las consultas en Prolog implican, en mayor o menor medida, el uso del backtracking. Si queremos determinar si un ser vivo es un animal y definimos una serie de hechos para ello:<br>\n",
    "animal(gato).<br>\n",
    "animal(perro).<br>\n",
    "animal(loro).<br>\n",
    "animal(pez_espada).<br>\n",
    "Ante la consulta \"animal(loro)\", se producirá la siguiente búsqueda:\n",
    " (Insertar diagrama de búsqueda)<br>\n",
    "Frente a la consulta, Prolog generará un árbol de un solo nivel con cuatro hijos, que irá visitando uno por uno, volviendo al nodo raíz en caso de no coincidencia, hasta encontrar el nodo solución, pero en caso de plantear reglas complejas, la profundidad puede ser enorme, incluso infinita si no hay un buen modelado.<br>\n",
    "### ¿Profundidad infinita? Hablemos de bucles\n",
    "Este es un buen momento para introducir un concepto clave de la programación para todos aquellos que no lo hayan visto. La **recursividad**. Pero, ¿qué es la recursividad<br>\n",
    "#### Respuesta corta\n",
    "Una causa de adicción a la aspirina y el motor principal del crecimiento de las acciones de Bayern.<br>\n",
    "#### Respuesta larga\n",
    "Cualquier procedimiento que se llame a si mismo es conocido como procedimiento recursivo. Podemos pensar en el problema de hacer arroz para una persona como el ejemplo perfecto de problema recursivo. Tenemos que echar una parte y media de agua por cada parte de arroz, añadiendo cada elemento si no ha quedado la proporción perfecta.<br>\n",
    "Ponemos arroz.<br>\n",
    "Echamos agua.<br>\n",
    "Nos sobra agua. Echamos más arroz. <br>\n",
    "Nos sobra arroz. Echamos más agua. <br>\n",
    "Nos sobra agua. Echamos más arroz. <br>\n",
    "Nos sobra arroz. Echamos más agua. <br>\n",
    "Acertamos de milagro con las proporciones. Viva. <br>\n",
    "\n",
    "Todo procedimiento recursivo tiene dos partes, **el caso base** o condición de parada(Tener las proporciones adecuadas) que causará la finalización del procedimiento, y **el caso recursivo** (Echar una cosa u otra en función de lo que se necesite) que contendrá la lógica de resolución del problema.<br>\n",
    "¿Dónde está el dolor de cabeza en todo esto?<br>\n",
    "En todas partes.<br>\n",
    "Si no definimos el caso base, o hacemos un planteamiento erróneo de este, o desarrollamos mal la lógica del caso recursivo podremos encontrarnos en **bucles infinitos**, en los que la ejecución nunca termine.<br>\n",
    "Vamos con otro ejemplo. Queremos limpiar el garaje porque está sucio pero la escoba está rota y las herramientas están en el garaje.<br>\n"
   ]
  },
  {
   "cell_type": "code",
   "execution_count": 1,
   "id": "9802b56e-924e-4e2e-a6a8-a82fc4e90f91",
   "metadata": {
    "jupyter": {
     "source_hidden": true
    }
   },
   "outputs": [
    {
     "data": {
      "application/vnd.jupyter.widget-view+json": {
       "model_id": "c594129aa6834d70afa0e5a8efdb2b79",
       "version_major": 2,
       "version_minor": 0
      },
      "text/plain": [
       "Button(description='¡Limpia el garaje, guarro!', icon='hand-o-up', layout=Layout(width='300px'), style=ButtonS…"
      ]
     },
     "metadata": {},
     "output_type": "display_data"
    },
    {
     "data": {
      "application/vnd.jupyter.widget-view+json": {
       "model_id": "642f2d93930549248a015f0cbd986e00",
       "version_major": 2,
       "version_minor": 0
      },
      "text/plain": [
       "Output()"
      ]
     },
     "metadata": {},
     "output_type": "display_data"
    }
   ],
   "source": [
    "import ipywidgets as widgets\n",
    "from IPython.display import display\n",
    "import time\n",
    "\n",
    "def limpiar_garaje(escoba_rota, garaje_hecho_un_asco, i):\n",
    "    #Caso base, la escoba no esta rota, así que podemos meternos a limpiar sin problema\n",
    "    with out:\n",
    "        print(\"El garaje está hecho un asco.\")\n",
    "        if not escoba_rota:\n",
    "            print(\"La escoba está en buen estado. Limpiando el garaje...\")\n",
    "        elif escoba_rota and not garaje_hecho_un_asco:\n",
    "            print(\"La escoba tiene el mango roto.\")\n",
    "            print(\"Cogiendo las herramientas del garaje...\")\n",
    "            arreglar_mango_escoba()\n",
    "            print(\"Limpiando el garaje con la escoba reparada...\")\n",
    "            # Lógica para limpiar el garaje después de arreglar la escoba\n",
    "            limpiar_garaje(escoba_rota, garaje_hecho_un_asco, i)\n",
    "        elif i < 15:\n",
    "            print(\"Vas a limpiarlo, pero la escoba tiene el mango roto.\")\n",
    "            print(\"Vas a por las herramientas que están en el garaje, pero está hecho un asco y no encuentras las herramientas.\")\n",
    "            limpiar_garaje(escoba_rota, garaje_hecho_un_asco, i+1)\n",
    "    if i == 15:\n",
    "        print(\"A LA ****** EL GARAJE.\")\n",
    "\n",
    "def arreglar_mango_escoba():\n",
    "    with out:\n",
    "        print(\"Arreglando el mango de la escoba...\")\n",
    "        escoba_rota = False\n",
    "\n",
    "\n",
    "# Container for inputs\n",
    "input_container = widgets.VBox()\n",
    "out = widgets.Output()\n",
    "\n",
    "# Function to handle button clicks\n",
    "def on_button_clicked(_):\n",
    "    limpiar_garaje(True,True,1)\n",
    "\n",
    "\n",
    "\n",
    "# Create a button widget\n",
    "button = widgets.Button(\n",
    "    description='¡Limpia el garaje, guarro!',\n",
    "    icon='hand-o-up',\n",
    "    layout=widgets.Layout(width='300px')\n",
    ")\n",
    "\n",
    "# Link button and function together\n",
    "button.on_click(on_button_clicked)\n",
    "\n",
    "# Display the button, input container, and output\n",
    "display(button, out)\n"
   ]
  },
  {
   "cell_type": "markdown",
   "id": "b209587f-039c-4f70-9ecb-918ebef934e8",
   "metadata": {},
   "source": [
    "¿Qué problema ha surgido aquí? Hemos definido mal la lógica, no teniendo en cuenta soluciones como comprar una escoba nueva o llenarse de telarañas buscando las herramientas. Es decir, hemos hecho un mal modelado.<br>\n",
    "En el caso del backtracking, una lógica mal definida puede ocasionar que, como ha pasado aquí, el árbol se expanda de manera infinita por una rama en busca de una solución y nunca llegue a terminar su ejecución, por lo que es **vital** definir correctamente los casos."
   ]
  },
  {
   "cell_type": "code",
   "execution_count": 6,
   "id": "4ccf2883-89ff-4d79-931f-294293620746",
   "metadata": {},
   "outputs": [
    {
     "data": {
      "application/vnd.jupyter.widget-view+json": {
       "model_id": "abfdb50297ec49f4994269a87effb5df",
       "version_major": 2,
       "version_minor": 0
      },
      "text/plain": [
       "Output()"
      ]
     },
     "metadata": {},
     "output_type": "display_data"
    }
   ],
   "source": [
    "import ipywidgets as widgets\n",
    "from IPython.display import display, clear_output\n",
    "\n",
    "quizzes = [\n",
    "    {\n",
    "        'question': '¿Qué nodos visitaremos en este árbol para llegar al objetivo, si el objetivo es el nodo 6?',\n",
    "        'options': [ '1,7,8,9,10,6', '1,2,6','1,2,3,4,3,5,3,2,6', '1,2,3,4,5,6'],\n",
    "        'correct_option': '1,2,3,4,3,5,3,2,6',\n",
    "        'image_path': 'imagenes/prof1.png'\n",
    "    },\n",
    "    {\n",
    "        'question': '¿Qué nodos visitaremos en este árbol para llegar al objetivo, si el objetivo es el nodo 8?',\n",
    "        'options': ['1,8', '1,2,3,4,3,5,3,2,6,2,1,7,1,8', '1,2,3,4,3,5,2,1,7,8', '1,2,3,4,5,6,7,8'],\n",
    "        'correct_option': '1,2,3,4,3,5,3,2,6,2,1,7,1,8',\n",
    "        'image_path': 'imagenes/prof1.png'\n",
    "    },\n",
    "    {\n",
    "        'question': '¿Qué nodos visitaremos en este árbol para llegar al objetivo, si el objetivo es el nodo 5?',\n",
    "        'options': ['1,2,3,4,5', '1,2,3,5', '1,2,3,4,3,5', '1,2,6,3,5'],\n",
    "        'correct_option': '1,2,3,4,3,5',\n",
    "        'image_path': 'imagenes/prof1.png'\n",
    "    }\n",
    "]\n",
    "\n",
    "current_question_index = 0\n",
    "\n",
    "out = widgets.Output()\n",
    "\n",
    "def create_quiz():\n",
    "    global current_question_index\n",
    "    \n",
    "    with out:\n",
    "        clear_output(wait=True)\n",
    "        \n",
    "        if current_question_index < len(quizzes):\n",
    "            quiz = quizzes[current_question_index]\n",
    "            question_label = widgets.Label(value=quiz['question'])\n",
    "            \n",
    "            image_widget = widgets.Image(\n",
    "                value=open(quiz['image_path'], 'rb').read(),\n",
    "                format='png',\n",
    "                layout=widgets.Layout(width='500px', height='300px')  # Establece el tamaño fijo\n",
    "            )\n",
    "            \n",
    "            buttons = [widgets.Button(description=option) for option in quiz['options']]\n",
    "            feedback_label = widgets.Label(value='')\n",
    "\n",
    "            def on_button_clicked(b):\n",
    "                if b.description == quiz['correct_option']:\n",
    "                    feedback_label.value = '¡Correcto!'\n",
    "                    next_question()\n",
    "                else:\n",
    "                    feedback_label.value = 'Incorrecto, intenta de nuevo.'\n",
    "            \n",
    "            for button in buttons:\n",
    "                button.on_click(on_button_clicked)\n",
    "            \n",
    "            display(widgets.VBox([image_widget, question_label] + buttons + [feedback_label],\n",
    "                                 layout=widgets.Layout(align_items='center')))\n",
    "        else:\n",
    "            display(widgets.Label(value='¡Bien hecho, fiera!'))\n",
    "\n",
    "def next_question():\n",
    "    global current_question_index\n",
    "    current_question_index += 1\n",
    "    create_quiz()\n",
    "\n",
    "create_quiz()\n",
    "\n",
    "display(out)\n"
   ]
  },
  {
   "cell_type": "markdown",
   "id": "96b4c056-430f-429c-bbd6-47d515367bc7",
   "metadata": {},
   "source": [
    "### - [Siguiente apartado - Unificación](Unificacion.ipynb)\n",
    "### - [Capítulo anterior - Sistemas basados en reglas](../Introduccion/SBR.ipynb)\n",
    "### - [Volver al índice](../Indice.ipynb)"
   ]
  },
  {
   "cell_type": "code",
   "execution_count": null,
   "id": "f89bdae1-8340-413f-a451-94c69a2292c9",
   "metadata": {},
   "outputs": [],
   "source": []
  }
 ],
 "metadata": {
  "kernelspec": {
   "display_name": "Python 3 (ipykernel)",
   "language": "python",
   "name": "python3"
  },
  "language_info": {
   "codemirror_mode": {
    "name": "ipython",
    "version": 3
   },
   "file_extension": ".py",
   "mimetype": "text/x-python",
   "name": "python",
   "nbconvert_exporter": "python",
   "pygments_lexer": "ipython3",
   "version": "3.10.4"
  }
 },
 "nbformat": 4,
 "nbformat_minor": 5
}
