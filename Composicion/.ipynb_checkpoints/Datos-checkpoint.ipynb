{
 "cells": [
  {
   "cell_type": "markdown",
   "id": "e62b145c-6512-46fe-afd1-2c97e3df3302",
   "metadata": {
    "editable": true,
    "slideshow": {
     "slide_type": ""
    },
    "tags": []
   },
   "source": [
    "# Estructuras y tipos de datos en Prolog\n",
    "Como adelantábamos anteriormente, en Prolog no tenemos \"tipos\" como tal. Tampoco estructuras. Tenemos los \"términos\", que se utilizan para representar todos los datos necesarios. El término, a su vez, será una variable, un término atómico (Átomo) o un término compuesto.\n",
    "\n",
    "## Tipos de términos.\n",
    "### Términos atómicos\n",
    "En este caso, cabo hacer una pequeña distinción entre los distintos términos atómicos. Los términos atómicos pueden diferenciarse entre átomos y números.\n",
    "#### Átomos\n",
    "En Prolog, los átomos son un concepto paraguas que engloban secuencias de caracteres entendidas como una única unidad sin significado inherente. La lista vacía, por ejemplo, es un átomo. \n",
    "#### Números\n",
    "Serán todos los números enteros y los de coma flotante.\n",
    "#### Variables\n",
    "En Prolog, las variables se declaran como Strings cuya inicial es una mayúscula un guión bajo.\n",
    "#### Términos compuestos\n",
    "Sin entrar en formalismos y por simplificar la cuestión, los términos compuestos se construyen a partir de un átomo e incorporan una serie de argumentos. (Insertar chiste sobre analogía entre términos compuestos y funciones/ procedimientos). El fin principal de los mismos es representar estructuras. Las listas, por ejemplo, son un tipo de término compuesto a partir del átomo de la lista vacía, siendo los elementos de la lista los argumentos. Los hechos y las reglas también son términos compuestos.\n",
    "\n",
    " "
   ]
  }
 ],
 "metadata": {
  "kernelspec": {
   "display_name": "Python 3 (ipykernel)",
   "language": "python",
   "name": "python3"
  },
  "language_info": {
   "codemirror_mode": {
    "name": "ipython",
    "version": 3
   },
   "file_extension": ".py",
   "mimetype": "text/x-python",
   "name": "python",
   "nbconvert_exporter": "python",
   "pygments_lexer": "ipython3",
   "version": "3.10.4"
  }
 },
 "nbformat": 4,
 "nbformat_minor": 5
}
