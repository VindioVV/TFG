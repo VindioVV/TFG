{
 "cells": [
  {
   "cell_type": "markdown",
   "id": "53426d22-1f41-459e-a4d6-81e7c475b2e1",
   "metadata": {
    "editable": true,
    "slideshow": {
     "slide_type": ""
    },
    "tags": []
   },
   "source": [
    "Meter caña con el funcionamiento del mecanismo de unificación y explicar las cláusulas de Horn."
   ]
  },
  {
   "cell_type": "markdown",
   "id": "5fe87b18-778b-493a-a11d-2b86372c6aaa",
   "metadata": {},
   "source": [
    "# Unificación"
   ]
  },
  {
   "cell_type": "markdown",
   "id": "49c1f735-738b-4593-b537-84c1d25a94ac",
   "metadata": {},
   "source": [
    "Estoy seguro de que llevas un buen rato preguntándote qué es eso de la unificación. No te preocupes, !vamos a hacer que desees no haberte hecho esa pregunta!.<br>\n",
    "El mecanismo de unificación en el ámbito de la programación lógica consiste, simplemente, en buscar una asignación que permita que dos términos se vuelvan idénticos.<br>\n",
    "¿Qué son los términos, dices? Pues vamos con ello.<br>\n",
    "Los términos en Prolog son el \"todo\". No tenemos estructuras de datos. **Todo** son términos. Las variables, los hechos, las reglas, los números, carácteres, listas, strings... Aunque pueda parecer contrario a la programación(Puede parecer poco modular el meter todos los tipos de datos en el mismo saco), que todo este a un mismo \"nivel\" es lo que nos permite utilizar la unificación de manera efectiva.<br>\n",
    "Diferenciamos dos tipos de términos fundamentalmente, los términos **atómicos** y los términos **compuestos**.\n",
    "\n",
    "### Términos atómicos\n",
    "#### Átomos\n",
    "En Prolog, los átomos son un concepto paraguas que engloban secuencias de caracteres entendidas como una única unidad sin significado inherente. La lista vacía, por ejemplo, es un átomo. Una variable cualquiera también será un átomo. Desde la perspectiva de Prolog, el átomo es la unidad mínima computacional.\n",
    "#### Números\n",
    "Los números son un átomo especial, que conforman los enteros y los números de coma flotante. Son \"especiales\" en el sentido de que si tienen un significado inherente(Representar una cantidad) y pueden formar parte de expresiones aritméticas, aunque su tratamiento será esencialmente el mismo.\n",
    "#### Términos compuestos\n",
    "Sin entrar en formalismos y por simplificar la cuestión, los términos compuestos se construyen a partir de un átomo e incorporan una serie de argumentos. (Insertar chiste sobre analogía entre términos compuestos y funciones/ procedimientos). El fin principal de los mismos es representar estructuras.<br>\n",
    "Las listas, por ejemplo, son un tipo de término compuesto a partir del átomo de la lista vacía, siendo los elementos de la lista los argumentos. Los hechos y las reglas también son términos compuestos.<br>\n",
    "\n",
    "¿Cómo interpretamos esta información?<br>\n",
    "Este es un punto importante. De manera natural, cualquier persona entenderá que \"5\" y \"3+2\" son equivalentes, pero cuando trabajamos con unificación la comparación se hace a machete. Si tratamos de unificar (es decir, comprobar si nuestros dos términos pueden ser equivalentes) \"5\" y \"3+2\", el resultado será **falso**, dado que la comparación es literalmente entre un **átomo** (El número 5), y un **término compuesto** (La suma \"3+2\").\n",
    "\n",
    "## Poner recuadro con ejemplo en prolog en donde el alumno cree la query 5 = 3+2\n",
    "\n",
    "\n",
    "\n"
   ]
  },
  {
   "cell_type": "markdown",
   "id": "6b19c366-9048-4435-8bc2-adf2c83f9ead",
   "metadata": {},
   "source": []
  },
  {
   "cell_type": "markdown",
   "id": "6c77dd0d-f9ef-455b-bdd0-f616ea29cf51",
   "metadata": {},
   "source": [
    "Es fundamental tener este ejemplo en mente en todo momento, dado que en un futuro podemos tener un error en nuestro código que aparentemente no exista, pero nos impida el correcto funcionamiento de nuestros programas."
   ]
  },
  {
   "cell_type": "markdown",
   "id": "2d4efa3b-1290-4565-ba59-a9c057ef8e59",
   "metadata": {},
   "source": [
    "## Cláusulas de Horn.\n",
    "Las cláusulas de Horn son fórmulas en lógica de primer orden con una característica particular, tienen a lo sumo un literal positivo.<br>\n",
    "Para que nos entendamos, "
   ]
  }
 ],
 "metadata": {
  "kernelspec": {
   "display_name": "Python 3 (ipykernel)",
   "language": "python",
   "name": "python3"
  },
  "language_info": {
   "codemirror_mode": {
    "name": "ipython",
    "version": 3
   },
   "file_extension": ".py",
   "mimetype": "text/x-python",
   "name": "python",
   "nbconvert_exporter": "python",
   "pygments_lexer": "ipython3",
   "version": "3.10.4"
  }
 },
 "nbformat": 4,
 "nbformat_minor": 5
}
