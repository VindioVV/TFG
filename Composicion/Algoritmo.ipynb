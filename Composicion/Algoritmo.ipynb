{
 "cells": [
  {
   "cell_type": "code",
   "execution_count": null,
   "id": "2bdcacdf-d571-4d67-be0c-0dc3278dee69",
   "metadata": {},
   "outputs": [],
   "source": [
    "from IPython.display import display, HTML\n",
    "\n",
    "display(HTML('''\n",
    "<style>\n",
    "    .jp-Notebook {\n",
    "        background-color: #0000f0; /* Change to your desired background color */\n",
    "    }\n",
    "    .jp-Cell {\n",
    "        background-color: #ffffff; /* Optional: Set a different color for the cells */\n",
    "        color: #000000; /* Optional: Set the text color */\n",
    "        padding: 10px;\n",
    "        border-radius: 5px;\n",
    "    }\n",
    "</style>\n",
    "'''))\n"
   ]
  },
  {
   "cell_type": "code",
   "execution_count": 4,
   "id": "97660b6c-9bec-4af7-98d8-eaacd36236af",
   "metadata": {},
   "outputs": [
    {
     "data": {
      "text/html": [
       "\n",
       "<style>\n",
       "    body.jp-Notebook {\n",
       "        background-image: url('https://olondriz.com/tu-perrito-ambar/');\n",
       "        background-size: cover;\n",
       "        background-repeat: no-repeat;\n",
       "    }\n",
       "    .jp-Notebook .jp-Cell {\n",
       "        background: rgba(255, 255, 255, 0.8); /* Fondo blanco con opacidad para la celda */\n",
       "        color: black;\n",
       "        border-radius: 10px;\n",
       "        padding: 10px;\n",
       "    }\n",
       "</style>\n"
      ],
      "text/plain": [
       "<IPython.core.display.HTML object>"
      ]
     },
     "metadata": {},
     "output_type": "display_data"
    }
   ],
   "source": [
    "from IPython.display import display, HTML\n",
    "\n",
    "display(HTML('''\n",
    "<style>\n",
    "    body.jp-Notebook {\n",
    "        background-image: url('https://olondriz.com/tu-perrito-ambar/');\n",
    "        background-size: cover;\n",
    "        background-repeat: no-repeat;\n",
    "    }\n",
    "    .jp-Notebook .jp-Cell {\n",
    "        background: rgba(255, 255, 255, 0.8); /* Fondo blanco con opacidad para la celda */\n",
    "        color: black;\n",
    "        border-radius: 10px;\n",
    "        padding: 10px;\n",
    "    }\n",
    "</style>\n",
    "'''))\n"
   ]
  },
  {
   "cell_type": "markdown",
   "id": "3f71c928-bf1d-4023-97f8-5be34e6f5cb2",
   "metadata": {
    "editable": true,
    "slideshow": {
     "slide_type": ""
    },
    "tags": []
   },
   "source": [
    "Explicar el árbol de resolución y los tipos de encadenamientos.\n",
    "Explicar también algoritmo de unificación de manera más formal.\n",
    "Tipo de algoritmo de Prolog(Robinson?), planchar el algoritmo de forma casual y luego desgranar los pasos."
   ]
  },
  {
   "cell_type": "code",
   "execution_count": 5,
   "id": "ed08862b-f756-421e-b44a-c11067a8d756",
   "metadata": {
    "editable": true,
    "slideshow": {
     "slide_type": ""
    },
    "tags": []
   },
   "outputs": [
    {
     "ename": "ModuleNotFoundError",
     "evalue": "No module named 'jupyterthemes'",
     "output_type": "error",
     "traceback": [
      "\u001b[1;31m---------------------------------------------------------------------------\u001b[0m",
      "\u001b[1;31mModuleNotFoundError\u001b[0m                       Traceback (most recent call last)",
      "Cell \u001b[1;32mIn [5], line 1\u001b[0m\n\u001b[1;32m----> 1\u001b[0m \u001b[38;5;28;01mfrom\u001b[39;00m \u001b[38;5;21;01mjupyterthemes\u001b[39;00m \u001b[38;5;28;01mimport\u001b[39;00m get_themes\n\u001b[0;32m      2\u001b[0m \u001b[38;5;28;01mimport\u001b[39;00m \u001b[38;5;21;01mjupyterthemes\u001b[39;00m \u001b[38;5;28;01mas\u001b[39;00m \u001b[38;5;21;01mjt\u001b[39;00m\n\u001b[0;32m      3\u001b[0m \u001b[38;5;28;01mfrom\u001b[39;00m \u001b[38;5;21;01mjupyterthemes\u001b[39;00m\u001b[38;5;21;01m.\u001b[39;00m\u001b[38;5;21;01mstylefx\u001b[39;00m \u001b[38;5;28;01mimport\u001b[39;00m set_nb_theme\n",
      "\u001b[1;31mModuleNotFoundError\u001b[0m: No module named 'jupyterthemes'"
     ]
    }
   ],
   "source": []
  },
  {
   "cell_type": "code",
   "execution_count": null,
   "id": "e0130996-739e-492b-b250-e1f846f13f6a",
   "metadata": {},
   "outputs": [],
   "source": []
  }
 ],
 "metadata": {
  "kernelspec": {
   "display_name": "Python 3 (ipykernel)",
   "language": "python",
   "name": "python3"
  },
  "language_info": {
   "codemirror_mode": {
    "name": "ipython",
    "version": 3
   },
   "file_extension": ".py",
   "mimetype": "text/x-python",
   "name": "python",
   "nbconvert_exporter": "python",
   "pygments_lexer": "ipython3",
   "version": "3.10.4"
  }
 },
 "nbformat": 4,
 "nbformat_minor": 5
}
