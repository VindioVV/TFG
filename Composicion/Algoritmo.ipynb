{
 "cells": [
  {
   "cell_type": "code",
   "execution_count": null,
   "id": "318e600c-6590-4be7-b0fb-4e94cd93ad50",
   "metadata": {},
   "outputs": [],
   "source": [
    "Explicar el árbol de resolución y los tipos de encadenamientos.\n",
    "Explicar también algoritmo de unificación de manera más formal.\n",
    "Tipo de algoritmo de Prolog(Robinson?), planchar el algoritmo tal cual y luego desgranar los pasos"
   ]
  }
 ],
 "metadata": {
  "kernelspec": {
   "display_name": "Python 3 (ipykernel)",
   "language": "python",
   "name": "python3"
  },
  "language_info": {
   "codemirror_mode": {
    "name": "ipython",
    "version": 3
   },
   "file_extension": ".py",
   "mimetype": "text/x-python",
   "name": "python",
   "nbconvert_exporter": "python",
   "pygments_lexer": "ipython3",
   "version": "3.10.4"
  }
 },
 "nbformat": 4,
 "nbformat_minor": 5
}
